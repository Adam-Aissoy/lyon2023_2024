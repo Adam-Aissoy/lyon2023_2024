{
 "cells": [
  {
   "attachments": {},
   "cell_type": "markdown",
   "id": "8eae83f5",
   "metadata": {
    "deletable": false,
    "editable": false,
    "nbgrader": {
     "cell_type": "markdown",
     "checksum": "a02eee69b109bf32a570ef67666a91e6",
     "grade": false,
     "grade_id": "cell-ca56189eee99a8af",
     "locked": true,
     "schema_version": 3,
     "solution": false,
     "task": false
    }
   },
   "source": [
    "![logo](/images/logoUCB.png)\n",
    "# Licence L2, Université  Lyon 1 \n",
    "# [Statistiques pour l'informatique]"
   ]
  },
  {
   "attachments": {},
   "cell_type": "markdown",
   "id": "9e02771d",
   "metadata": {
    "deletable": false,
    "editable": false,
    "nbgrader": {
     "cell_type": "markdown",
     "checksum": "5331b4ac34ff4659b8f8c95b29d9889e",
     "grade": false,
     "grade_id": "cell-28f4c2580311e731",
     "locked": true,
     "schema_version": 3,
     "solution": false,
     "task": false
    }
   },
   "source": [
    "## Consignes pour les étudiants\n",
    "\n",
    "1. **Exécution**\n",
    "\n",
    "**Exécuter toujours tout le notebook depuis le début** (en appuyant sur le bouton **`Executer`** ou **Run**). En effet un notebook est un programme et pas une simple page HTML qui doit s'exécuter dans l'ordre du début à la fin.\n",
    "\n",
    "2. **En cas de problème**\n",
    "Tout d'abord, redémarrez le noyau (dans la barre de menus, sélectionnez **`Noyau -> Redémarer`** ou  **`Kernel -> Restart`**),\n",
    "puis exécutez toutes les cellules (dans la barre de menus, sélectionnez **`Cellule -> Executer tout`** ou **`Cellule -> Run All`**)."
   ]
  },
  {
   "cell_type": "code",
   "execution_count": 1,
   "id": "40425bc2",
   "metadata": {
    "deletable": false,
    "editable": false,
    "nbgrader": {
     "cell_type": "code",
     "checksum": "a7dc49d7fb58d297744a42cf748bd054",
     "grade": false,
     "grade_id": "cell-19507cafbc2abb70",
     "locked": true,
     "schema_version": 3,
     "solution": false,
     "task": false
    }
   },
   "outputs": [
    {
     "ename": "ModuleNotFoundError",
     "evalue": "No module named 'validation'",
     "output_type": "error",
     "traceback": [
      "\u001b[1;31m---------------------------------------------------------------------------\u001b[0m",
      "\u001b[1;31mModuleNotFoundError\u001b[0m                       Traceback (most recent call last)",
      "\u001b[1;32md:\\Dossiers Adam\\Lyon\\2023 2024\\lyon2023_2024\\Sta\\tp\\tp1\\TP-01.ipynb Cell 3\u001b[0m line \u001b[0;36m1\n\u001b[1;32m----> <a href='vscode-notebook-cell:/d%3A/Dossiers%20Adam/Lyon/2023%202024/lyon2023_2024/Sta/tp/tp1/TP-01.ipynb#W2sZmlsZQ%3D%3D?line=0'>1</a>\u001b[0m \u001b[39mfrom\u001b[39;00m \u001b[39mvalidation\u001b[39;00m\u001b[39m.\u001b[39;00m\u001b[39mvalidation\u001b[39;00m \u001b[39mimport\u001b[39;00m info_etudiant\n\u001b[0;32m      <a href='vscode-notebook-cell:/d%3A/Dossiers%20Adam/Lyon/2023%202024/lyon2023_2024/Sta/tp/tp1/TP-01.ipynb#W2sZmlsZQ%3D%3D?line=1'>2</a>\u001b[0m NOM, PRENOM, NUMERO_ETUDIANT \u001b[39m=\u001b[39m info_etudiant()\n\u001b[0;32m      <a href='vscode-notebook-cell:/d%3A/Dossiers%20Adam/Lyon/2023%202024/lyon2023_2024/Sta/tp/tp1/TP-01.ipynb#W2sZmlsZQ%3D%3D?line=2'>3</a>\u001b[0m \u001b[39mprint\u001b[39m(\u001b[39m\"\u001b[39m\u001b[39mEtudiant \u001b[39m\u001b[39m{}\u001b[39;00m\u001b[39m \u001b[39m\u001b[39m{}\u001b[39;00m\u001b[39m  id=\u001b[39m\u001b[39m{}\u001b[39;00m\u001b[39m\"\u001b[39m\u001b[39m.\u001b[39mformat(NOM,PRENOM,NUMERO_ETUDIANT))\n",
      "\u001b[1;31mModuleNotFoundError\u001b[0m: No module named 'validation'"
     ]
    }
   ],
   "source": [
    "from validation.validation import info_etudiant\n",
    "NOM, PRENOM, NUMERO_ETUDIANT = info_etudiant()\n",
    "print(\"Etudiant {} {}  id={}\".format(NOM,PRENOM,NUMERO_ETUDIANT))"
   ]
  },
  {
   "attachments": {},
   "cell_type": "markdown",
   "id": "326f322c",
   "metadata": {},
   "source": [
    "<hr>"
   ]
  },
  {
   "attachments": {},
   "cell_type": "markdown",
   "id": "001bb1b3",
   "metadata": {
    "deletable": false,
    "editable": false,
    "nbgrader": {
     "cell_type": "markdown",
     "checksum": "5aa6e2884060b931f26bf7bf3620bf12",
     "grade": false,
     "grade_id": "cell-c35ffdc0dc2a4d91",
     "locked": true,
     "schema_version": 3,
     "solution": false,
     "task": false
    }
   },
   "source": [
    "# Fonctionnement des Travaux Pratiques"
   ]
  },
  {
   "attachments": {},
   "cell_type": "markdown",
   "id": "34c6137d",
   "metadata": {
    "deletable": false,
    "editable": false,
    "nbgrader": {
     "cell_type": "markdown",
     "checksum": "db115718df983022f4438491d7d393c5",
     "grade": false,
     "grade_id": "cell-05860907013cbe76",
     "locked": true,
     "schema_version": 3,
     "solution": false,
     "task": false
    }
   },
   "source": [
    "Compléter le code après la ligne <code> # YOUR CODE GOES HERE </code>.  \n",
    "Une fois votre code écrit, supprimer la ligne <code> raise NotImplementedError() </code> avant d'exécuter.\n",
    "\n",
    "Lien vers le cours : [site](https://licence-math.univ-lyon1.fr/doku.php?id=a23:s3_stats_pour_info:page)\n",
    "\n",
    "Dans les cellules suivantes une explication des tests est donnée:"
   ]
  },
  {
   "cell_type": "code",
   "execution_count": 2,
   "id": "14b793c0",
   "metadata": {},
   "outputs": [
    {
     "name": "stdout",
     "output_type": "stream",
     "text": [
      "je suis ici  and i am happy\n"
     ]
    }
   ],
   "source": [
    "print(\"je suis ici  and i am happy\")"
   ]
  },
  {
   "attachments": {},
   "cell_type": "markdown",
   "id": "de194613",
   "metadata": {
    "deletable": false,
    "editable": false,
    "nbgrader": {
     "cell_type": "markdown",
     "checksum": "a5acda40095afceb6dcb883c4c611de0",
     "grade": false,
     "grade_id": "cell-7fc5663aa969c0b0",
     "locked": true,
     "schema_version": 3,
     "solution": false,
     "task": false
    }
   },
   "source": [
    "Qui a gagné le tour de France de 2023 ?\n",
    "- 'A': Jonas Vingegaard \n",
    "- 'B': Tadej Pogačar \n",
    "- 'C': Thibaut Pinot "
   ]
  },
  {
   "attachments": {},
   "cell_type": "markdown",
   "id": "93194539",
   "metadata": {
    "deletable": false,
    "editable": false,
    "nbgrader": {
     "cell_type": "markdown",
     "checksum": "1b208c3b906af48e7ae33d88381269dd",
     "grade": false,
     "grade_id": "cell-2fb9c1fce7eb2191",
     "locked": true,
     "schema_version": 3,
     "solution": false,
     "task": false
    }
   },
   "source": [
    "Quand la réponse est juste, aucun message d'erreur ne s'affiche."
   ]
  },
  {
   "cell_type": "code",
   "execution_count": 2,
   "id": "e4314f14",
   "metadata": {
    "deletable": false,
    "editable": false,
    "nbgrader": {
     "cell_type": "code",
     "checksum": "ec403a30130bac358ef3ce07b655d95b",
     "grade": false,
     "grade_id": "cell-a7f0fc74bfedcdd9",
     "locked": true,
     "schema_version": 3,
     "solution": false,
     "task": false
    }
   },
   "outputs": [],
   "source": [
    "ReponseQuestionTest = 'A'\n",
    "assert(ReponseQuestionTest=='A')"
   ]
  },
  {
   "attachments": {},
   "cell_type": "markdown",
   "id": "72859181",
   "metadata": {
    "deletable": false,
    "editable": false,
    "nbgrader": {
     "cell_type": "markdown",
     "checksum": "8d1ebd79d0cf138ca1010d67be8e67df",
     "grade": false,
     "grade_id": "cell-cf0da53bff1720b9",
     "locked": true,
     "schema_version": 3,
     "solution": false,
     "task": false
    }
   },
   "source": [
    "Quand la réponse est fausse, un message d'erreur s'affiche."
   ]
  },
  {
   "cell_type": "code",
   "execution_count": 3,
   "id": "745d5918",
   "metadata": {
    "deletable": false,
    "editable": false,
    "nbgrader": {
     "cell_type": "code",
     "checksum": "87027a51c834eb882ab4dab03bf5c69f",
     "grade": false,
     "grade_id": "cell-4a6184e5b6e801d8",
     "locked": true,
     "schema_version": 3,
     "solution": false,
     "task": false
    }
   },
   "outputs": [
    {
     "ename": "AssertionError",
     "evalue": "",
     "output_type": "error",
     "traceback": [
      "\u001b[0;31m---------------------------------------------------------------------------\u001b[0m",
      "\u001b[0;31mAssertionError\u001b[0m                            Traceback (most recent call last)",
      "Cell \u001b[0;32mIn[3], line 2\u001b[0m\n\u001b[1;32m      1\u001b[0m ReponseQuestionTest \u001b[38;5;241m=\u001b[39m \u001b[38;5;124m'\u001b[39m\u001b[38;5;124mB\u001b[39m\u001b[38;5;124m'\u001b[39m\n\u001b[0;32m----> 2\u001b[0m \u001b[38;5;28;01massert\u001b[39;00m(ReponseQuestionTest\u001b[38;5;241m==\u001b[39m\u001b[38;5;124m'\u001b[39m\u001b[38;5;124mA\u001b[39m\u001b[38;5;124m'\u001b[39m)\n",
      "\u001b[0;31mAssertionError\u001b[0m: "
     ]
    }
   ],
   "source": [
    "ReponseQuestionTest = 'B'\n",
    "assert(ReponseQuestionTest=='A')"
   ]
  },
  {
   "attachments": {},
   "cell_type": "markdown",
   "id": "82daa78c",
   "metadata": {
    "deletable": false,
    "editable": false,
    "nbgrader": {
     "cell_type": "markdown",
     "checksum": "ec24865d24e55ac890a62c54de4a3e1e",
     "grade": false,
     "grade_id": "cell-dc936ee6f6779d4e",
     "locked": true,
     "schema_version": 3,
     "solution": false,
     "task": false
    }
   },
   "source": [
    "<div class=\"alert alert-block alert-danger\">\n",
    "<b>Attention:</b> Il faut répondre 'A' ou 'B' ou 'C'.</div>"
   ]
  },
  {
   "cell_type": "code",
   "execution_count": null,
   "id": "926dbd3e",
   "metadata": {
    "deletable": false,
    "editable": false,
    "nbgrader": {
     "cell_type": "code",
     "checksum": "a377598604084585d7de8bf833f0c0e4",
     "grade": false,
     "grade_id": "cell-eb25c403a82fe007",
     "locked": true,
     "schema_version": 3,
     "solution": false,
     "task": false
    }
   },
   "outputs": [],
   "source": [
    "ReponseQuestionTest = A\n",
    "assert(ReponseQuestionTest=='A')"
   ]
  },
  {
   "attachments": {},
   "cell_type": "markdown",
   "id": "a415c358",
   "metadata": {
    "deletable": false,
    "editable": false,
    "nbgrader": {
     "cell_type": "markdown",
     "checksum": "425b69153a499069dd7c95b79f9f5ace",
     "grade": false,
     "grade_id": "cell-ffc38e3ec8d71c53",
     "locked": true,
     "schema_version": 3,
     "solution": false,
     "task": false
    }
   },
   "source": [
    "<hr>"
   ]
  },
  {
   "attachments": {},
   "cell_type": "markdown",
   "id": "03f8cdff",
   "metadata": {
    "deletable": false,
    "editable": false,
    "nbgrader": {
     "cell_type": "markdown",
     "checksum": "5676bc8314a9f305fee097461a4c2422",
     "grade": false,
     "grade_id": "cell-0a98faa36d5019ba",
     "locked": true,
     "schema_version": 3,
     "solution": false,
     "task": false
    }
   },
   "source": [
    "# Exercice 1 : Quelques notions de base de python"
   ]
  },
  {
   "attachments": {},
   "cell_type": "markdown",
   "id": "6220cff6",
   "metadata": {
    "deletable": false,
    "editable": false,
    "nbgrader": {
     "cell_type": "markdown",
     "checksum": "e2f730ec3485408564f305dd621a1f8a",
     "grade": false,
     "grade_id": "cell-f4f549cd3950d6fb",
     "locked": true,
     "schema_version": 3,
     "solution": false,
     "task": false
    }
   },
   "source": [
    "1. Boucle *for* : Que font les codes suivants :\n",
    "\n",
    "* Code 1 :\n",
    "<p style=\"background:#F3F3F3;\" >\n",
    "<code style=\"background:#F3F3F3;\">for i in [0,1,2,3]:\n",
    "    print(i) </code> </p>  \n",
    "\n",
    "\n",
    "* Code 2 : \n",
    "<p style=\"background:#F3F3F3;\" >\n",
    "<code style=\"background:#F3F3F3;\">for j in range(4):\n",
    "    print(j) </code> </p>\n",
    "\n",
    "\n",
    "*Attention l'indentation peut s'avérer erronée lors de la copie, si le* <code> print </code> *n'apparait pas en vert corriger.* \n",
    "    \n",
    "    "
   ]
  },
  {
   "cell_type": "code",
   "execution_count": 19,
   "id": "0ba1e7bd",
   "metadata": {
    "deletable": false,
    "nbgrader": {
     "cell_type": "code",
     "checksum": "7d2cdcdcd560d372be45ab8451c5343d",
     "grade": false,
     "grade_id": "cell-6b586ed23d37357c",
     "locked": false,
     "schema_version": 3,
     "solution": true,
     "task": false
    }
   },
   "outputs": [
    {
     "name": "stdout",
     "output_type": "stream",
     "text": [
      "0\n",
      "1\n",
      "2\n",
      "3\n",
      "0\n",
      "1\n",
      "2\n",
      "3\n"
     ]
    }
   ],
   "source": [
    "# Question 1 :\n",
    "# YOUR CODE HERE\n",
    "for i in [0,1,2,3]:\n",
    "  print(i) \n",
    "## that's similaire\n",
    "\n",
    "for j in range(4):\n",
    "  print(j)\n"
   ]
  },
  {
   "attachments": {},
   "cell_type": "markdown",
   "id": "3dba1dc9",
   "metadata": {
    "deletable": false,
    "editable": false,
    "nbgrader": {
     "cell_type": "markdown",
     "checksum": "0dba4742022aa0630e96794ac03e3b5e",
     "grade": false,
     "grade_id": "cell-57f60fc85c89f94e",
     "locked": true,
     "schema_version": 3,
     "solution": false,
     "task": false
    }
   },
   "source": [
    "2. Condition *if* : Que fait le code suivant:\n",
    "\n",
    "<p style=\"background:#F3F3F3\">\n",
    "<code style=\"background:#F3F3F3;\"># Code à recopier\n",
    "a= 8\n",
    "if a>4:\n",
    "    print(\"a est plus grand que 4\")\n",
    "else:\n",
    "    print(\"a est plus petit ou egal a 4\")</code> </p>"
   ]
  },
  {
   "cell_type": "code",
   "execution_count": 20,
   "id": "2b5d537d",
   "metadata": {
    "deletable": false,
    "nbgrader": {
     "cell_type": "code",
     "checksum": "f643353ab796ea5eeee8a8271bdd60f0",
     "grade": false,
     "grade_id": "cell-dee616af522a520a",
     "locked": false,
     "schema_version": 3,
     "solution": true,
     "task": false
    }
   },
   "outputs": [
    {
     "name": "stdout",
     "output_type": "stream",
     "text": [
      "a est plus grand que 4\n"
     ]
    }
   ],
   "source": [
    "# Question 2\n",
    "\n",
    "# YOUR CODE HERE\n",
    "a= 8\n",
    "if a>4:\n",
    "    print(\"a est plus grand que 4\")\n",
    "else:\n",
    "    print(\"a est plus petit ou egal a 4\")\n"
   ]
  },
  {
   "attachments": {},
   "cell_type": "markdown",
   "id": "7f666dff",
   "metadata": {
    "deletable": false,
    "editable": false,
    "nbgrader": {
     "cell_type": "markdown",
     "checksum": "050a11ec74a7440c626e703fed00be19",
     "grade": false,
     "grade_id": "cell-177d21c2a3d8a1d6",
     "locked": true,
     "schema_version": 3,
     "solution": false,
     "task": false
    }
   },
   "source": [
    "3. *Indentation* :  Python utilise l’indentation pour comprendre la fin des boucles, conditions, fonctions...   \n",
    "Tester le code suivant, et corriger l’erreur.\n",
    "\n",
    "<p style=\"background:#F3F3F3;margin-left: -0.5em;\" ><code style=\"background:#F3F3F3;\"># Code à recopier\n",
    "for i in range(10):\n",
    "if not i==4:\n",
    "print(i)</code> </p>"
   ]
  },
  {
   "cell_type": "code",
   "execution_count": 21,
   "id": "278a3674",
   "metadata": {
    "deletable": false,
    "nbgrader": {
     "cell_type": "code",
     "checksum": "1c52f443827218eecb3912168b5956a6",
     "grade": false,
     "grade_id": "cell-a06c258a39da0fd1",
     "locked": false,
     "schema_version": 3,
     "solution": true,
     "task": false
    }
   },
   "outputs": [
    {
     "name": "stdout",
     "output_type": "stream",
     "text": [
      "0\n",
      "1\n",
      "2\n",
      "3\n",
      "5\n",
      "6\n",
      "7\n",
      "8\n",
      "9\n"
     ]
    }
   ],
   "source": [
    "# Question 3\n",
    "\n",
    "# YOUR CODE HERE\n",
    "for i in range(10):\n",
    "    if not i==4:\n",
    "        print(i)\n"
   ]
  },
  {
   "attachments": {},
   "cell_type": "markdown",
   "id": "78f71b10",
   "metadata": {
    "deletable": false,
    "editable": false,
    "nbgrader": {
     "cell_type": "markdown",
     "checksum": "bc9605c24fe4e1e90ada0f43d4f9c06e",
     "grade": false,
     "grade_id": "cell-4b5fef51c82210c8",
     "locked": true,
     "schema_version": 3,
     "solution": false,
     "task": false
    }
   },
   "source": [
    "4. *Aide*: Lorsque vous cherchez comment utiliser une fonction, penser à chercher dans l’aide et sur\n",
    "internet."
   ]
  },
  {
   "cell_type": "code",
   "execution_count": 10,
   "id": "d6aa7b44",
   "metadata": {
    "deletable": false,
    "editable": false,
    "nbgrader": {
     "cell_type": "code",
     "checksum": "85159a217bb38edfea8d5e7bc5ed8eaa",
     "grade": false,
     "grade_id": "cell-937759dda80c6767",
     "locked": true,
     "schema_version": 3,
     "solution": false,
     "task": false
    }
   },
   "outputs": [
    {
     "ename": "TypeError",
     "evalue": "sum() takes at most 2 arguments (4 given)",
     "output_type": "error",
     "traceback": [
      "\u001b[0;31m---------------------------------------------------------------------------\u001b[0m",
      "\u001b[0;31mTypeError\u001b[0m                                 Traceback (most recent call last)",
      "Cell \u001b[0;32mIn[10], line 1\u001b[0m\n\u001b[0;32m----> 1\u001b[0m s \u001b[38;5;241m=\u001b[39m \u001b[38;5;28;43msum\u001b[39;49m\u001b[43m(\u001b[49m\u001b[38;5;241;43m1\u001b[39;49m\u001b[43m,\u001b[49m\u001b[38;5;241;43m2\u001b[39;49m\u001b[43m,\u001b[49m\u001b[38;5;241;43m3\u001b[39;49m\u001b[43m,\u001b[49m\u001b[38;5;241;43m4\u001b[39;49m\u001b[43m)\u001b[49m\n",
      "\u001b[0;31mTypeError\u001b[0m: sum() takes at most 2 arguments (4 given)"
     ]
    }
   ],
   "source": [
    "s = sum(1,2,3,4) #souleve une erreur"
   ]
  },
  {
   "cell_type": "code",
   "execution_count": 11,
   "id": "411b118b",
   "metadata": {
    "deletable": false,
    "editable": false,
    "nbgrader": {
     "cell_type": "code",
     "checksum": "d6105044ee083b6b80d70fac52f7a8fc",
     "grade": false,
     "grade_id": "cell-7d1155076eb29b53",
     "locked": true,
     "schema_version": 3,
     "solution": false,
     "task": false
    }
   },
   "outputs": [
    {
     "name": "stdout",
     "output_type": "stream",
     "text": [
      "Help on built-in function sum in module builtins:\n",
      "\n",
      "sum(iterable, /, start=0)\n",
      "    Return the sum of a 'start' value (default: 0) plus an iterable of numbers\n",
      "    \n",
      "    When the iterable is empty, return the start value.\n",
      "    This function is intended specifically for use with numeric values and may\n",
      "    reject non-numeric types.\n",
      "\n"
     ]
    }
   ],
   "source": [
    "help(sum)  # il lui faut un \"iterable\" par exemple une liste"
   ]
  },
  {
   "cell_type": "code",
   "execution_count": 12,
   "id": "db94453d",
   "metadata": {
    "deletable": false,
    "editable": false,
    "nbgrader": {
     "cell_type": "code",
     "checksum": "0b75aa426df4a24ef1f874f23f266db8",
     "grade": false,
     "grade_id": "cell-519ef7c3e5de6199",
     "locked": true,
     "schema_version": 3,
     "solution": false,
     "task": false
    }
   },
   "outputs": [
    {
     "name": "stdout",
     "output_type": "stream",
     "text": [
      "10\n"
     ]
    }
   ],
   "source": [
    "s = sum([1,2,3,4])\n",
    "print(s)"
   ]
  },
  {
   "attachments": {},
   "cell_type": "markdown",
   "id": "eb2ed897",
   "metadata": {
    "deletable": false,
    "editable": false,
    "nbgrader": {
     "cell_type": "markdown",
     "checksum": "1958b696d2d0d056ee85f1b0936cd066",
     "grade": false,
     "grade_id": "cell-23e85b56d7e71458",
     "locked": true,
     "schema_version": 3,
     "solution": false,
     "task": false
    }
   },
   "source": [
    "5. *Variables aléatoires*: Comprendre et expliquer le code suivant (utiliser toutes les ressources d’aide\n",
    "nécessaire pour comprendre ce que font les fonctions) :\n",
    "\n",
    "<p style=\"background:#F3F3F3\">\n",
    "<code style=\"background:#F3F3F3;\"># Code à recopier 1\n",
    "b = np.random.binomial(1,1/2,30)\n",
    "print(b) </code> </p>\n",
    "\n",
    "<p style=\"background:#F3F3F3\">\n",
    "<code style=\"background:#F3F3F3;\"># Code à recopier 2\n",
    "b = np.random.binomial(1,1/2,30)\n",
    "print(b)\n",
    "# Pourquoi est-ce différent de la première fois ?</code> </p>\n",
    "\n",
    "<p style=\"background:#F3F3F3\">\n",
    "<code style=\"background:#F3F3F3;\"># Code à recopier 3\n",
    "m = np.random.binomial(1,1/2,(4,3))\n",
    "print(m) </code> </p>"
   ]
  },
  {
   "cell_type": "code",
   "execution_count": 32,
   "id": "ce52a171",
   "metadata": {
    "deletable": false,
    "nbgrader": {
     "cell_type": "code",
     "checksum": "61d9d7850fc1ccf2af10a67e44c9a95f",
     "grade": false,
     "grade_id": "cell-2341250c4068eb5a",
     "locked": false,
     "schema_version": 3,
     "solution": true,
     "task": false
    }
   },
   "outputs": [
    {
     "name": "stdout",
     "output_type": "stream",
     "text": [
      "[0 1 1 1 0 0 1 1 1 0 0 0 1 0 1 0 1 0 0 0 0 1 1 1 0 1 1 0 0 1]\n",
      "[0 0 1 0 1 0 1 0 0 1 0 1 0 0 0 0 1 1 0 1 0 0 1 1 1 0 0 1 1 0]\n",
      "\n",
      "\n",
      "13\n",
      "\n",
      "\n",
      "[[1 0 1]\n",
      " [0 1 1]\n",
      " [1 0 1]\n",
      " [0 1 0]]\n",
      "[3 3 2 1 6]\n"
     ]
    }
   ],
   "source": [
    "# Question 5\n",
    "\n",
    "# YOUR CODE HERE\n",
    "b = np.random.binomial(1,1/2,30)\n",
    "print(b) \n",
    "b = np.random.binomial(1,1/2,30)\n",
    "print(b)\n",
    "print(\"\\n\")\n",
    "t = np.random.binomial(30,1/2)\n",
    "print(t)\n",
    "print(\"\\n\")\n",
    "m = np.random.binomial(1,1/2,(4,3))\n",
    "print(m) \n",
    "#code Adam Aysoy \n",
    "\n",
    "n = 10\n",
    "p = 0.3\n",
    "size = 5  # Vous pouvez spécifier la taille de l'échantillon que vous voulez\n",
    "\n",
    "echantillon = np.random.binomial(n, p, size)\n",
    "print(echantillon)\n",
    "\n"
   ]
  },
  {
   "attachments": {},
   "cell_type": "markdown",
   "id": "a1d0947d",
   "metadata": {
    "deletable": false,
    "editable": false,
    "nbgrader": {
     "cell_type": "markdown",
     "checksum": "c2399846dcddf298ca1631214c9842fa",
     "grade": false,
     "grade_id": "cell-ed872147244341fb",
     "locked": true,
     "schema_version": 3,
     "solution": false,
     "task": false
    }
   },
   "source": [
    "# Exercice 2 : NumPy"
   ]
  },
  {
   "attachments": {},
   "cell_type": "markdown",
   "id": "0918efe7",
   "metadata": {
    "deletable": false,
    "editable": false,
    "nbgrader": {
     "cell_type": "markdown",
     "checksum": "4980d9a67fd9f541f9e70c63c32eb6e0",
     "grade": false,
     "grade_id": "cell-77fad1e3be8dc522",
     "locked": true,
     "schema_version": 3,
     "solution": false,
     "task": false
    }
   },
   "source": [
    "Pour utiliser la bibliothèque *NumPy* il est généralement nécessaire de l'importer :"
   ]
  },
  {
   "cell_type": "code",
   "execution_count": null,
   "id": "59843991",
   "metadata": {
    "deletable": false,
    "editable": false,
    "nbgrader": {
     "cell_type": "code",
     "checksum": "f501eb41e7b72f5931de7812bd848cf1",
     "grade": false,
     "grade_id": "cell-46ce30042963b4ab",
     "locked": true,
     "schema_version": 3,
     "solution": false,
     "task": false
    }
   },
   "outputs": [],
   "source": [
    "import numpy as np"
   ]
  },
  {
   "attachments": {},
   "cell_type": "markdown",
   "id": "be1cc347",
   "metadata": {
    "deletable": false,
    "editable": false,
    "nbgrader": {
     "cell_type": "markdown",
     "checksum": "c290d0687c58d3b4a6fb824a831af426",
     "grade": false,
     "grade_id": "cell-819e6ac56c6f9195",
     "locked": true,
     "schema_version": 3,
     "solution": false,
     "task": false
    }
   },
   "source": [
    "1. Commandes de base\n",
    "\n",
    "<p style=\"background:#F3F3F3\"> <code style=\"background:#F3F3F3;\"># Code à recopier\n",
    "b = np.cos(1); print(\"b = %s\" % b)\n",
    "bb = np.sqrt(4); print(\"bb = %s\" % bb) \n",
    " </code> </p>"
   ]
  },
  {
   "cell_type": "code",
   "execution_count": 26,
   "id": "97e18dab",
   "metadata": {
    "deletable": false,
    "nbgrader": {
     "cell_type": "code",
     "checksum": "f831fa3282ca8e4a303475df19938626",
     "grade": false,
     "grade_id": "cell-3d20e3a4ae5f7f50",
     "locked": false,
     "schema_version": 3,
     "solution": true,
     "task": false
    }
   },
   "outputs": [
    {
     "name": "stdout",
     "output_type": "stream",
     "text": [
      "b = 0.5403023058681398\n",
      "bb = 2.0\n",
      "0.8775825618903728\n"
     ]
    }
   ],
   "source": [
    "# Question 1\n",
    "\n",
    "# YOUR CODE HERE\n",
    "b = np.cos(1); print(\"b = %s\" % b)\n",
    "bb = np.sqrt(4); print(\"bb = %s\" % bb) \n",
    "\n",
    "# Aysoy code \n",
    "\n",
    "\n",
    "angle_en_radians = 0.5  # Remplacez 0.5 par l'angle en radians que vous souhaitez calculer\n",
    "cos_result = np.cos(angle_en_radians)\n",
    "\n",
    "print(cos_result)\n",
    "\n"
   ]
  },
  {
   "attachments": {},
   "cell_type": "markdown",
   "id": "0473e7d0",
   "metadata": {
    "deletable": false,
    "editable": false,
    "nbgrader": {
     "cell_type": "markdown",
     "checksum": "a239f67290ec2e4dd6e38892775a744b",
     "grade": false,
     "grade_id": "cell-7f456f13b1f9b56f",
     "locked": true,
     "schema_version": 3,
     "solution": false,
     "task": false
    }
   },
   "source": [
    "2. Création de tableaux NumPy\n",
    "\n",
    "<p style=\"background:#F3F3F3\"> <code style=\"background:#F3F3F3;\"># Code à recopier 1\n",
    "u = [1, 9, -4, 0.5]\n",
    "print(2*u)\n",
    "</code> </p>\n",
    "\n",
    "<p style=\"background:#F3F3F3\"> <code style=\"background:#F3F3F3;\"># Code à recopier 2\n",
    "v = np.array([1, 9, -4, 0.5])\n",
    "print(2*v)\n",
    "print(20*\"-\")\n",
    "print(v[2])\n",
    "print(20*\"-\")\n",
    "print(v[0])\n",
    "</code> </p>\n",
    "\n",
    "<p style=\"background:#F3F3F3\"> <code style=\"background:#F3F3F3;\"># Code à recopier 3\n",
    "print(v.size)\n",
    "print(20*\"-\")\n",
    "print(np.size(v))\n",
    "print(20*\"-\")\n",
    "print(v.shape)\n",
    "# la numérotation commence à zero\n",
    "</code> </p>"
   ]
  },
  {
   "cell_type": "code",
   "execution_count": 35,
   "id": "5d03670b",
   "metadata": {
    "deletable": false,
    "nbgrader": {
     "cell_type": "code",
     "checksum": "c186fab793514c628590c605cecb7ff5",
     "grade": false,
     "grade_id": "cell-2b21537e87b7c0e8",
     "locked": false,
     "schema_version": 3,
     "solution": true,
     "task": false
    }
   },
   "outputs": [
    {
     "name": "stdout",
     "output_type": "stream",
     "text": [
      "[1, 9, -4, 0.5, 1, 9, -4, 0.5]\n",
      "[ 2. 18. -8.  1.]\n",
      "--------------------\n",
      "-4.0\n",
      "--------------------\n",
      "1.0\n",
      "4\n",
      "--------------------\n",
      "4\n",
      "--------------------\n",
      "(4,)\n"
     ]
    }
   ],
   "source": [
    "# Question 2 \n",
    "\n",
    "# YOUR CODE HERE\n",
    "u = [1, 9, -4, 0.5]\n",
    "print(2*u)\n",
    "v = np.array([1, 9, -4, 0.5])\n",
    "print(2*v)\n",
    "print(20*\"-\")\n",
    "print(v[2])\n",
    "print(20*\"-\")\n",
    "print(v[0])\n",
    "\n",
    "print(v.size)\n",
    "print(20*\"-\")\n",
    "print(np.size(v))\n",
    "print(20*\"-\")\n",
    "print(v.shape)"
   ]
  },
  {
   "attachments": {},
   "cell_type": "markdown",
   "id": "6c2781b1",
   "metadata": {
    "deletable": false,
    "editable": false,
    "nbgrader": {
     "cell_type": "markdown",
     "checksum": "92394f439a7e4d968e0a49907ec7b783",
     "grade": false,
     "grade_id": "cell-485a2d3d6abe3cef",
     "locked": true,
     "schema_version": 3,
     "solution": false,
     "task": false
    }
   },
   "source": [
    "3. Intervalles et répétitions\n",
    "\n",
    "<p style=\"background:#F3F3F3\"> <code style=\"background:#F3F3F3;\"># Code à recopier 1\n",
    "print(np.linspace(0, 2 * np.pi, 10))\n",
    "print(20*\"-\")\n",
    "print(np.linspace(20, 1, 10))\n",
    "print(20*\"-\")\n",
    "x,dx=np.linspace(0,6.3,10,retstep=True)\n",
    "print(x)\n",
    "print(20*\"-\")\n",
    "print(dx)\n",
    "</code> </p>\n",
    "\n",
    "<p style=\"background:#F3F3F3\"> <code style=\"background:#F3F3F3;\"># Code à recopier 2\n",
    "x = np.arange(0, 10, 0.5)\n",
    "print(x)\n",
    "</code> </p>\n",
    "\n",
    "<p style=\"background:#F3F3F3\"> <code style=\"background:#F3F3F3;\"># Code à recopier 3\n",
    "dx = 0.5\n",
    "x = np.arange(0, 10+dx/2, dx)\n",
    "print(x)\n",
    "</code> </p>\n",
    "\n",
    "<p style=\"background:#F3F3F3\"> <code style=\"background:#F3F3F3;\"># Code à recopier 4\n",
    "y = np.arange(10, -dx/2, -dx)\n",
    "print(y)\n",
    "</code> </p>\n",
    "\n",
    "<p style=\"background:#F3F3F3\"> <code style=\"background:#F3F3F3;\"># Code à recopier 5\n",
    "print(np.repeat(3.2, 4))\n",
    "print(20*\"-\")\n",
    "x = np.array([[1,2],[3,4]])\n",
    "print(np.repeat(x, 2))\n",
    "print(20*\"-\")\n",
    "print(np.repeat(x, 3, axis=1))\n",
    "print(20*\"-\")\n",
    "print(np.repeat(x, 4, axis=0))\n",
    "</code> </p>"
   ]
  },
  {
   "cell_type": "code",
   "execution_count": 42,
   "id": "72010bef",
   "metadata": {
    "deletable": false,
    "nbgrader": {
     "cell_type": "code",
     "checksum": "a5ef32a327b1aaca909f8b7de889fdc0",
     "grade": false,
     "grade_id": "cell-386729b6f77a5308",
     "locked": false,
     "schema_version": 3,
     "solution": true,
     "task": false
    }
   },
   "outputs": [
    {
     "name": "stdout",
     "output_type": "stream",
     "text": [
      "[0.         0.6981317  1.3962634  2.0943951  2.7925268  3.4906585\n",
      " 4.1887902  4.88692191 5.58505361 6.28318531]\n",
      "--------------------\n",
      "[20.         17.88888889 15.77777778 13.66666667 11.55555556  9.44444444\n",
      "  7.33333333  5.22222222  3.11111111  1.        ]\n",
      "--------------------\n",
      "[0.  0.7 1.4 2.1 2.8 3.5 4.2 4.9 5.6 6.3]\n",
      "--------------------\n",
      "0.7\n",
      "[10.   9.3  8.6  7.9  7.2  6.5  5.8  5.1  4.4  3.7  3.   2.3  1.6  0.9\n",
      "  0.2]\n",
      "[3.2 3.2 3.2 3.2]\n",
      "--------------------\n",
      "[1 1 2 2 3 3 4 4]\n",
      "--------------------\n",
      "[[1 1 1 2 2 2]\n",
      " [3 3 3 4 4 4]]\n",
      "--------------------\n",
      "[[1 2]\n",
      " [1 2]\n",
      " [1 2]\n",
      " [1 2]\n",
      " [3 4]\n",
      " [3 4]\n",
      " [3 4]\n",
      " [3 4]]\n",
      "\n",
      "\n",
      "code Hana Adam\n",
      "[0.         0.11111111 0.22222222 0.33333333 0.44444444 0.55555556\n",
      " 0.66666667 0.77777778 0.88888889 1.        ]\n"
     ]
    }
   ],
   "source": [
    "# Question 4\n",
    "\n",
    "# YOUR CODE HERE\n",
    "print(np.linspace(0, 2 * np.pi, 10))\n",
    "print(20*\"-\")\n",
    "print(np.linspace(20, 1, 10))\n",
    "print(20*\"-\")\n",
    "x,dx=np.linspace(0,6.3,10,retstep=True)\n",
    "print(x)\n",
    "print(20*\"-\")\n",
    "print(dx)\n",
    "y = np.arange(10, -dx/2, -dx)\n",
    "print(y)\n",
    "print(np.repeat(3.2, 4))\n",
    "print(20*\"-\")\n",
    "x = np.array([[1,2],[3,4]])\n",
    "print(np.repeat(x, 2))\n",
    "print(20*\"-\")\n",
    "print(np.repeat(x, 3, axis=1))\n",
    "print(20*\"-\")\n",
    "print(np.repeat(x, 4, axis=0))\n",
    "print(\"\\n\")\n",
    "print(\"code Hana Adam\")\n",
    "#code Adam Aysoy\n",
    "# hini da code haggui \n",
    "\n",
    "valeurs = np.linspace(0, 1, 10)\n",
    "\n",
    "print(valeurs)\n"
   ]
  },
  {
   "attachments": {},
   "cell_type": "markdown",
   "id": "baa22dd8",
   "metadata": {
    "deletable": false,
    "editable": false,
    "nbgrader": {
     "cell_type": "markdown",
     "checksum": "44e8249959c838c935ed1b9c57463e90",
     "grade": false,
     "grade_id": "cell-8b34dada9b7281a8",
     "locked": true,
     "schema_version": 3,
     "solution": false,
     "task": false
    }
   },
   "source": [
    "4. Opérations sur les vecteurs\n",
    "\n",
    "<p style=\"background:#F3F3F3\"> <code style=\"background:#F3F3F3;\"># Code à recopier\n",
    "A = np.array([1, 2, 3, 6])\n",
    "B = np.array([0, -4, 9, 4]);\n",
    "print(np.exp(A))\n",
    "print(20*\"-\")\n",
    "print(A+B)\n",
    "print(20*\"-\")\n",
    "print(A*B)\n",
    "print(20*\"-\")\n",
    "print(A/B)\n",
    "print(20*\"-\")\n",
    "print(2*A)\n",
    "print(20*\"-\")\n",
    "print(A+1)\n",
    "print(20*\"-\")\n",
    "print(A+np.array([1,2,3]))\n",
    "</code> </p>"
   ]
  },
  {
   "cell_type": "code",
   "execution_count": 49,
   "id": "81d69057",
   "metadata": {
    "deletable": false,
    "nbgrader": {
     "cell_type": "code",
     "checksum": "1662c4b76b2e412de5f4b14fb5a5c51c",
     "grade": false,
     "grade_id": "cell-e0dc06587f6ac6ef",
     "locked": false,
     "schema_version": 3,
     "solution": true,
     "task": false
    }
   },
   "outputs": [
    {
     "name": "stdout",
     "output_type": "stream",
     "text": [
      "[  2.71828183   7.3890561   20.08553692 403.42879349]\n",
      "--------------------\n",
      "[ 1 -2 12 10]\n",
      "--------------------\n",
      "[ 0 -8 27 24]\n",
      "--------------------\n",
      "[        inf -0.5         0.33333333  1.5       ]\n",
      "--------------------\n",
      "[ 2  4  6 12]\n",
      "--------------------\n",
      "[2 3 4 7]\n",
      "--------------------\n"
     ]
    },
    {
     "name": "stderr",
     "output_type": "stream",
     "text": [
      "/tmp/ipykernel_898018/95674608.py:12: RuntimeWarning: divide by zero encountered in divide\n",
      "  print(A/B)\n"
     ]
    },
    {
     "ename": "ValueError",
     "evalue": "operands could not be broadcast together with shapes (4,) (3,) ",
     "output_type": "error",
     "traceback": [
      "\u001b[0;31m---------------------------------------------------------------------------\u001b[0m",
      "\u001b[0;31mValueError\u001b[0m                                Traceback (most recent call last)",
      "Cell \u001b[0;32mIn[49], line 18\u001b[0m\n\u001b[1;32m     16\u001b[0m \u001b[39mprint\u001b[39m(A\u001b[39m+\u001b[39m\u001b[39m1\u001b[39m)\n\u001b[1;32m     17\u001b[0m \u001b[39mprint\u001b[39m(\u001b[39m20\u001b[39m\u001b[39m*\u001b[39m\u001b[39m\"\u001b[39m\u001b[39m-\u001b[39m\u001b[39m\"\u001b[39m)\n\u001b[0;32m---> 18\u001b[0m \u001b[39mprint\u001b[39m(A\u001b[39m+\u001b[39;49mnp\u001b[39m.\u001b[39;49marray([\u001b[39m1\u001b[39;49m,\u001b[39m2\u001b[39;49m,\u001b[39m3\u001b[39;49m]))\n\u001b[1;32m     23\u001b[0m \u001b[39m#test Adam Aysoy code \u001b[39;00m\n\u001b[1;32m     24\u001b[0m \u001b[39m#je voulais retouver sur le serveur \u001b[39;00m\n\u001b[1;32m     25\u001b[0m \u001b[39mprint\u001b[39m(\u001b[39m\"\u001b[39m\u001b[39m\\n\u001b[39;00m\u001b[39m\"\u001b[39m)\n",
      "\u001b[0;31mValueError\u001b[0m: operands could not be broadcast together with shapes (4,) (3,) "
     ]
    }
   ],
   "source": [
    "# Question 4\n",
    "\n",
    "# YOUR CODE HERE\n",
    "A = np.array([1, 2, 3, 6])\n",
    "B = np.array([0, -4, 9, 4])\n",
    "print(np.exp(A))\n",
    "print(20*\"-\")\n",
    "print(A+B)\n",
    "print(20*\"-\")\n",
    "print(A*B)\n",
    "print(20*\"-\")\n",
    "print(A/B)\n",
    "print(20*\"-\")\n",
    "print(2*A)\n",
    "print(20*\"-\")\n",
    "print(A+1)\n",
    "print(20*\"-\")\n",
    "print(A+np.array([1,2,3]))\n",
    "\n",
    "\n",
    "\n",
    "\n",
    "#test Adam Aysoy code \n",
    "#je voulais retouver sur le serveur \n",
    "print(\"\\n\")\n",
    "print(\"ici \")\n",
    "A = np.array([10, 20, 30, 40])\n",
    "result = A + np.array([1, 2, 3, 4])\n",
    "print(result)\n"
   ]
  },
  {
   "attachments": {},
   "cell_type": "markdown",
   "id": "10af4c44",
   "metadata": {
    "deletable": false,
    "editable": false,
    "nbgrader": {
     "cell_type": "markdown",
     "checksum": "772369cb4e314eea40321ff98626bffa",
     "grade": false,
     "grade_id": "cell-48dabf4eec1bf9d2",
     "locked": true,
     "schema_version": 3,
     "solution": false,
     "task": false
    }
   },
   "source": [
    "5. Sélection\n",
    "\n",
    "<p style=\"background:#F3F3F3\"> <code style=\"background:#F3F3F3;\"># Code à recopier\n",
    "print(A==2)\n",
    "print(20*\"-\")\n",
    "print(A[A>2])\n",
    "</code> </p>"
   ]
  },
  {
   "cell_type": "code",
   "execution_count": null,
   "id": "7bcc2ff4",
   "metadata": {
    "deletable": false,
    "nbgrader": {
     "cell_type": "code",
     "checksum": "efdc6bbdb818d23cce459b80b388aadb",
     "grade": false,
     "grade_id": "cell-51863cb6238f5e59",
     "locked": false,
     "schema_version": 3,
     "solution": true,
     "task": false
    }
   },
   "outputs": [],
   "source": [
    "# Question 5\n",
    "\n",
    "# YOUR CODE HERE\n",
    "raise NotImplementedError()"
   ]
  },
  {
   "attachments": {},
   "cell_type": "markdown",
   "id": "37208854",
   "metadata": {
    "deletable": false,
    "editable": false,
    "nbgrader": {
     "cell_type": "markdown",
     "checksum": "68ab5f7d0b0de2c691f8bcef1b276a6d",
     "grade": false,
     "grade_id": "cell-0116f14fadef69e8",
     "locked": true,
     "schema_version": 3,
     "solution": false,
     "task": false
    }
   },
   "source": [
    "6. Sommes et sommes cumulées\n",
    "\n",
    "<p style=\"background:#F3F3F3\"> <code style=\"background:#F3F3F3;\"># Code à recopier\n",
    "u = np.arange(1,10,1)\n",
    "print(np.sum(u))\n",
    "print(20*\"-\")\n",
    "print(np.cumsum(u))\n",
    "</code> </p>"
   ]
  },
  {
   "cell_type": "code",
   "execution_count": null,
   "id": "ead8420e",
   "metadata": {
    "deletable": false,
    "nbgrader": {
     "cell_type": "code",
     "checksum": "e0ab9158fd3a36d52660436b4b0e3aea",
     "grade": false,
     "grade_id": "cell-79f93de3acdba433",
     "locked": false,
     "schema_version": 3,
     "solution": true,
     "task": false
    }
   },
   "outputs": [],
   "source": [
    "# Question 5\n",
    "\n",
    "# YOUR CODE HERE\n",
    "raise NotImplementedError()"
   ]
  },
  {
   "attachments": {},
   "cell_type": "markdown",
   "id": "c95146c9",
   "metadata": {
    "deletable": false,
    "editable": false,
    "nbgrader": {
     "cell_type": "markdown",
     "checksum": "bbcc1f09429e07f40020d8c2ab630b06",
     "grade": false,
     "grade_id": "cell-ee5db7ee97c51530",
     "locked": true,
     "schema_version": 3,
     "solution": false,
     "task": false
    }
   },
   "source": [
    "7. Création et opération sur les matrices     \n",
    "Repérez les éventuels problèmes:\n",
    "\n",
    "<p style=\"background:#F3F3F3\"> <code style=\"background:#F3F3F3;\"># Code à recopier\n",
    "A.shape = (2,2); print(A)\n",
    "print(20*\"-\")\n",
    "print(A.transpose())\n",
    "C = B.reshape(2,2).T\n",
    "print(C); \n",
    "print(20*\"-\")\n",
    "print(A @ C)\n",
    "print(20*\"-\")\n",
    "print(np.matmul(A,C))\n",
    "print(20*\"-\")\n",
    "print(C[1,])\n",
    "print(20*\"-\")\n",
    "print(C/A[1,])\n",
    "</code> </p>"
   ]
  },
  {
   "cell_type": "code",
   "execution_count": null,
   "id": "ffcd07ad",
   "metadata": {
    "deletable": false,
    "nbgrader": {
     "cell_type": "code",
     "checksum": "f4157b0868ce69eeec927dc052ed020a",
     "grade": false,
     "grade_id": "cell-7c5477d85fe79959",
     "locked": false,
     "schema_version": 3,
     "solution": true,
     "task": false
    }
   },
   "outputs": [],
   "source": [
    "# Question 7\n",
    "\n",
    "# YOUR CODE HERE\n",
    "raise NotImplementedError()"
   ]
  },
  {
   "attachments": {},
   "cell_type": "markdown",
   "id": "5b349677",
   "metadata": {
    "deletable": false,
    "editable": false,
    "nbgrader": {
     "cell_type": "markdown",
     "checksum": "f8b87bacddc5950ca35c441a26164e96",
     "grade": false,
     "grade_id": "cell-bda4c3569398df7b",
     "locked": true,
     "schema_version": 3,
     "solution": false,
     "task": false
    }
   },
   "source": [
    "# Exercice 3 : Matplotlib"
   ]
  },
  {
   "attachments": {},
   "cell_type": "markdown",
   "id": "882c6c0c",
   "metadata": {
    "deletable": false,
    "editable": false,
    "nbgrader": {
     "cell_type": "markdown",
     "checksum": "ed298e98bdd9bc7ad02278f482abdfa4",
     "grade": false,
     "grade_id": "cell-4d2ee0923762199a",
     "locked": true,
     "schema_version": 3,
     "solution": false,
     "task": false
    }
   },
   "source": [
    "Pour tracer le graphique d’une fonction mathématique, on utilise la bibliothèque *matplotlib*, dont\n",
    "la partie pertinent *pyplot* a été importée sous le\n",
    "petit nom de *plt*."
   ]
  },
  {
   "cell_type": "code",
   "execution_count": null,
   "id": "9d40486b",
   "metadata": {
    "deletable": false,
    "editable": false,
    "nbgrader": {
     "cell_type": "code",
     "checksum": "0cc5c82e9bc90c2cd5329019fa63b980",
     "grade": false,
     "grade_id": "cell-cd4ecc4bdb2ab8ba",
     "locked": true,
     "schema_version": 3,
     "solution": false,
     "task": false
    }
   },
   "outputs": [],
   "source": [
    "import matplotlib.pyplot as plt"
   ]
  },
  {
   "attachments": {},
   "cell_type": "markdown",
   "id": "e7d45d2e",
   "metadata": {},
   "source": [
    "1. Recopier et exécuter les codes suivants :\n",
    "\n",
    "<p style=\"background:#F3F3F3\"> <code style=\"background:#F3F3F3;\"># Code à recopier 1\n",
    "x = np.linspace(0, 2*np.pi, 100)\n",
    "plt.plot(x, np.sin(x))\n",
    "plt.show()\n",
    "</code> </p>\n",
    "\n",
    "<p style=\"background:#F3F3F3\"> <code style=\"background:#F3F3F3;\"># Code à recopier 2\n",
    "plt.plot(x, np.cos(x))\n",
    "plt.plot(x, np.sin(x))\n",
    "plt.show()\n",
    "</code> </p>\n",
    "\n",
    "<p style=\"background:#F3F3F3\"> <code style=\"background:#F3F3F3;\"># Code à recopier 3\n",
    "plt.plot([0, 1], [1, 0], \"b\",linewidth=2,linestyle='--',label='segment')\n",
    "plt.plot(0.6, 0.9, \"r+\",label='point')\n",
    "plt.xlabel(\"x\")\n",
    "plt.ylabel(\"y\")\n",
    "plt.title(\"joli graphe\")\n",
    "plt.legend()\n",
    "plt.show()\n",
    "</code> </p>"
   ]
  },
  {
   "cell_type": "code",
   "execution_count": null,
   "id": "61afdd36",
   "metadata": {
    "deletable": false,
    "nbgrader": {
     "cell_type": "code",
     "checksum": "a17a3c1772c277ec8aa5e4e6954043e8",
     "grade": false,
     "grade_id": "cell-8b21d51aacfefe70",
     "locked": false,
     "schema_version": 3,
     "solution": true,
     "task": false
    }
   },
   "outputs": [],
   "source": [
    "# Question 1\n",
    "# YOUR CODE HERE\n",
    "raise NotImplementedError()"
   ]
  },
  {
   "attachments": {},
   "cell_type": "markdown",
   "id": "26c64865",
   "metadata": {
    "deletable": false,
    "editable": false,
    "nbgrader": {
     "cell_type": "markdown",
     "checksum": "d6e70261f2247f0a864f30f016caa089",
     "grade": false,
     "grade_id": "cell-f9ca0259038404e2",
     "locked": true,
     "schema_version": 3,
     "solution": false,
     "task": false
    }
   },
   "source": [
    "2. Plusieurs graphes dans la même image :\n",
    "\n",
    "<p style=\"background:#F3F3F3\"> <code style=\"background:#F3F3F3;\"># Code à recopier\n",
    "fig,ax=plt.subplots(1,2)\n",
    "ax[0].plot(x, np.sin(x))\n",
    "ax[1].plot(y, y*np.sin(y))\n",
    "fig.suptitle(\"2 jolis graphes\")\n",
    "ax[0].set_title(\"sinus\")\n",
    "ax[1].set_xlabel(\"x\")\n",
    "plt.show()\n",
    "</code> </p>"
   ]
  },
  {
   "cell_type": "code",
   "execution_count": null,
   "id": "dd8264be",
   "metadata": {
    "deletable": false,
    "nbgrader": {
     "cell_type": "code",
     "checksum": "afeabb819dc53e285a569d9fdc085940",
     "grade": false,
     "grade_id": "cell-a74b1778d2636801",
     "locked": false,
     "schema_version": 3,
     "solution": true,
     "task": false
    }
   },
   "outputs": [],
   "source": [
    "# Question 2\n",
    "\n",
    "# YOUR CODE HERE\n",
    "raise NotImplementedError()"
   ]
  },
  {
   "attachments": {},
   "cell_type": "markdown",
   "id": "2b8fc091",
   "metadata": {
    "deletable": false,
    "editable": false,
    "nbgrader": {
     "cell_type": "markdown",
     "checksum": "781a0f7efeb4fec8880fa290c4e10975",
     "grade": false,
     "grade_id": "cell-1a52b76af7910d02",
     "locked": true,
     "schema_version": 3,
     "solution": false,
     "task": false
    }
   },
   "source": [
    "# Exercices supplémentaires"
   ]
  },
  {
   "attachments": {},
   "cell_type": "markdown",
   "id": "411a83f0",
   "metadata": {
    "deletable": false,
    "editable": false,
    "nbgrader": {
     "cell_type": "markdown",
     "checksum": "e87192a38f92b9f55ad0f308f91204f3",
     "grade": false,
     "grade_id": "cell-e933e73fead64b69",
     "locked": true,
     "schema_version": 3,
     "solution": false,
     "task": false
    }
   },
   "source": [
    "## Exercice 1 :  La factorielle\n",
    "\n",
    "Ecrire une fonction qui prend un entier et retourne sa factorielle.   \n",
    "On rappelle que : $n!=1 \\times 2 \\times ...\\times (n-2) \\times(n-1)\\times n$."
   ]
  },
  {
   "cell_type": "code",
   "execution_count": null,
   "id": "0be45f84",
   "metadata": {
    "deletable": false,
    "nbgrader": {
     "cell_type": "code",
     "checksum": "5773267bde3a863957b605deb5878728",
     "grade": false,
     "grade_id": "cell-18f506952b7c5981",
     "locked": false,
     "schema_version": 3,
     "solution": true,
     "task": false
    }
   },
   "outputs": [],
   "source": [
    "def factorielle(n):\n",
    "    #....#\n",
    "\n",
    "# YOUR CODE HERE\n",
    "raise NotImplementedError()\n",
    "\n"
   ]
  },
  {
   "cell_type": "code",
   "execution_count": null,
   "id": "81032c8b",
   "metadata": {
    "deletable": false,
    "editable": false,
    "nbgrader": {
     "cell_type": "code",
     "checksum": "dc6b8bfa492b9a59aafc9334e6d92c2c",
     "grade": true,
     "grade_id": "cell-3151acc2bdf5d7bf",
     "locked": true,
     "points": 1,
     "schema_version": 3,
     "solution": false,
     "task": false
    }
   },
   "outputs": [],
   "source": [
    "assert(factorielle(4)==24)"
   ]
  },
  {
   "attachments": {},
   "cell_type": "markdown",
   "id": "e037f2c9",
   "metadata": {
    "deletable": false,
    "editable": false,
    "nbgrader": {
     "cell_type": "markdown",
     "checksum": "f282344a72f5e1c1768a23afc968e49a",
     "grade": false,
     "grade_id": "cell-dcf37ba6f5211f35",
     "locked": true,
     "schema_version": 3,
     "solution": false,
     "task": false
    }
   },
   "source": [
    "## Exercice 2 :  Coefficient Binômial\n",
    "\n",
    "On rappelle la formule du coefficient binomial :\n",
    "\n",
    "$C_{n}^k=\\binom{n}{k}=\\frac{n!}{k!(n - k)!}.$\n"
   ]
  },
  {
   "cell_type": "code",
   "execution_count": null,
   "id": "6ed08396",
   "metadata": {
    "deletable": false,
    "nbgrader": {
     "cell_type": "code",
     "checksum": "b679a35c384536d5f111780808861feb",
     "grade": false,
     "grade_id": "cell-bb2fb592d4da275b",
     "locked": false,
     "schema_version": 3,
     "solution": true,
     "task": false
    }
   },
   "outputs": [],
   "source": [
    "def coeff_binomial(k,n):\n",
    "    #...#\n",
    "# YOUR CODE HERE\n",
    "raise NotImplementedError()"
   ]
  },
  {
   "cell_type": "code",
   "execution_count": null,
   "id": "edd48fb2",
   "metadata": {
    "deletable": false,
    "editable": false,
    "nbgrader": {
     "cell_type": "code",
     "checksum": "68dd60f83a75defa8e9142f746be2a30",
     "grade": true,
     "grade_id": "cell-f02cf6a829654e39",
     "locked": true,
     "points": 1,
     "schema_version": 3,
     "solution": false,
     "task": false
    }
   },
   "outputs": [],
   "source": [
    "assert(coeff_binomial(3,6)==20)"
   ]
  },
  {
   "attachments": {},
   "cell_type": "markdown",
   "id": "d27e50bf",
   "metadata": {
    "deletable": false,
    "editable": false,
    "nbgrader": {
     "cell_type": "markdown",
     "checksum": "a70cf9e37382911556c731e911f8260e",
     "grade": false,
     "grade_id": "cell-02c2304c20bd95ea",
     "locked": true,
     "schema_version": 3,
     "solution": false,
     "task": false
    }
   },
   "source": [
    "# Exercice 3 : Triangle de Pascal\n",
    "\n",
    "Le triangle de Pascal (https://fr.wikipedia.org/wiki/Triangle_de_Pascal), contient les coefficients binomiaux. On peut le lire comme un tableau triangulaire inférieur où la case à l'intersection entre la ligne $n$ et la colonne $k$ correspond au coefficient $\\binom{n-1}{k-1}$.  \n",
    "\n",
    "On se propose dans cet exercice d'écrire une fonction qui prend en entrée un entier $n$ et qui retourne le triangle de Pascal (sous forme de tableau) à $n+1$ lignes.\n",
    "\n"
   ]
  },
  {
   "cell_type": "code",
   "execution_count": null,
   "id": "c925402f",
   "metadata": {
    "deletable": false,
    "nbgrader": {
     "cell_type": "code",
     "checksum": "46fb0d609265766ea0f76761a9b43f37",
     "grade": false,
     "grade_id": "cell-92721d47684f596f",
     "locked": false,
     "schema_version": 3,
     "solution": true,
     "task": false
    }
   },
   "outputs": [],
   "source": [
    "# Indice : utiliser une double boucle for\n",
    "def triangle_pascal(n):\n",
    "    tableau = np.zeros((n+1,n+1),int)\n",
    "    #...#\n",
    "# YOUR CODE HERE\n",
    "raise NotImplementedError()\n",
    "    "
   ]
  },
  {
   "cell_type": "code",
   "execution_count": null,
   "id": "dfe55f05",
   "metadata": {
    "deletable": false,
    "editable": false,
    "nbgrader": {
     "cell_type": "code",
     "checksum": "aa3f4b3b00af2541e2e6705ee72809af",
     "grade": true,
     "grade_id": "cell-ffdb4593163dd940",
     "locked": true,
     "points": 1,
     "schema_version": 3,
     "solution": false,
     "task": false
    }
   },
   "outputs": [],
   "source": [
    "triangle4=triangle_pascal(4)\n",
    "assert(triangle4[-1,2]==6)"
   ]
  },
  {
   "attachments": {},
   "cell_type": "markdown",
   "id": "c9eda29b",
   "metadata": {
    "deletable": false,
    "editable": false,
    "nbgrader": {
     "cell_type": "markdown",
     "checksum": "c86569dc9b5391baf1dd53138e73e288",
     "grade": false,
     "grade_id": "cell-3b156285805c7296",
     "locked": true,
     "schema_version": 3,
     "solution": false,
     "task": false
    }
   },
   "source": [
    "# Exercice 4 : Suite de Syracuse \n",
    "\n",
    "La suite de Syracuse est une suite récurrente d'entiers naturels définie comme suit :\n",
    "\n",
    "$$\n",
    "u_0 = N \\in \\mathbb{N},\\;\\\\\n",
    "u_n = \n",
    "\\begin{cases}\n",
    "\\frac{u_{n-1}}{2},\\; si \\; u_{n-1}\\; pair\\\\\n",
    "3u_{n-1}+1, \\; sinon.\n",
    "\\end{cases}\n",
    "$$\n",
    "\n",
    "On se propose d'écrire une fonction qui prend en entrée le nombre de termes à calculer $n$ et la valeur du premier terme $u_0$ et qui renvoit un vecteur contenant tous ces termes.  \n",
    "\n",
    "Une fois la fonction écrite, il est proposé de tracer la suite pour plusieurs valeurs (que vous pouvez varier). Que pouvez-vous dire sur cette suite ?   \n",
    "Pour plus d'information voir : https://fr.wikipedia.org/wiki/Conjecture_de_Syracuse."
   ]
  },
  {
   "cell_type": "code",
   "execution_count": null,
   "id": "e34669dd",
   "metadata": {
    "deletable": false,
    "nbgrader": {
     "cell_type": "code",
     "checksum": "3a7b17caea7f13a1d1df57c288100af1",
     "grade": false,
     "grade_id": "cell-fb2df4c96aaad4e3",
     "locked": false,
     "schema_version": 3,
     "solution": true,
     "task": false
    }
   },
   "outputs": [],
   "source": [
    "def syracuse(n,u_0):\n",
    "    U_syr=np.zeros(n+1,int)\n",
    "    U_syr[0]=u_0\n",
    "    #...#\n",
    "    # YOUR CODE HERE\n",
    "    raise NotImplementedError()\n",
    "        \n",
    "                \n",
    "        "
   ]
  },
  {
   "cell_type": "code",
   "execution_count": null,
   "id": "dc9e6046",
   "metadata": {
    "deletable": false,
    "editable": false,
    "nbgrader": {
     "cell_type": "code",
     "checksum": "627d7004bba3f7f566f3746fd20daa5a",
     "grade": true,
     "grade_id": "cell-9845ece55eafafd6",
     "locked": true,
     "points": 1,
     "schema_version": 3,
     "solution": false,
     "task": false
    }
   },
   "outputs": [],
   "source": [
    "U10 = syracuse(20,11)\n",
    "assert(U10[-1]==1)"
   ]
  },
  {
   "cell_type": "code",
   "execution_count": null,
   "id": "57c210a0",
   "metadata": {
    "deletable": false,
    "nbgrader": {
     "cell_type": "code",
     "checksum": "eb7a684ee47445f5adfba21d226fcb1d",
     "grade": false,
     "grade_id": "cell-a8bf5f157e0545f0",
     "locked": false,
     "schema_version": 3,
     "solution": true,
     "task": false
    }
   },
   "outputs": [],
   "source": [
    "U_syr27 = syracuse(100,27)\n",
    "U_syr12 = syracuse(100,12)\n",
    "# YOUR CODE HERE\n",
    "raise NotImplementedError()"
   ]
  }
 ],
 "metadata": {
  "kernelspec": {
   "display_name": "Python 3 (ipykernel)",
   "language": "python",
   "name": "python3"
  },
  "language_info": {
   "codemirror_mode": {
    "name": "ipython",
    "version": 3
   },
   "file_extension": ".py",
   "mimetype": "text/x-python",
   "name": "python",
   "nbconvert_exporter": "python",
   "pygments_lexer": "ipython3",
   "version": "3.11.6"
  },
  "varInspector": {
   "cols": {
    "lenName": 16,
    "lenType": 16,
    "lenVar": 40
   },
   "kernels_config": {
    "python": {
     "delete_cmd_postfix": "",
     "delete_cmd_prefix": "del ",
     "library": "var_list.py",
     "varRefreshCmd": "print(var_dic_list())"
    },
    "r": {
     "delete_cmd_postfix": ") ",
     "delete_cmd_prefix": "rm(",
     "library": "var_list.r",
     "varRefreshCmd": "cat(var_dic_list()) "
    }
   },
   "types_to_exclude": [
    "module",
    "function",
    "builtin_function_or_method",
    "instance",
    "_Feature"
   ],
   "window_display": false
  }
 },
 "nbformat": 4,
 "nbformat_minor": 5
}
