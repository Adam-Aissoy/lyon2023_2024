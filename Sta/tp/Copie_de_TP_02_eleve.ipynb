{
  "cells": [
    {
      "cell_type": "markdown",
      "id": "20acb671",
      "metadata": {
        "deletable": false,
        "editable": false,
        "nbgrader": {
          "cell_type": "markdown",
          "checksum": "a02eee69b109bf32a570ef67666a91e6",
          "grade": false,
          "grade_id": "cell-ca56189eee99a8af",
          "locked": true,
          "schema_version": 3,
          "solution": false,
          "task": false
        },
        "id": "20acb671"
      },
      "source": [
        "![logo](/images/logoUCB.png)\n",
        "# Licence L2, Université  Lyon 1\n",
        "# [Statistiques pour l'informatique]"
      ]
    },
    {
      "cell_type": "markdown",
      "id": "3a1ae03b",
      "metadata": {
        "deletable": false,
        "editable": false,
        "nbgrader": {
          "cell_type": "markdown",
          "checksum": "5331b4ac34ff4659b8f8c95b29d9889e",
          "grade": false,
          "grade_id": "cell-28f4c2580311e731",
          "locked": true,
          "schema_version": 3,
          "solution": false,
          "task": false
        },
        "id": "3a1ae03b"
      },
      "source": [
        "## Consignes pour les étudiants\n",
        "\n",
        "1. **Exécution**\n",
        "\n",
        "**Exécuter toujours tout le notebook depuis le début** (en appuyant sur le bouton **`Executer`** ou **Run**). En effet un notebook est un programme et pas une simple page HTML qui doit s'exécuter dans l'ordre du début à la fin.\n",
        "\n",
        "2. **En cas de problème**\n",
        "Tout d'abord, redémarrez le noyau (dans la barre de menus, sélectionnez **`Noyau -> Redémarer`** ou  **`Kernel -> Restart`**),\n",
        "puis exécutez toutes les cellules (dans la barre de menus, sélectionnez **`Cellule -> Executer tout`** ou **`Cellule -> Run All`**)."
      ]
    },
    {
      "cell_type": "code",
      "source": [
        "! pip install pydataset"
      ],
      "metadata": {
        "colab": {
          "base_uri": "https://localhost:8080/"
        },
        "id": "jr8iIQ6iG1nL",
        "outputId": "4698909a-410d-4992-b42a-31f9edae2011"
      },
      "id": "jr8iIQ6iG1nL",
      "execution_count": null,
      "outputs": [
        {
          "output_type": "stream",
          "name": "stdout",
          "text": [
            "Requirement already satisfied: pydataset in /usr/local/lib/python3.10/dist-packages (0.2.0)\n",
            "Requirement already satisfied: pandas in /usr/local/lib/python3.10/dist-packages (from pydataset) (1.5.3)\n",
            "Requirement already satisfied: python-dateutil>=2.8.1 in /usr/local/lib/python3.10/dist-packages (from pandas->pydataset) (2.8.2)\n",
            "Requirement already satisfied: pytz>=2020.1 in /usr/local/lib/python3.10/dist-packages (from pandas->pydataset) (2023.3.post1)\n",
            "Requirement already satisfied: numpy>=1.21.0 in /usr/local/lib/python3.10/dist-packages (from pandas->pydataset) (1.23.5)\n",
            "Requirement already satisfied: six>=1.5 in /usr/local/lib/python3.10/dist-packages (from python-dateutil>=2.8.1->pandas->pydataset) (1.16.0)\n"
          ]
        }
      ]
    },
    {
      "cell_type": "code",
      "execution_count": null,
      "id": "18b65bc8",
      "metadata": {
        "deletable": false,
        "editable": false,
        "nbgrader": {
          "cell_type": "code",
          "checksum": "a7dc49d7fb58d297744a42cf748bd054",
          "grade": false,
          "grade_id": "cell-19507cafbc2abb70",
          "locked": true,
          "schema_version": 3,
          "solution": false,
          "task": false
        },
        "colab": {
          "base_uri": "https://localhost:8080/",
          "height": 352
        },
        "id": "18b65bc8",
        "outputId": "3d6245b5-ea55-4657-c7bf-c581b29e2aec"
      },
      "outputs": [
        {
          "output_type": "error",
          "ename": "ModuleNotFoundError",
          "evalue": "ignored",
          "traceback": [
            "\u001b[0;31m---------------------------------------------------------------------------\u001b[0m",
            "\u001b[0;31mModuleNotFoundError\u001b[0m                       Traceback (most recent call last)",
            "\u001b[0;32m<ipython-input-27-98960bd190ef>\u001b[0m in \u001b[0;36m<cell line: 1>\u001b[0;34m()\u001b[0m\n\u001b[0;32m----> 1\u001b[0;31m \u001b[0;32mfrom\u001b[0m \u001b[0mvalidation\u001b[0m\u001b[0;34m.\u001b[0m\u001b[0mvalidation\u001b[0m \u001b[0;32mimport\u001b[0m \u001b[0minfo_etudiant\u001b[0m\u001b[0;34m\u001b[0m\u001b[0;34m\u001b[0m\u001b[0m\n\u001b[0m\u001b[1;32m      2\u001b[0m \u001b[0mNOM\u001b[0m\u001b[0;34m,\u001b[0m \u001b[0mPRENOM\u001b[0m\u001b[0;34m,\u001b[0m \u001b[0mNUMERO_ETUDIANT\u001b[0m \u001b[0;34m=\u001b[0m \u001b[0minfo_etudiant\u001b[0m\u001b[0;34m(\u001b[0m\u001b[0;34m)\u001b[0m\u001b[0;34m\u001b[0m\u001b[0;34m\u001b[0m\u001b[0m\n\u001b[1;32m      3\u001b[0m \u001b[0mprint\u001b[0m\u001b[0;34m(\u001b[0m\u001b[0;34m\"Etudiant {} {}  id={}\"\u001b[0m\u001b[0;34m.\u001b[0m\u001b[0mformat\u001b[0m\u001b[0;34m(\u001b[0m\u001b[0mNOM\u001b[0m\u001b[0;34m,\u001b[0m\u001b[0mPRENOM\u001b[0m\u001b[0;34m,\u001b[0m\u001b[0mNUMERO_ETUDIANT\u001b[0m\u001b[0;34m)\u001b[0m\u001b[0;34m)\u001b[0m\u001b[0;34m\u001b[0m\u001b[0;34m\u001b[0m\u001b[0m\n",
            "\u001b[0;31mModuleNotFoundError\u001b[0m: No module named 'validation'",
            "",
            "\u001b[0;31m---------------------------------------------------------------------------\u001b[0;32m\nNOTE: If your import is failing due to a missing package, you can\nmanually install dependencies using either !pip or !apt.\n\nTo view examples of installing some common dependencies, click the\n\"Open Examples\" button below.\n\u001b[0;31m---------------------------------------------------------------------------\u001b[0m\n"
          ],
          "errorDetails": {
            "actions": [
              {
                "action": "open_url",
                "actionText": "Open Examples",
                "url": "/notebooks/snippets/importing_libraries.ipynb"
              }
            ]
          }
        }
      ],
      "source": [
        "from validation.validation import info_etudiant\n",
        "NOM, PRENOM, NUMERO_ETUDIANT = info_etudiant()\n",
        "print(\"Etudiant {} {}  id={}\".format(NOM,PRENOM,NUMERO_ETUDIANT))"
      ]
    },
    {
      "cell_type": "markdown",
      "id": "eadee2a5",
      "metadata": {
        "id": "eadee2a5"
      },
      "source": [
        "<hr>"
      ]
    },
    {
      "cell_type": "markdown",
      "id": "d3bb3e76",
      "metadata": {
        "deletable": false,
        "editable": false,
        "nbgrader": {
          "cell_type": "markdown",
          "checksum": "5aa6e2884060b931f26bf7bf3620bf12",
          "grade": false,
          "grade_id": "cell-c35ffdc0dc2a4d91",
          "locked": true,
          "schema_version": 3,
          "solution": false,
          "task": false
        },
        "id": "d3bb3e76"
      },
      "source": [
        "# Fonctionnement des Travaux Pratiques"
      ]
    },
    {
      "cell_type": "markdown",
      "id": "1e534e3c",
      "metadata": {
        "deletable": false,
        "editable": false,
        "nbgrader": {
          "cell_type": "markdown",
          "checksum": "db115718df983022f4438491d7d393c5",
          "grade": false,
          "grade_id": "cell-05860907013cbe76",
          "locked": true,
          "schema_version": 3,
          "solution": false,
          "task": false
        },
        "id": "1e534e3c"
      },
      "source": [
        "Compléter le code après la ligne <code> # YOUR CODE GOES HERE </code>.  \n",
        "Une fois votre code écrit, supprimer la ligne <code> raise NotImplementedError() </code> avant d'exécuter.\n",
        "\n",
        "Lien vers le cours : [site](https://licence-math.univ-lyon1.fr/doku.php?id=a23:s3_stats_pour_info:page)\n",
        "\n",
        "Dans les cellules suivantes une explication des tests est donnée:"
      ]
    },
    {
      "cell_type": "code",
      "execution_count": null,
      "id": "a5ef2221",
      "metadata": {
        "id": "a5ef2221"
      },
      "outputs": [],
      "source": []
    },
    {
      "cell_type": "markdown",
      "id": "ccc2c9b2",
      "metadata": {
        "deletable": false,
        "editable": false,
        "nbgrader": {
          "cell_type": "markdown",
          "checksum": "a5acda40095afceb6dcb883c4c611de0",
          "grade": false,
          "grade_id": "cell-7fc5663aa969c0b0",
          "locked": true,
          "schema_version": 3,
          "solution": false,
          "task": false
        },
        "id": "ccc2c9b2"
      },
      "source": [
        "Qui a gagné le tour de France de 2023 ?\n",
        "- 'A': Jonas Vingegaard\n",
        "- 'B': Tadej Pogačar\n",
        "- 'C': Thibaut Pinot"
      ]
    },
    {
      "cell_type": "markdown",
      "id": "7ea2ff7a",
      "metadata": {
        "deletable": false,
        "editable": false,
        "nbgrader": {
          "cell_type": "markdown",
          "checksum": "1b208c3b906af48e7ae33d88381269dd",
          "grade": false,
          "grade_id": "cell-2fb9c1fce7eb2191",
          "locked": true,
          "schema_version": 3,
          "solution": false,
          "task": false
        },
        "id": "7ea2ff7a"
      },
      "source": [
        "Quand la réponse est juste, aucun message d'erreur ne s'affiche."
      ]
    },
    {
      "cell_type": "code",
      "execution_count": null,
      "id": "e4314f14",
      "metadata": {
        "deletable": false,
        "editable": false,
        "nbgrader": {
          "cell_type": "code",
          "checksum": "ec403a30130bac358ef3ce07b655d95b",
          "grade": false,
          "grade_id": "cell-a7f0fc74bfedcdd9",
          "locked": true,
          "schema_version": 3,
          "solution": false,
          "task": false
        },
        "id": "e4314f14"
      },
      "outputs": [],
      "source": [
        "ReponseQuestionTest = 'A'\n",
        "assert(ReponseQuestionTest=='A')"
      ]
    },
    {
      "cell_type": "markdown",
      "id": "689c532d",
      "metadata": {
        "deletable": false,
        "editable": false,
        "nbgrader": {
          "cell_type": "markdown",
          "checksum": "8d1ebd79d0cf138ca1010d67be8e67df",
          "grade": false,
          "grade_id": "cell-cf0da53bff1720b9",
          "locked": true,
          "schema_version": 3,
          "solution": false,
          "task": false
        },
        "id": "689c532d"
      },
      "source": [
        "Quand la réponse est fausse, un message d'erreur s'affiche."
      ]
    },
    {
      "cell_type": "code",
      "execution_count": null,
      "id": "745d5918",
      "metadata": {
        "deletable": false,
        "editable": false,
        "nbgrader": {
          "cell_type": "code",
          "checksum": "87027a51c834eb882ab4dab03bf5c69f",
          "grade": false,
          "grade_id": "cell-4a6184e5b6e801d8",
          "locked": true,
          "schema_version": 3,
          "solution": false,
          "task": false
        },
        "colab": {
          "base_uri": "https://localhost:8080/",
          "height": 196
        },
        "id": "745d5918",
        "outputId": "9a65e1b7-fff4-43bb-cb16-5e620b6c2411"
      },
      "outputs": [
        {
          "output_type": "error",
          "ename": "AssertionError",
          "evalue": "ignored",
          "traceback": [
            "\u001b[0;31m---------------------------------------------------------------------------\u001b[0m",
            "\u001b[0;31mAssertionError\u001b[0m                            Traceback (most recent call last)",
            "\u001b[0;32m<ipython-input-20-7b4666a2ceb9>\u001b[0m in \u001b[0;36m<cell line: 2>\u001b[0;34m()\u001b[0m\n\u001b[1;32m      1\u001b[0m \u001b[0mReponseQuestionTest\u001b[0m \u001b[0;34m=\u001b[0m \u001b[0;34m'B'\u001b[0m\u001b[0;34m\u001b[0m\u001b[0;34m\u001b[0m\u001b[0m\n\u001b[0;32m----> 2\u001b[0;31m \u001b[0;32massert\u001b[0m\u001b[0;34m(\u001b[0m\u001b[0mReponseQuestionTest\u001b[0m\u001b[0;34m==\u001b[0m\u001b[0;34m'A'\u001b[0m\u001b[0;34m)\u001b[0m\u001b[0;34m\u001b[0m\u001b[0;34m\u001b[0m\u001b[0m\n\u001b[0m",
            "\u001b[0;31mAssertionError\u001b[0m: "
          ]
        }
      ],
      "source": [
        "ReponseQuestionTest = 'B'\n",
        "assert(ReponseQuestionTest=='A')"
      ]
    },
    {
      "cell_type": "markdown",
      "id": "82daa78c",
      "metadata": {
        "deletable": false,
        "editable": false,
        "nbgrader": {
          "cell_type": "markdown",
          "checksum": "ec24865d24e55ac890a62c54de4a3e1e",
          "grade": false,
          "grade_id": "cell-dc936ee6f6779d4e",
          "locked": true,
          "schema_version": 3,
          "solution": false,
          "task": false
        },
        "id": "82daa78c"
      },
      "source": [
        "<div class=\"alert alert-block alert-danger\">\n",
        "<b>Attention:</b> Il faut répondre 'A' ou 'B' ou 'C'.</div>"
      ]
    },
    {
      "cell_type": "code",
      "execution_count": null,
      "id": "25e0d85e",
      "metadata": {
        "deletable": false,
        "editable": false,
        "nbgrader": {
          "cell_type": "code",
          "checksum": "a377598604084585d7de8bf833f0c0e4",
          "grade": false,
          "grade_id": "cell-eb25c403a82fe007",
          "locked": true,
          "schema_version": 3,
          "solution": false,
          "task": false
        },
        "id": "25e0d85e"
      },
      "outputs": [],
      "source": [
        "ReponseQuestionTest = 'A'\n",
        "assert(ReponseQuestionTest=='A')\n",
        "# l'erreur vient de 'A' , le prof la saisi sans apostrophe."
      ]
    },
    {
      "cell_type": "markdown",
      "id": "a415c358",
      "metadata": {
        "deletable": false,
        "editable": false,
        "nbgrader": {
          "cell_type": "markdown",
          "checksum": "425b69153a499069dd7c95b79f9f5ace",
          "grade": false,
          "grade_id": "cell-ffc38e3ec8d71c53",
          "locked": true,
          "schema_version": 3,
          "solution": false,
          "task": false
        },
        "id": "a415c358"
      },
      "source": [
        "<hr>"
      ]
    },
    {
      "cell_type": "markdown",
      "id": "ab91ba0d",
      "metadata": {
        "id": "ab91ba0d"
      },
      "source": [
        "<hr>"
      ]
    },
    {
      "cell_type": "code",
      "execution_count": null,
      "id": "bc9f286e",
      "metadata": {
        "deletable": false,
        "editable": false,
        "nbgrader": {
          "cell_type": "code",
          "checksum": "54fc6e5ffd48692e67d55c6a2d7ee457",
          "grade": false,
          "grade_id": "cell-12008cbfee9ba790",
          "locked": true,
          "schema_version": 3,
          "solution": false,
          "task": false
        },
        "colab": {
          "base_uri": "https://localhost:8080/"
        },
        "id": "bc9f286e",
        "outputId": "e29004ec-00bd-4983-d62d-3d13c0795cd4"
      },
      "outputs": [
        {
          "output_type": "stream",
          "name": "stdout",
          "text": [
            "initiated datasets repo at: /root/.pydataset/\n"
          ]
        }
      ],
      "source": [
        "import numpy as np\n",
        "import matplotlib.pyplot as plt\n",
        "import pandas as pd\n",
        "import scipy.stats.mstats as ms\n",
        "from pydataset import data"
      ]
    },
    {
      "cell_type": "markdown",
      "id": "6dbe3f28",
      "metadata": {
        "deletable": false,
        "editable": false,
        "nbgrader": {
          "cell_type": "markdown",
          "checksum": "659ae3dd7357f7b875931b7d706895a7",
          "grade": false,
          "grade_id": "cell-fb85c75da19a0553",
          "locked": true,
          "schema_version": 3,
          "solution": false,
          "task": false
        },
        "id": "6dbe3f28"
      },
      "source": [
        "# Exercice TP2.1\n",
        "On import les données à l'aide de la commande suivante"
      ]
    },
    {
      "cell_type": "code",
      "execution_count": null,
      "id": "dde6328d",
      "metadata": {
        "colab": {
          "base_uri": "https://localhost:8080/"
        },
        "id": "dde6328d",
        "outputId": "86b23fb8-2770-4f5d-ced2-c9bf34b18f0d"
      },
      "outputs": [
        {
          "output_type": "stream",
          "name": "stdout",
          "text": [
            "cars\n",
            "\n",
            "PyDataset Documentation (adopted from R Documentation. The displayed examples are in R)\n",
            "\n",
            "## Speed and Stopping Distances of Cars\n",
            "\n",
            "### Description\n",
            "\n",
            "The data give the speed of cars and the distances taken to stop. Note that the\n",
            "data were recorded in the 1920s.\n",
            "\n",
            "### Usage\n",
            "\n",
            "    cars\n",
            "\n",
            "### Format\n",
            "\n",
            "A data frame with 50 observations on 2 variables.\n",
            "\n",
            "[,1]\n",
            "\n",
            "speed\n",
            "\n",
            "numeric\n",
            "\n",
            "Speed (mph)\n",
            "\n",
            "[,2]\n",
            "\n",
            "dist\n",
            "\n",
            "numeric\n",
            "\n",
            "Stopping distance (ft)\n",
            "\n",
            "### Source\n",
            "\n",
            "Ezekiel, M. (1930) _Methods of Correlation Analysis_. Wiley.\n",
            "\n",
            "### References\n",
            "\n",
            "McNeil, D. R. (1977) _Interactive Data Analysis_. Wiley.\n",
            "\n",
            "### Examples\n",
            "\n",
            "    require(stats); require(graphics)\n",
            "    plot(cars, xlab = \"Speed (mph)\", ylab = \"Stopping distance (ft)\",\n",
            "         las = 1)\n",
            "    lines(lowess(cars$speed, cars$dist, f = 2/3, iter = 3), col = \"red\")\n",
            "    title(main = \"cars data\")\n",
            "    plot(cars, xlab = \"Speed (mph)\", ylab = \"Stopping distance (ft)\",\n",
            "         las = 1, log = \"xy\")\n",
            "    title(main = \"cars data (logarithmic scales)\")\n",
            "    lines(lowess(cars$speed, cars$dist, f = 2/3, iter = 3), col = \"red\")\n",
            "    summary(fm1 <- lm(log(dist) ~ log(speed), data = cars))\n",
            "    opar <- par(mfrow = c(2, 2), oma = c(0, 0, 1.1, 0),\n",
            "                mar = c(4.1, 4.1, 2.1, 1.1))\n",
            "    plot(fm1)\n",
            "    par(opar)\n",
            "    ## An example of polynomial regression\n",
            "    plot(cars, xlab = \"Speed (mph)\", ylab = \"Stopping distance (ft)\",\n",
            "        las = 1, xlim = c(0, 25))\n",
            "    d <- seq(0, 25, length.out = 200)\n",
            "    for(degree in 1:4) {\n",
            "      fm <- lm(dist ~ poly(speed, degree), data = cars)\n",
            "      assign(paste(\"cars\", degree, sep = \".\"), fm)\n",
            "      lines(d, predict(fm, data.frame(speed = d)), col = degree)\n",
            "    }\n",
            "    anova(cars.1, cars.2, cars.3, cars.4)\n",
            "\n",
            "\n"
          ]
        }
      ],
      "source": [
        "\n",
        "data('cars',show_doc=True)\n",
        "cars=data('cars')"
      ]
    },
    {
      "cell_type": "markdown",
      "id": "d79e1ade",
      "metadata": {
        "deletable": false,
        "editable": false,
        "nbgrader": {
          "cell_type": "markdown",
          "checksum": "1d63aa01d06a0957127e8eda75cbb5df",
          "grade": false,
          "grade_id": "cell-10aa489b8f5bbe67",
          "locked": true,
          "schema_version": 3,
          "solution": false,
          "task": false
        },
        "id": "d79e1ade"
      },
      "source": [
        "1. Calculer la moyenne, variance empirique, variance empirique non-biaisée, médiane, écart-type des variables <code>speed</code> et <code>dist</code>."
      ]
    },
    {
      "cell_type": "code",
      "execution_count": null,
      "id": "e12ed8be",
      "metadata": {
        "deletable": false,
        "nbgrader": {
          "cell_type": "code",
          "checksum": "71e059ee323cea6f111e09047a6ccb52",
          "grade": false,
          "grade_id": "cell-bfb892ef2673e920",
          "locked": false,
          "schema_version": 3,
          "solution": true,
          "task": false
        },
        "colab": {
          "base_uri": "https://localhost:8080/"
        },
        "id": "e12ed8be",
        "outputId": "ac14c06e-a8cd-4ac6-ff6e-a80828be5662"
      },
      "outputs": [
        {
          "output_type": "stream",
          "name": "stdout",
          "text": [
            "Moyenne de speed: 10.25\n",
            "Moyenne de dist: 21.95\n",
            "Variance empirique de speed: 8.1875\n",
            "Variance empirique de dist: 114.44750000000002\n",
            "Variance empirique non biaisée de speed: 8.618421052631579\n",
            "Variance empirique non biaisée de dist: 120.47105263157896\n",
            "Médiane de speed: 11.0\n",
            "Médiane de dist: 23.0\n",
            "Écart-type de speed: 2.8613807855648994\n",
            "Écart-type de dist: 10.698013834352619\n"
          ]
        }
      ],
      "source": [
        "# Question 1\n",
        "# YOUR CODE HERE\n",
        "# autre exemple\n",
        "\n",
        "\n",
        "speed = [4, 4, 7, 7, 8, 9, 10, 10, 10, 11, 11, 12, 12, 12, 12, 13, 13, 13, 13, 14]\n",
        "dist = [2, 10, 4, 22, 16, 10, 18, 26, 34, 17, 28, 14, 20, 24, 28, 26, 34, 34, 46, 26]\n",
        "\n",
        "# Calcul de la moyenne\n",
        "mean_speed = np.mean(speed)\n",
        "mean_dist = np.mean(dist)\n",
        "\n",
        "# Calcul de la variance empirique\n",
        "variance_speed = np.var(speed)\n",
        "variance_dist = np.var(dist)\n",
        "\n",
        "# Calcul de la variance empirique non biaisée\n",
        "variance_unbiased_speed = np.var(speed, ddof=1)\n",
        "variance_unbiased_dist = np.var(dist, ddof=1)\n",
        "\n",
        "# Calcul de la médiane\n",
        "median_speed = np.median(speed)\n",
        "median_dist = np.median(dist)\n",
        "\n",
        "# Calcul de l'écart-type\n",
        "std_deviation_speed = np.std(speed)\n",
        "std_deviation_dist = np.std(dist)\n",
        "\n",
        "print(\"Moyenne de speed:\", mean_speed)\n",
        "print(\"Moyenne de dist:\", mean_dist)\n",
        "print(\"Variance empirique de speed:\", variance_speed)\n",
        "print(\"Variance empirique de dist:\", variance_dist)\n",
        "print(\"Variance empirique non biaisée de speed:\", variance_unbiased_speed)\n",
        "print(\"Variance empirique non biaisée de dist:\", variance_unbiased_dist)\n",
        "print(\"Médiane de speed:\", median_speed)\n",
        "print(\"Médiane de dist:\", median_dist)\n",
        "print(\"Écart-type de speed:\", std_deviation_speed)\n",
        "print(\"Écart-type de dist:\", std_deviation_dist)\n",
        "\n"
      ]
    },
    {
      "cell_type": "markdown",
      "id": "2b7cfd81",
      "metadata": {
        "deletable": false,
        "editable": false,
        "nbgrader": {
          "cell_type": "markdown",
          "checksum": "cab0ffba5113b39ffc6e78ad670782b7",
          "grade": false,
          "grade_id": "cell-ba81c791047f9b8c",
          "locked": true,
          "schema_version": 3,
          "solution": false,
          "task": false
        },
        "id": "2b7cfd81"
      },
      "source": [
        "2. Calculer les 3 quartiles selon la définition du cours"
      ]
    },
    {
      "cell_type": "code",
      "execution_count": null,
      "id": "2c659b47",
      "metadata": {
        "deletable": false,
        "nbgrader": {
          "cell_type": "code",
          "checksum": "207561e27d287d6b735a77130c8582bd",
          "grade": false,
          "grade_id": "cell-d5a1e637499243dc",
          "locked": false,
          "schema_version": 3,
          "solution": true,
          "task": false
        },
        "colab": {
          "base_uri": "https://localhost:8080/"
        },
        "id": "2c659b47",
        "outputId": "a35c1356-3ccb-48d9-ce1d-7587226e7d21"
      },
      "outputs": [
        {
          "output_type": "stream",
          "name": "stdout",
          "text": [
            "Premier quartile (Q1) de speed: 8.75\n",
            "Deuxième quartile (Q2) de speed (médiane): 11.0\n",
            "Troisième quartile (Q3) de speed: 12.25\n",
            "Premier quartile (Q1) de dist: 15.5\n",
            "Deuxième quartile (Q2) de dist (médiane): 23.0\n",
            "Troisième quartile (Q3) de dist: 28.0\n"
          ]
        }
      ],
      "source": [
        "# Question 2\n",
        "# YOUR CODE HERE\n",
        "\n",
        "\n",
        "speed = [4, 4, 7, 7, 8, 9, 10, 10, 10, 11, 11, 12, 12, 12, 12, 13, 13, 13, 13, 14]\n",
        "dist = [2, 10, 4, 22, 16, 10, 18, 26, 34, 17, 28, 14, 20, 24, 28, 26, 34, 34, 46, 26]\n",
        "\n",
        "# Calcul des quartiles\n",
        "q1_speed = np.percentile(speed, 25)\n",
        "q2_speed = np.percentile(speed, 50)  # Médiane\n",
        "q3_speed = np.percentile(speed, 75)\n",
        "\n",
        "q1_dist = np.percentile(dist, 25)\n",
        "q2_dist = np.percentile(dist, 50)  # Médiane\n",
        "q3_dist = np.percentile(dist, 75)\n",
        "\n",
        "print(\"Premier quartile (Q1) de speed:\", q1_speed)\n",
        "print(\"Deuxième quartile (Q2) de speed (médiane):\", q2_speed)\n",
        "print(\"Troisième quartile (Q3) de speed:\", q3_speed)\n",
        "\n",
        "print(\"Premier quartile (Q1) de dist:\", q1_dist)\n",
        "print(\"Deuxième quartile (Q2) de dist (médiane):\", q2_dist)\n",
        "print(\"Troisième quartile (Q3) de dist:\", q3_dist)\n"
      ]
    },
    {
      "cell_type": "markdown",
      "id": "f450e974",
      "metadata": {
        "deletable": false,
        "editable": false,
        "nbgrader": {
          "cell_type": "markdown",
          "checksum": "aaed2530684aff271a7000888ae535b0",
          "grade": false,
          "grade_id": "cell-685a44151fcae74b",
          "locked": true,
          "schema_version": 3,
          "solution": false,
          "task": false
        },
        "id": "f450e974"
      },
      "source": [
        "3. Que fait la fonction <code>cars.describe()</code>?"
      ]
    },
    {
      "cell_type": "code",
      "execution_count": null,
      "id": "a62fc3a5",
      "metadata": {
        "deletable": false,
        "nbgrader": {
          "cell_type": "code",
          "checksum": "db0b65706814ea7cb8a0f74e9c414fd6",
          "grade": false,
          "grade_id": "cell-1e2693cf1e7623e9",
          "locked": false,
          "schema_version": 3,
          "solution": true,
          "task": false
        },
        "id": "a62fc3a5"
      },
      "outputs": [],
      "source": [
        "# Question 3\n",
        "# YOUR CODE HERE\n",
        "\"\"\"\n",
        "adam test commentaire\n",
        "\n",
        "La fonction cars.describe() n'est pas une fonction standard en Python ou en NumPy, mais elle semble\n",
        "être utilisée dans le contexte d'un ensemble de données appelé \"cars\". En général, la fonction describe()\n",
        "est souvent utilisée avec des bibliothèques telles que pandas pour obtenir\n",
        "un résumé statistique rapide d'un DataFrame ou d'une série de données.\n",
        "\n",
        "Si vous utilisez pandas et que cars est un DataFrame, alors cars.describe()\n",
        "générera un résumé statistique des colonnes numériques de ce DataFrame.\n",
        "Le résumé inclura généralement les statistiques suivantes pour chaque colonne numérique :\n",
        "\n",
        "    1.Comptage (count) : Le nombre d'observations non nulles dans la colonne.\n",
        "    2.Moyenne (mean) : La moyenne arithmétique des valeurs de la colonne.\n",
        "    3.Écart type (std) : L'écart type des valeurs de la colonne.\n",
        "    4.Valeur minimale (min) : La valeur minimale dans la colonne.\n",
        "    5.Premier quartile (25%) : Le premier quartile de la colonne.\n",
        "    6.Médiane (50%) : La médiane de la colonne.\n",
        "    7.Troisième quartile (75%) : Le troisième quartile de la colonne.\n",
        "    8.Valeur maximale (max) : La valeur maximale dans la colonne.\n",
        "\n",
        "Ce résumé est utile pour avoir une idée rapide de la distribution et de la variabilité des données numériques\n",
        "dans le DataFrame \"cars\". Il peut aider à identifier les valeurs aberrantes, à comprendre la distribution des données,\n",
        "et à obtenir une vue d'ensemble des statistiques descriptives de l'ensemble de données.\n",
        "\"\"\"\n"
      ]
    },
    {
      "cell_type": "markdown",
      "id": "65f41c05",
      "metadata": {
        "deletable": false,
        "editable": false,
        "nbgrader": {
          "cell_type": "markdown",
          "checksum": "f487aa3487f436d03809d5ff66c1c657",
          "grade": false,
          "grade_id": "cell-74543ca09dad47c5",
          "locked": true,
          "schema_version": 3,
          "solution": false,
          "task": false
        },
        "id": "65f41c05"
      },
      "source": [
        "4. Selon le type de variables à notre disposition, quelle représentation graphique suggérez-vous ?    \n",
        "Tracer l’histogramme de la variable <code>speed</code>. Ajouter un titre, et des étiquettes aux axes $x$ et $y$."
      ]
    },
    {
      "cell_type": "code",
      "execution_count": null,
      "id": "97cd5eef",
      "metadata": {
        "deletable": false,
        "nbgrader": {
          "cell_type": "code",
          "checksum": "33a2a3a19079a95d0229e30eb1e5f9f6",
          "grade": false,
          "grade_id": "cell-0e3bb704e5966662",
          "locked": false,
          "schema_version": 3,
          "solution": true,
          "task": false
        },
        "colab": {
          "base_uri": "https://localhost:8080/",
          "height": 472
        },
        "id": "97cd5eef",
        "outputId": "013485c9-1012-4750-95b6-29b05e3dbb60"
      },
      "outputs": [
        {
          "output_type": "display_data",
          "data": {
            "text/plain": [
              "<Figure size 640x480 with 1 Axes>"
            ],
            "image/png": "[encoded data removed]"
          },
          "metadata": {}
        }
      ],
      "source": [
        "# Question 4\n",
        "# YOUR CODE HERE\n",
        "# here is histogramme by Adam\n",
        "\n",
        "\n",
        "# Données de la variable \"speed\"\n",
        "speed = [4, 4, 7, 7, 8, 9, 10, 10, 10, 11, 11, 12, 12, 12, 12, 13, 13, 13, 13, 14]\n",
        "\n",
        "# Création de l'histogramme\n",
        "plt.hist(speed, bins=10, edgecolor='black')  # Le paramètre bins détermine le nombre de barres dans l'histogramme\n",
        "\n",
        "# Ajout de titres et d'étiquettes aux axes\n",
        "plt.title('Histogramme de la variable \"speed\"')\n",
        "plt.xlabel('Valeur de \"speed\"')\n",
        "plt.ylabel('Fréquence')\n",
        "\n",
        "# Afficher l'histogramme\n",
        "plt.show()\n"
      ]
    },
    {
      "cell_type": "markdown",
      "id": "1cda8aef",
      "metadata": {
        "deletable": false,
        "editable": false,
        "nbgrader": {
          "cell_type": "markdown",
          "checksum": "4c91084e76a6aaa8787c6642b73433ef",
          "grade": false,
          "grade_id": "cell-06aa720f56804edc",
          "locked": true,
          "schema_version": 3,
          "solution": false,
          "task": false
        },
        "id": "1cda8aef"
      },
      "source": [
        "# Exercice TP2.2"
      ]
    },
    {
      "cell_type": "markdown",
      "id": "8e1affaf",
      "metadata": {
        "deletable": false,
        "editable": false,
        "nbgrader": {
          "cell_type": "markdown",
          "checksum": "b5d1a454facfadee176552e6c8b2a9ca",
          "grade": false,
          "grade_id": "cell-3474c500262bc848",
          "locked": true,
          "schema_version": 3,
          "solution": false,
          "task": false
        },
        "id": "8e1affaf"
      },
      "source": [
        "Représentation graphique d’une variable qualitative.\n",
        "1. Charger le jeu de données <code>iris</code>."
      ]
    },
    {
      "cell_type": "code",
      "execution_count": null,
      "id": "a1c8ad8d",
      "metadata": {
        "deletable": false,
        "nbgrader": {
          "cell_type": "code",
          "checksum": "5f677ff0cf83f72893a59ec208448a7b",
          "grade": false,
          "grade_id": "cell-54fb4030848291f0",
          "locked": false,
          "schema_version": 3,
          "solution": true,
          "task": false
        },
        "colab": {
          "base_uri": "https://localhost:8080/"
        },
        "id": "a1c8ad8d",
        "outputId": "397f241f-a027-4e64-d5f4-0690cdd8102d"
      },
      "outputs": [
        {
          "output_type": "stream",
          "name": "stdout",
          "text": [
            "Noms des caractéristiques : ['sepal length (cm)', 'sepal width (cm)', 'petal length (cm)', 'petal width (cm)']\n",
            "Noms des classes : ['setosa' 'versicolor' 'virginica']\n"
          ]
        }
      ],
      "source": [
        "# Question 1\n",
        "# YOUR CODE HERE\n",
        "from sklearn.datasets import load_iris\n",
        "\n",
        "# Charger le jeu de données Iris\n",
        "iris = load_iris()\n",
        "\n",
        "# Les données sont stockées dans iris.data\n",
        "# Les étiquettes de classe sont stockées dans iris.target\n",
        "# Les noms des caractéristiques sont stockés dans iris.feature_names\n",
        "# Les noms des classes sont stockés dans iris.target_names\n",
        "\n",
        "# Exemple d'accès aux données et aux étiquettes de classe\n",
        "X = iris.data  # Les données d'observation\n",
        "y = iris.target  # Les étiquettes de classe\n",
        "\n",
        "# Afficher les noms des caractéristiques et des classes\n",
        "print(\"Noms des caractéristiques :\", iris.feature_names)\n",
        "print(\"Noms des classes :\", iris.target_names)\n"
      ]
    },
    {
      "cell_type": "markdown",
      "id": "c6da5bb2",
      "metadata": {
        "deletable": false,
        "editable": false,
        "nbgrader": {
          "cell_type": "markdown",
          "checksum": "882f62fbc1dde864fc15ceedc3722b75",
          "grade": false,
          "grade_id": "cell-3a478f05d36f3816",
          "locked": true,
          "schema_version": 3,
          "solution": false,
          "task": false
        },
        "id": "c6da5bb2"
      },
      "source": [
        "2. Tracer le diagramme circulaire pour la variable qualitative.    \n",
        "Calculer la moyenne, variance empirique, variance non-biaisée, le minimum et le maximum pour les variables quantitatives.\n",
        "Calculer la moyenne et la variance non-biaisée par type de Species.\n",
        "Que remarquez vous ?\n",
        "Quelle est l’autre façon de représenter une variable qualitative ?"
      ]
    },
    {
      "cell_type": "code",
      "execution_count": null,
      "id": "48e422cb",
      "metadata": {
        "deletable": false,
        "nbgrader": {
          "cell_type": "code",
          "checksum": "04bcbc4d0e3098059fe45d49883cd009",
          "grade": false,
          "grade_id": "cell-3b2eaf20a6894d92",
          "locked": false,
          "schema_version": 3,
          "solution": true,
          "task": false
        },
        "id": "48e422cb"
      },
      "outputs": [],
      "source": [
        "# Question 2\n",
        "\n",
        "# Adam Aysoy\n"
      ]
    },
    {
      "cell_type": "markdown",
      "id": "c18eb8af",
      "metadata": {
        "id": "c18eb8af"
      },
      "source": [
        "3. Tracer la boite à moustache de <code>Sepal.Length</code> en fonction de <code>Species</code>. Quel est le but de cette\n",
        "représentation ?"
      ]
    },
    {
      "cell_type": "code",
      "execution_count": null,
      "id": "c3c1a0e8",
      "metadata": {
        "deletable": false,
        "nbgrader": {
          "cell_type": "code",
          "checksum": "80153a6fcffa989ac144f5326c17351e",
          "grade": false,
          "grade_id": "cell-03107574bc19a18e",
          "locked": false,
          "schema_version": 3,
          "solution": true,
          "task": false
        },
        "id": "c3c1a0e8"
      },
      "outputs": [],
      "source": [
        "# Question 3\n",
        "# YOUR CODE HERE\n",
        "raise NotImplementedError()"
      ]
    },
    {
      "cell_type": "markdown",
      "id": "edd3ae3a",
      "metadata": {
        "deletable": false,
        "editable": false,
        "nbgrader": {
          "cell_type": "markdown",
          "checksum": "0c238c6dc476be08eb4c5eb92a5f3c68",
          "grade": false,
          "grade_id": "cell-4f5a90ab539de343",
          "locked": true,
          "schema_version": 3,
          "solution": false,
          "task": false
        },
        "id": "edd3ae3a"
      },
      "source": [
        "# Exercice TP2.3"
      ]
    },
    {
      "cell_type": "markdown",
      "id": "ca45fab2",
      "metadata": {
        "deletable": false,
        "editable": false,
        "nbgrader": {
          "cell_type": "markdown",
          "checksum": "d4436e681d6cc34bd1767920ef159c18",
          "grade": false,
          "grade_id": "cell-57d935b80a4a145b",
          "locked": true,
          "schema_version": 3,
          "solution": false,
          "task": false
        },
        "id": "ca45fab2"
      },
      "source": [
        "Rappels sur les vecteurs de <code>numpy</code>.\n",
        "1. Créer le vecteur $x=(1,8,5,1)$ grâce à la commande code <code>np.array</code>"
      ]
    },
    {
      "cell_type": "code",
      "execution_count": null,
      "id": "41620e20",
      "metadata": {
        "deletable": false,
        "nbgrader": {
          "cell_type": "code",
          "checksum": "56e349357b4724f8b6f55b3f1b74410f",
          "grade": false,
          "grade_id": "cell-cbd48c1de537a700",
          "locked": false,
          "schema_version": 3,
          "solution": true,
          "task": false
        },
        "id": "41620e20"
      },
      "outputs": [],
      "source": [
        "# Question 1\n",
        "x=(1,8,5,1)\n",
        "# YOUR CODE HERE\n"
      ]
    },
    {
      "cell_type": "markdown",
      "id": "910206fb",
      "metadata": {
        "deletable": false,
        "editable": false,
        "nbgrader": {
          "cell_type": "markdown",
          "checksum": "66ff3744047d13adc9e08223f3e288ac",
          "grade": false,
          "grade_id": "cell-188546d8cacdc1e4",
          "locked": true,
          "schema_version": 3,
          "solution": false,
          "task": false
        },
        "id": "910206fb"
      },
      "source": [
        "2. Créer le vecteur $y=(0,1,3,5,7,9)$ en utilisant <code>np.array</code>,<code>range</code> et <code>np.concatenate</code>"
      ]
    },
    {
      "cell_type": "code",
      "execution_count": null,
      "id": "d96dcf2f",
      "metadata": {
        "deletable": false,
        "nbgrader": {
          "cell_type": "code",
          "checksum": "71b94c7db2f38a130ce516654570cec8",
          "grade": false,
          "grade_id": "cell-e2c46957f0237a9c",
          "locked": false,
          "schema_version": 3,
          "solution": true,
          "task": false
        },
        "id": "d96dcf2f"
      },
      "outputs": [],
      "source": [
        "# Question 2\n",
        "y = (0,1,3,5,7,9)\n",
        "# YOUR CODE HERE\n"
      ]
    },
    {
      "cell_type": "code",
      "execution_count": null,
      "id": "0a9f6619",
      "metadata": {
        "deletable": false,
        "editable": false,
        "nbgrader": {
          "cell_type": "code",
          "checksum": "be42ca61d9d26c12ff41e240b0c7e5a6",
          "grade": true,
          "grade_id": "cell-c5f380c3e0551020",
          "locked": true,
          "points": 1,
          "schema_version": 3,
          "solution": false,
          "task": false
        },
        "id": "0a9f6619"
      },
      "outputs": [],
      "source": [
        "assert(sum(y==np.array([0,1,3,5,7,9])))"
      ]
    },
    {
      "cell_type": "markdown",
      "id": "60cb8e3a",
      "metadata": {
        "deletable": false,
        "editable": false,
        "nbgrader": {
          "cell_type": "markdown",
          "checksum": "9195e0122fa8f9f305cc989e5a3f7881",
          "grade": false,
          "grade_id": "cell-df6366d47c1ec647",
          "locked": true,
          "schema_version": 3,
          "solution": false,
          "task": false
        },
        "id": "60cb8e3a"
      },
      "source": [
        "3. Etudier les résultats des commandes <code>y[4]</code>, <code>y[2:4]</code>, <code>y[-2]</code>, et <code>y[y<=5]</code>"
      ]
    },
    {
      "cell_type": "code",
      "execution_count": null,
      "id": "01884be9",
      "metadata": {
        "deletable": false,
        "nbgrader": {
          "cell_type": "code",
          "checksum": "97f87395ff7a831f5ab355c85ac50b49",
          "grade": false,
          "grade_id": "cell-0b2adfe6ee4e7a5a",
          "locked": false,
          "schema_version": 3,
          "solution": true,
          "task": false
        },
        "id": "01884be9"
      },
      "outputs": [],
      "source": [
        "# Question 3\n",
        "# YOUR CODE HERE\n",
        "raise NotImplementedError()"
      ]
    },
    {
      "cell_type": "markdown",
      "id": "ac595607",
      "metadata": {
        "deletable": false,
        "editable": false,
        "nbgrader": {
          "cell_type": "markdown",
          "checksum": "62df3a1512b4cdca935c8b2d271b501f",
          "grade": false,
          "grade_id": "cell-a3009bec8dbcef6e",
          "locked": true,
          "schema_version": 3,
          "solution": false,
          "task": false
        },
        "id": "ac595607"
      },
      "source": [
        "4. Extraire les éléments en position paire de $y$. Extraire les éléments plus grands que 1 de $y$."
      ]
    },
    {
      "cell_type": "code",
      "execution_count": null,
      "id": "30dc3dae",
      "metadata": {
        "deletable": false,
        "nbgrader": {
          "cell_type": "code",
          "checksum": "2f49f7db86eeedc52de3ebb80a8d34ec",
          "grade": false,
          "grade_id": "cell-f4984401283fb958",
          "locked": false,
          "schema_version": 3,
          "solution": true,
          "task": false
        },
        "id": "30dc3dae"
      },
      "outputs": [],
      "source": [
        "# Question 4\n",
        "y1 =\n",
        "y2 =\n",
        "# YOUR CODE HERE\n",
        "raise NotImplementedError()"
      ]
    },
    {
      "cell_type": "code",
      "execution_count": null,
      "id": "9e39f2a8",
      "metadata": {
        "deletable": false,
        "editable": false,
        "nbgrader": {
          "cell_type": "code",
          "checksum": "210b2c7bcbe9fc65cae2a71a523f8852",
          "grade": true,
          "grade_id": "cell-d186b05781a066c3",
          "locked": true,
          "points": 1,
          "schema_version": 3,
          "solution": false,
          "task": false
        },
        "id": "9e39f2a8"
      },
      "outputs": [],
      "source": [
        "assert(sum(y1==np.array([0,3,7])))\n",
        "assert(sum(y2==np.array([1,3,5,7,9])))"
      ]
    },
    {
      "cell_type": "markdown",
      "id": "17c6b83a",
      "metadata": {
        "deletable": false,
        "editable": false,
        "nbgrader": {
          "cell_type": "markdown",
          "checksum": "365a21b271f4199e1331f1b6b60019fa",
          "grade": false,
          "grade_id": "cell-f52a772d1ecc7728",
          "locked": true,
          "schema_version": 3,
          "solution": false,
          "task": false
        },
        "id": "17c6b83a"
      },
      "source": [
        "5. Conserver tous les élements de $y$, sauf le premier."
      ]
    },
    {
      "cell_type": "code",
      "execution_count": null,
      "id": "8f942b40",
      "metadata": {
        "deletable": false,
        "nbgrader": {
          "cell_type": "code",
          "checksum": "96f293933dd53a90b02cfe99b9e18ba8",
          "grade": false,
          "grade_id": "cell-469649aff43ae70c",
          "locked": false,
          "schema_version": 3,
          "solution": true,
          "task": false
        },
        "id": "8f942b40"
      },
      "outputs": [],
      "source": [
        "# Question 5\n",
        "# YOUR CODE HERE\n",
        "raise NotImplementedError()"
      ]
    },
    {
      "cell_type": "markdown",
      "id": "46dd300d",
      "metadata": {
        "deletable": false,
        "editable": false,
        "nbgrader": {
          "cell_type": "markdown",
          "checksum": "2cb20a2cd3c070acb4046a4b7bee7dca",
          "grade": false,
          "grade_id": "cell-cfdf47fa2177e08d",
          "locked": true,
          "schema_version": 3,
          "solution": false,
          "task": false
        },
        "id": "46dd300d"
      },
      "source": [
        "6. A l’aide de les commandes <code>np.repeat()</code> et <code>np.reshape()</code>, créer un vecteur $X$ de taille 100 obtenu\n",
        "en mettant bout à bout 25 copies de $x$. (Donc, $X$ commence ainsi $X = (1, 8, 5, 1, 1, 8, 5, 1, \\ldots)$)"
      ]
    },
    {
      "cell_type": "code",
      "execution_count": null,
      "id": "a60d5017",
      "metadata": {
        "deletable": false,
        "nbgrader": {
          "cell_type": "code",
          "checksum": "72190c12dd49e10dc4a4408cff6f6532",
          "grade": false,
          "grade_id": "cell-9bc6541c5d22cb1c",
          "locked": false,
          "schema_version": 3,
          "solution": true,
          "task": false
        },
        "id": "a60d5017"
      },
      "outputs": [],
      "source": [
        "# Question 6\n",
        "X=\n",
        "\n",
        "# YOUR CODE HERE\n",
        "raise NotImplementedError()"
      ]
    },
    {
      "cell_type": "code",
      "execution_count": null,
      "id": "a7743799",
      "metadata": {
        "deletable": false,
        "editable": false,
        "nbgrader": {
          "cell_type": "code",
          "checksum": "3dead294971f9dc0b64da4e3d69fee8f",
          "grade": true,
          "grade_id": "cell-4b244289f74a74be",
          "locked": true,
          "points": 1,
          "schema_version": 3,
          "solution": false,
          "task": false
        },
        "id": "a7743799"
      },
      "outputs": [],
      "source": [
        "assert(X[22]==5)\n",
        "assert(X[47]==1)\n",
        "assert(X[62]==5)\n",
        "assert(X[80]==1)"
      ]
    },
    {
      "cell_type": "markdown",
      "id": "587ac1a3",
      "metadata": {
        "deletable": false,
        "editable": false,
        "nbgrader": {
          "cell_type": "markdown",
          "checksum": "56d6dcf96ebe55df481bce4e6379a0d3",
          "grade": false,
          "grade_id": "cell-92f3bb58d7820bf6",
          "locked": true,
          "schema_version": 3,
          "solution": false,
          "task": false
        },
        "id": "587ac1a3"
      },
      "source": [
        "# Exercice TP2.4"
      ]
    },
    {
      "cell_type": "markdown",
      "id": "eef46c76",
      "metadata": {
        "deletable": false,
        "editable": false,
        "nbgrader": {
          "cell_type": "markdown",
          "checksum": "d2ba4d0ad60aa8d726500d9561aa8635",
          "grade": false,
          "grade_id": "cell-eaf8bbea76b9fa06",
          "locked": true,
          "schema_version": 3,
          "solution": false,
          "task": false
        },
        "id": "eef46c76"
      },
      "source": [
        "On considère à nouveau les vecteurs $x=(1,8,5,1)$ et $y=(0,1,3,5,7,9)$.\n",
        "1. Pourquoi la commande <code>plt.plot(x,y)</code> retourne-t-elle une erreur?"
      ]
    },
    {
      "cell_type": "code",
      "execution_count": null,
      "id": "00d499cc",
      "metadata": {
        "deletable": false,
        "nbgrader": {
          "cell_type": "code",
          "checksum": "a13e1b9f43abddc320fcf8fbf7792f37",
          "grade": false,
          "grade_id": "cell-00dd1c9067b31a60",
          "locked": false,
          "schema_version": 3,
          "solution": true,
          "task": false
        },
        "colab": {
          "base_uri": "https://localhost:8080/",
          "height": 213
        },
        "id": "00d499cc",
        "outputId": "25f32a9d-236c-42bf-cf6a-706c48cb5deb"
      },
      "outputs": [
        {
          "output_type": "error",
          "ename": "NameError",
          "evalue": "ignored",
          "traceback": [
            "\u001b[0;31m---------------------------------------------------------------------------\u001b[0m",
            "\u001b[0;31mNameError\u001b[0m                                 Traceback (most recent call last)",
            "\u001b[0;32m<ipython-input-28-4f39cd88415c>\u001b[0m in \u001b[0;36m<cell line: 5>\u001b[0;34m()\u001b[0m\n\u001b[1;32m      3\u001b[0m \u001b[0;31m# il faut les listes de meme taille\u001b[0m\u001b[0;34m\u001b[0m\u001b[0;34m\u001b[0m\u001b[0m\n\u001b[1;32m      4\u001b[0m \u001b[0;34m\u001b[0m\u001b[0m\n\u001b[0;32m----> 5\u001b[0;31m \u001b[0mplt\u001b[0m\u001b[0;34m.\u001b[0m\u001b[0mplot\u001b[0m\u001b[0;34m(\u001b[0m\u001b[0mx\u001b[0m\u001b[0;34m,\u001b[0m\u001b[0my\u001b[0m\u001b[0;34m)\u001b[0m\u001b[0;34m\u001b[0m\u001b[0;34m\u001b[0m\u001b[0m\n\u001b[0m",
            "\u001b[0;31mNameError\u001b[0m: name 'x' is not defined"
          ]
        }
      ],
      "source": [
        "# Question 1\n",
        "# YOUR CODE HERE\n",
        "# il faut les listes de meme taille\n",
        "\n",
        "plt.plot(x,y)"
      ]
    },
    {
      "cell_type": "markdown",
      "id": "05c6a6b5",
      "metadata": {
        "deletable": false,
        "editable": false,
        "nbgrader": {
          "cell_type": "markdown",
          "checksum": "c783e0e42af4b2a8cedaffafb8e30065",
          "grade": false,
          "grade_id": "cell-4ae592e94f218889",
          "locked": true,
          "schema_version": 3,
          "solution": false,
          "task": false
        },
        "id": "05c6a6b5"
      },
      "source": [
        "2. Ajouter $(3,5)$ au vecteur $x$ et représnter le nuage des points $(x_i,y_i)$."
      ]
    },
    {
      "cell_type": "code",
      "execution_count": null,
      "id": "ee5dc7bb",
      "metadata": {
        "deletable": false,
        "nbgrader": {
          "cell_type": "code",
          "checksum": "dfcf6269bac8b3d8b7f8c449dadbe0d6",
          "grade": false,
          "grade_id": "cell-aaffc88aacb6019b",
          "locked": false,
          "schema_version": 3,
          "solution": true,
          "task": false
        },
        "id": "ee5dc7bb"
      },
      "outputs": [],
      "source": [
        "# Question 2\n",
        "# YOUR CODE HERE\n",
        "raise NotImplementedError()"
      ]
    },
    {
      "cell_type": "markdown",
      "id": "fe0d7905",
      "metadata": {
        "deletable": false,
        "editable": false,
        "nbgrader": {
          "cell_type": "markdown",
          "checksum": "c2fed0d0cc8f48cbc7dcc9c8375374c9",
          "grade": false,
          "grade_id": "cell-af14c18899df0dc2",
          "locked": true,
          "schema_version": 3,
          "solution": false,
          "task": false
        },
        "id": "fe0d7905"
      },
      "source": [
        "3. Ajouter le point $(\\bar{x},\\bar{y})$ en rouge en utilisant la commande <code>plt.plot</code>."
      ]
    },
    {
      "cell_type": "code",
      "execution_count": null,
      "id": "464568e3",
      "metadata": {
        "deletable": false,
        "nbgrader": {
          "cell_type": "code",
          "checksum": "639e891140d766685c3bab72e0c92b29",
          "grade": false,
          "grade_id": "cell-77f2867ab237c302",
          "locked": false,
          "schema_version": 3,
          "solution": true,
          "task": false
        },
        "id": "464568e3"
      },
      "outputs": [],
      "source": [
        "# Question 3\n",
        "# YOUR CODE HERE\n",
        "raise NotImplementedError()"
      ]
    },
    {
      "cell_type": "markdown",
      "id": "64af6650",
      "metadata": {
        "deletable": false,
        "editable": false,
        "nbgrader": {
          "cell_type": "markdown",
          "checksum": "600cc29992800e932f6bc739a2156208",
          "grade": false,
          "grade_id": "cell-0401c4133975a518",
          "locked": true,
          "schema_version": 3,
          "solution": false,
          "task": false
        },
        "id": "64af6650"
      },
      "source": [
        "4. Ajouter la droite de régression en utilisant <code>plt.axline</code> et <code>ms.linregress</code>"
      ]
    },
    {
      "cell_type": "code",
      "execution_count": null,
      "id": "3b5f703f",
      "metadata": {
        "deletable": false,
        "nbgrader": {
          "cell_type": "code",
          "checksum": "bbcf43b5438deb2b889c01332a9a823a",
          "grade": false,
          "grade_id": "cell-90f2161322d6164e",
          "locked": false,
          "schema_version": 3,
          "solution": true,
          "task": false
        },
        "id": "3b5f703f"
      },
      "outputs": [],
      "source": [
        "# Question 4\n",
        "# YOUR CODE HERE\n",
        "raise NotImplementedError()"
      ]
    },
    {
      "cell_type": "markdown",
      "id": "00ebd0e8",
      "metadata": {
        "deletable": false,
        "editable": false,
        "nbgrader": {
          "cell_type": "markdown",
          "checksum": "676786ea2e9cad2b671c3ceb3e67445b",
          "grade": false,
          "grade_id": "cell-87ac6c4085250f6b",
          "locked": true,
          "schema_version": 3,
          "solution": false,
          "task": false
        },
        "id": "00ebd0e8"
      },
      "source": [
        "5. Calculer la corrélation empirique $\\text{cor}(x,y)$ pour décider si une approximation par une droite est raisonnable."
      ]
    },
    {
      "cell_type": "code",
      "execution_count": null,
      "id": "e4645c7d",
      "metadata": {
        "deletable": false,
        "nbgrader": {
          "cell_type": "code",
          "checksum": "217d1068c826c4dfe557ed73ef4e7523",
          "grade": false,
          "grade_id": "cell-3bc23fee336c3364",
          "locked": false,
          "schema_version": 3,
          "solution": true,
          "task": false
        },
        "id": "e4645c7d"
      },
      "outputs": [],
      "source": [
        "# Question 5\n",
        "# YOUR CODE HERE\n",
        "raise NotImplementedError()"
      ]
    },
    {
      "cell_type": "markdown",
      "id": "23bf59c4",
      "metadata": {
        "id": "23bf59c4"
      },
      "source": [
        "# Exercice TP2.5"
      ]
    },
    {
      "cell_type": "markdown",
      "id": "e0a2ae8d",
      "metadata": {
        "deletable": false,
        "editable": false,
        "nbgrader": {
          "cell_type": "markdown",
          "checksum": "ce0ae4aab5faabb643ab7ee9d8e76863",
          "grade": false,
          "grade_id": "cell-db26fd7637e23dd8",
          "locked": true,
          "schema_version": 3,
          "solution": false,
          "task": false
        },
        "id": "e0a2ae8d"
      },
      "source": [
        "1. Charger le jeu de données <code>women</code>. Représenter les deux variables \"taille\" et \"poids\" par un nuage de points, avec la droite de régression du poids en fonction de la taille"
      ]
    },
    {
      "cell_type": "code",
      "execution_count": null,
      "id": "e5a6bbc0",
      "metadata": {
        "deletable": false,
        "nbgrader": {
          "cell_type": "code",
          "checksum": "1de9a5ec73e7f1dbdb71197e7a90f122",
          "grade": false,
          "grade_id": "cell-d302490a68716029",
          "locked": false,
          "schema_version": 3,
          "solution": true,
          "task": false
        },
        "id": "e5a6bbc0"
      },
      "outputs": [],
      "source": [
        "# Question 1\n",
        "\n",
        "# YOUR CODE HERE\n",
        "raise NotImplementedError()"
      ]
    },
    {
      "cell_type": "markdown",
      "id": "89537e89",
      "metadata": {
        "deletable": false,
        "editable": false,
        "nbgrader": {
          "cell_type": "markdown",
          "checksum": "8df3f83e5fb341d459363017a8773472",
          "grade": false,
          "grade_id": "cell-75e7a0745fef6146",
          "locked": true,
          "schema_version": 3,
          "solution": false,
          "task": false
        },
        "id": "89537e89"
      },
      "source": [
        "2. Discuter si cette approximation est raisonnable. Comment interprète-t-on un point qui se trouve nettement au-dessus/au-dessous de la droite de régression"
      ]
    },
    {
      "cell_type": "markdown",
      "id": "7da27688",
      "metadata": {
        "deletable": false,
        "editable": false,
        "nbgrader": {
          "cell_type": "markdown",
          "checksum": "985ae369be743905a9a654c78c341d2d",
          "grade": false,
          "grade_id": "cell-88d1c608317e33b7",
          "locked": true,
          "schema_version": 3,
          "solution": false,
          "task": false
        },
        "id": "7da27688"
      },
      "source": [
        "# Exercice TP2.6"
      ]
    },
    {
      "cell_type": "markdown",
      "id": "f8bbf85e",
      "metadata": {
        "deletable": false,
        "editable": false,
        "nbgrader": {
          "cell_type": "markdown",
          "checksum": "c22ed50dd072fc0360d38173c9e3f203",
          "grade": false,
          "grade_id": "cell-c0a51dbc517548a7",
          "locked": true,
          "schema_version": 3,
          "solution": false,
          "task": false
        },
        "id": "f8bbf85e"
      },
      "source": [
        "Un fichier \"Donnees.csv\" est présent dans le dossier. Importer ce fichier avec la function <code>pd.read_csv(\"fichier.csv\",sep=\"\\t\") </code>.\n",
        "Ces données correspondent à l’âge, au poids, à la taille, à la consommation hebdomadaire d’alcool (en nombre de verres bus), au sexe, au ronflement et au tabagisme, d’un échantillon de 100 personnes.\n",
        "    \n",
        "\n",
        "1. Commencer par identifier les variables qualitatives nominales, ordinales et quantitative discrètes, continues. Typer les données qualitatives correctement en Python (on pourra utiliser les commandes <code>astype</code>) et renommer les niveaux avec la variable <code>cat.categories</code>."
      ]
    },
    {
      "cell_type": "code",
      "execution_count": null,
      "id": "b03a597c",
      "metadata": {
        "deletable": false,
        "nbgrader": {
          "cell_type": "code",
          "checksum": "318d82aea38ead1b0b4abbab66b06ce9",
          "grade": false,
          "grade_id": "cell-774febc087f5fab7",
          "locked": false,
          "schema_version": 3,
          "solution": true,
          "task": false
        },
        "id": "b03a597c"
      },
      "outputs": [],
      "source": [
        "# Question 1\n",
        "# Récupération du fichier et création d'un DataFrame\n",
        "Donnees= pd.read_csv(\"Donnees.csv\",sep=\"\\t\")\n",
        "\n",
        "# Création des séries pour chaque variable\n",
        "for nom in Donnees.keys():\n",
        "    globals()[nom] = Donnees[nom]\n",
        "\n",
        "    # YOUR CODE HERE\n",
        "    raise NotImplementedError()\n"
      ]
    },
    {
      "cell_type": "markdown",
      "id": "4e85026a",
      "metadata": {
        "deletable": false,
        "editable": false,
        "nbgrader": {
          "cell_type": "markdown",
          "checksum": "210fd7ab8c5315679752e8204bc1f352",
          "grade": false,
          "grade_id": "cell-b356e03004d47f06",
          "locked": true,
          "schema_version": 3,
          "solution": false,
          "task": false
        },
        "id": "4e85026a"
      },
      "source": [
        "2. Calculer la corrélation entre poids et taille.   \n",
        "Que font les commandes suivantes ?   \n",
        "Quelles sont les variables continues les plus corrélées entre elles ?\n",
        "\n",
        "<p style=\"background:#F3F3F3\"> <code style=\"background:#F3F3F3;\"># Code à recopier\n",
        "import seaborn as sns\n",
        "df=pd.DataFrame({\"age\":Donnees['age'],\n",
        "                  \"poids\":Donnees['poids'],\n",
        "                  \"taille\":Donnees['taille']})\n",
        "print('Premier print :\\n',df.cov(),'\\n');\n",
        "print('Deuxième print :\\n',df.corr(),'\\n')\n",
        "sns.pairplot(df);\n",
        "</code> </p>"
      ]
    },
    {
      "cell_type": "code",
      "execution_count": null,
      "id": "1c4d6bac",
      "metadata": {
        "deletable": false,
        "nbgrader": {
          "cell_type": "code",
          "checksum": "5ca09e34c20b8166dcb8a0733449a7ad",
          "grade": false,
          "grade_id": "cell-04087f9754ff84aa",
          "locked": false,
          "schema_version": 3,
          "solution": true,
          "task": false
        },
        "id": "1c4d6bac"
      },
      "outputs": [],
      "source": [
        "# Question 2\n",
        "# YOUR CODE HERE\n",
        "raise NotImplementedError()"
      ]
    },
    {
      "cell_type": "markdown",
      "id": "11d88940",
      "metadata": {
        "deletable": false,
        "editable": false,
        "nbgrader": {
          "cell_type": "markdown",
          "checksum": "91fe28d463c60888ad0a90bfa16e9067",
          "grade": false,
          "grade_id": "cell-df2065b8bf25a1e6",
          "locked": true,
          "schema_version": 3,
          "solution": false,
          "task": false
        },
        "id": "11d88940"
      },
      "source": [
        "3. Tracer un nuage de points du **poids** en fonction de la **taille.**              \n",
        "Calculer la droite de régression de ces deux variables et l’ajouter en rouge au nuage de points.    \n",
        "Discuter si cette approximation est raisonnable. Avez-vous un commentaire sur cet échantillon de données ?"
      ]
    },
    {
      "cell_type": "code",
      "execution_count": null,
      "id": "7e34722b",
      "metadata": {
        "deletable": false,
        "nbgrader": {
          "cell_type": "code",
          "checksum": "9a972a7064ce1570e985381df93084ee",
          "grade": false,
          "grade_id": "cell-9c384356e1e1e066",
          "locked": false,
          "schema_version": 3,
          "solution": true,
          "task": false
        },
        "id": "7e34722b"
      },
      "outputs": [],
      "source": [
        "# Question 3\n",
        "\n",
        "# YOUR CODE HERE\n",
        "raise NotImplementedError()"
      ]
    },
    {
      "cell_type": "markdown",
      "id": "42498aa7",
      "metadata": {
        "deletable": false,
        "editable": false,
        "nbgrader": {
          "cell_type": "markdown",
          "checksum": "577a49e13d7c90848d5d58a71e35b7a1",
          "grade": false,
          "grade_id": "cell-fc1e5f6f9e7125e2",
          "locked": true,
          "schema_version": 3,
          "solution": false,
          "task": false
        },
        "id": "42498aa7"
      },
      "source": [
        "4. Tracer sur un même graphique les diagrammes à moustaches de **age**, **poids** et **taille**."
      ]
    },
    {
      "cell_type": "code",
      "execution_count": null,
      "id": "574fc9ee",
      "metadata": {
        "deletable": false,
        "nbgrader": {
          "cell_type": "code",
          "checksum": "5cb3f8def35b82b65fa1aba96c47add2",
          "grade": false,
          "grade_id": "cell-aad8f18875ff5ac1",
          "locked": false,
          "schema_version": 3,
          "solution": true,
          "task": false
        },
        "id": "574fc9ee"
      },
      "outputs": [],
      "source": [
        "# Question 4\n",
        "\n",
        "# YOUR CODE HERE\n",
        "raise NotImplementedError()"
      ]
    },
    {
      "cell_type": "markdown",
      "id": "89bacf00",
      "metadata": {
        "deletable": false,
        "editable": false,
        "nbgrader": {
          "cell_type": "markdown",
          "checksum": "28e9b4c75ef3723053a704cd920b7b2e",
          "grade": false,
          "grade_id": "cell-8c80345d1f90fc83",
          "locked": true,
          "schema_version": 3,
          "solution": false,
          "task": false
        },
        "id": "89bacf00"
      },
      "source": [
        "5. Calculer la table de contingence des fréquences de **ronfle** et **tabac.**      \n",
        "Quel est le mode du couple **(tabac,ronfle)** ?"
      ]
    },
    {
      "cell_type": "code",
      "execution_count": null,
      "id": "44c787b7",
      "metadata": {
        "deletable": false,
        "nbgrader": {
          "cell_type": "code",
          "checksum": "babb8b6b5063425fb0f320635784cd33",
          "grade": false,
          "grade_id": "cell-57cbb9b8b872f6cd",
          "locked": false,
          "schema_version": 3,
          "solution": true,
          "task": false
        },
        "id": "44c787b7"
      },
      "outputs": [],
      "source": [
        "# Question 5\n",
        "\n",
        "# YOUR CODE HERE\n",
        "raise NotImplementedError()\n",
        "\n"
      ]
    },
    {
      "cell_type": "markdown",
      "id": "2ea39f13",
      "metadata": {
        "deletable": false,
        "editable": false,
        "nbgrader": {
          "cell_type": "markdown",
          "checksum": "594aabed961e17e2901805104e385560",
          "grade": false,
          "grade_id": "cell-c09314b4a7d22540",
          "locked": true,
          "schema_version": 3,
          "solution": false,
          "task": false
        },
        "id": "2ea39f13"
      },
      "source": [
        "6. Tracer les fonctions de répartition empirique de **alcool** et **poids.**            \n",
        "Le diagramme en escalier vous paraît-il pertinent pour les deux?    \n",
        "Indication : <code>from statsmodels.distributions .empirical_distribution import ECDF </code>"
      ]
    },
    {
      "cell_type": "code",
      "execution_count": null,
      "id": "f870a432",
      "metadata": {
        "deletable": false,
        "nbgrader": {
          "cell_type": "code",
          "checksum": "c93fc69a436dbd2b13080be73caf8ff7",
          "grade": false,
          "grade_id": "cell-974aa4b1e4a50ba0",
          "locked": false,
          "schema_version": 3,
          "solution": true,
          "task": false
        },
        "id": "f870a432"
      },
      "outputs": [],
      "source": [
        "# Question 6\n",
        "\n",
        "# YOUR CODE HERE\n",
        "raise NotImplementedError()\n",
        "\n"
      ]
    }
  ],
  "metadata": {
    "kernelspec": {
      "display_name": "Python 3 (ipykernel)",
      "language": "python",
      "name": "python3"
    },
    "language_info": {
      "codemirror_mode": {
        "name": "ipython",
        "version": 3
      },
      "file_extension": ".py",
      "mimetype": "text/x-python",
      "name": "python",
      "nbconvert_exporter": "python",
      "pygments_lexer": "ipython3",
      "version": "3.9.13"
    },
    "varInspector": {
      "cols": {
        "lenName": 16,
        "lenType": 16,
        "lenVar": 40
      },
      "kernels_config": {
        "python": {
          "delete_cmd_postfix": "",
          "delete_cmd_prefix": "del ",
          "library": "var_list.py",
          "varRefreshCmd": "print(var_dic_list())"
        },
        "r": {
          "delete_cmd_postfix": ") ",
          "delete_cmd_prefix": "rm(",
          "library": "var_list.r",
          "varRefreshCmd": "cat(var_dic_list()) "
        }
      },
      "types_to_exclude": [
        "module",
        "function",
        "builtin_function_or_method",
        "instance",
        "_Feature"
      ],
      "window_display": false
    },
    "colab": {
      "provenance": []
    }
  },
  "nbformat": 4,
  "nbformat_minor": 5
}