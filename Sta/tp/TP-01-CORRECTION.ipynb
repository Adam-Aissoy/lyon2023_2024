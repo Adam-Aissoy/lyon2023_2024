{
 "cells": [
  {
   "cell_type": "markdown",
   "id": "2570dd01",
   "metadata": {},
   "source": [
    "# TP 1 : Manipuler python, numpy et matplotlib"
   ]
  },
  {
   "cell_type": "markdown",
   "id": "03f8cdff",
   "metadata": {
    "nbgrader": {
     "grade": false,
     "grade_id": "cell-0a98faa36d5019ba",
     "locked": true,
     "schema_version": 3,
     "solution": false,
     "task": false
    }
   },
   "source": [
    "## Exercice 1 : Quelques notions de base de python"
   ]
  },
  {
   "cell_type": "markdown",
   "id": "6220cff6",
   "metadata": {
    "nbgrader": {
     "grade": false,
     "grade_id": "cell-f4f549cd3950d6fb",
     "locked": true,
     "schema_version": 3,
     "solution": false,
     "task": false
    }
   },
   "source": [
    "1. Boucle *for* : Que font les codes suivants :\n",
    "\n",
    "* Code 1 :\n",
    "<p style=\"background:#F3F3F3;\" >\n",
    "<code style=\"background:#F3F3F3;\">for i in [0,1,2,3]:\n",
    "    print(i) </code> </p>  \n",
    "\n",
    "\n",
    "* Code 2 : \n",
    "<p style=\"background:#F3F3F3;\" >\n",
    "<code style=\"background:#F3F3F3;\">for j in range(4):\n",
    "    print(j) </code> </p>\n",
    "\n",
    "\n",
    "*Attention l'indentation peut s'avérer erronée lors de la copie, si le* <code> print </code> *n'apparait pas en vert corriger.* \n",
    "    \n",
    "    "
   ]
  },
  {
   "cell_type": "code",
   "execution_count": null,
   "id": "0ba1e7bd",
   "metadata": {
    "nbgrader": {
     "grade": false,
     "grade_id": "cell-6b586ed23d37357c",
     "locked": false,
     "schema_version": 3,
     "solution": true,
     "task": false
    }
   },
   "outputs": [],
   "source": [
    "# Question 1 :\n",
    "\n",
    "print(\"Code 1 :\\n\")\n",
    "# Code 1 \n",
    "for i in [0,1,2,3]:\n",
    "    print(i) \n",
    "\n",
    "print(\"\\nCode 2 :\\n\")\n",
    "# Code 2\n",
    "for j in range(4):\n",
    "    print(j)\n",
    "\n",
    "# Ils font la même chose."
   ]
  },
  {
   "cell_type": "markdown",
   "id": "3dba1dc9",
   "metadata": {
    "nbgrader": {
     "grade": false,
     "grade_id": "cell-57f60fc85c89f94e",
     "locked": true,
     "schema_version": 3,
     "solution": false,
     "task": false
    }
   },
   "source": [
    "2. Condition *if* : Que fait le code suivant:\n",
    "\n",
    "<p style=\"background:#F3F3F3\">\n",
    "<code style=\"background:#F3F3F3;\"># Code à recopier\n",
    "a= 8\n",
    "if a>4:\n",
    "    print(\"a est plus grand que 4\")\n",
    "else:\n",
    "    print(\"a est plus petit ou egal a 4\")</code> </p>"
   ]
  },
  {
   "cell_type": "code",
   "execution_count": null,
   "id": "2b5d537d",
   "metadata": {
    "nbgrader": {
     "grade": false,
     "grade_id": "cell-dee616af522a520a",
     "locked": false,
     "schema_version": 3,
     "solution": true,
     "task": false
    }
   },
   "outputs": [],
   "source": [
    "# Question 2\n",
    "\n",
    "a = 8\n",
    "if a>4:\n",
    "    print(\"a est plus grand que 4\")\n",
    "else:\n",
    "    print(\"a est plus petit ou egal a 4\")\n"
   ]
  },
  {
   "cell_type": "markdown",
   "id": "7f666dff",
   "metadata": {
    "nbgrader": {
     "grade": false,
     "grade_id": "cell-177d21c2a3d8a1d6",
     "locked": true,
     "schema_version": 3,
     "solution": false,
     "task": false
    }
   },
   "source": [
    "3. *Indentation* :  Python utilise l’indentation pour comprendre la fin des boucles, conditions, fonctions...   \n",
    "Tester le code suivant, et corriger l’erreur.\n",
    "\n",
    "<p style=\"background:#F3F3F3;margin-left: -0.5em;\" ><code style=\"background:#F3F3F3;\"># Code à recopier\n",
    "for i in range(10):\n",
    "if not i==4:\n",
    "print(i)</code> </p>"
   ]
  },
  {
   "cell_type": "code",
   "execution_count": null,
   "id": "278a3674",
   "metadata": {
    "nbgrader": {
     "grade": false,
     "grade_id": "cell-a06c258a39da0fd1",
     "locked": false,
     "schema_version": 3,
     "solution": true,
     "task": false
    }
   },
   "outputs": [],
   "source": [
    "# Question 3 avec code indenté\n",
    "\n",
    "for i in range(10):\n",
    "    if not i==4:\n",
    "        print(i)\n",
    "\n"
   ]
  },
  {
   "cell_type": "markdown",
   "id": "78f71b10",
   "metadata": {
    "nbgrader": {
     "grade": false,
     "grade_id": "cell-4b5fef51c82210c8",
     "locked": true,
     "schema_version": 3,
     "solution": false,
     "task": false
    }
   },
   "source": [
    "4. *Aide*: Lorsque vous cherchez comment utiliser une fonction, penser à chercher dans l’aide et sur\n",
    "internet."
   ]
  },
  {
   "cell_type": "code",
   "execution_count": null,
   "id": "d6aa7b44",
   "metadata": {
    "nbgrader": {
     "grade": false,
     "grade_id": "cell-937759dda80c6767",
     "locked": true,
     "schema_version": 3,
     "solution": false,
     "task": false
    }
   },
   "outputs": [],
   "source": [
    "s = sum(1,2,3,4) #soulève une erreur à cause des arguments de la fonction sum"
   ]
  },
  {
   "cell_type": "code",
   "execution_count": null,
   "id": "411b118b",
   "metadata": {
    "nbgrader": {
     "grade": false,
     "grade_id": "cell-7d1155076eb29b53",
     "locked": true,
     "schema_version": 3,
     "solution": false,
     "task": false
    }
   },
   "outputs": [],
   "source": [
    "help(sum)  # il lui faut un \"iterable\" par exemple une liste"
   ]
  },
  {
   "cell_type": "code",
   "execution_count": null,
   "id": "db94453d",
   "metadata": {
    "nbgrader": {
     "grade": false,
     "grade_id": "cell-519ef7c3e5de6199",
     "locked": true,
     "schema_version": 3,
     "solution": false,
     "task": false
    }
   },
   "outputs": [],
   "source": [
    "# Code corrigé\n",
    "s = sum([1,2,3,4])\n",
    "print(s)"
   ]
  },
  {
   "cell_type": "markdown",
   "id": "eb2ed897",
   "metadata": {
    "nbgrader": {
     "grade": false,
     "grade_id": "cell-23e85b56d7e71458",
     "locked": true,
     "schema_version": 3,
     "solution": false,
     "task": false
    }
   },
   "source": [
    "5. *Variables aléatoires*: Comprendre et expliquer le code suivant (utiliser toutes les ressources d’aide\n",
    "nécessaire pour comprendre ce que font les fonctions) :\n",
    "\n",
    "<p style=\"background:#F3F3F3\">\n",
    "<code style=\"background:#F3F3F3;\"># Code à recopier 1\n",
    "b = np.random.binomial(1,1/2,30)\n",
    "print(b) </code> </p>\n",
    "\n",
    "<p style=\"background:#F3F3F3\">\n",
    "<code style=\"background:#F3F3F3;\"># Code à recopier 2\n",
    "b = np.random.binomial(1,1/2,30)\n",
    "print(b)\n",
    "# Pourquoi est-ce différent de la première fois ?</code> </p>\n",
    "\n",
    "<p style=\"background:#F3F3F3\">\n",
    "<code style=\"background:#F3F3F3;\"># Code à recopier 3\n",
    "m = np.random.binomial(1,1/2,(4,3))\n",
    "print(m) </code> </p>"
   ]
  },
  {
   "cell_type": "code",
   "execution_count": null,
   "id": "ce52a171",
   "metadata": {
    "nbgrader": {
     "grade": false,
     "grade_id": "cell-2341250c4068eb5a",
     "locked": false,
     "schema_version": 3,
     "solution": true,
     "task": false
    }
   },
   "outputs": [],
   "source": [
    "# Question 5\n",
    "\n",
    "# Pour utiliser la bibliothèque NumPy il est généralement nécessaire de l'importer :\n",
    "import numpy as np\n",
    "\n",
    "# Code à recopier 1\n",
    "print('Code 1 \\n')\n",
    "b = np.random.binomial(1,1/2,30)\n",
    "print(b) \n",
    "# Code à recopier 2\n",
    "print('\\nCode 2\\n')\n",
    "b = np.random.binomial(1,1/2,30)\n",
    "print(b)\n",
    "# Le code génère un tirage d'une variable aléatoire on n'obtient pas deux fois \n",
    "# le même tirage d'affiler.\n",
    "\n",
    "# Code à recopier 3\n",
    "print('\\nCode 3\\n')\n",
    "m = np.random.binomial(1,1/2,(4,3))\n",
    "print(m) \n"
   ]
  },
  {
   "cell_type": "markdown",
   "id": "a1d0947d",
   "metadata": {
    "nbgrader": {
     "grade": false,
     "grade_id": "cell-ed872147244341fb",
     "locked": true,
     "schema_version": 3,
     "solution": false,
     "task": false
    }
   },
   "source": [
    "## Exercice 2 : NumPy"
   ]
  },
  {
   "cell_type": "markdown",
   "id": "be1cc347",
   "metadata": {
    "nbgrader": {
     "grade": false,
     "grade_id": "cell-819e6ac56c6f9195",
     "locked": true,
     "schema_version": 3,
     "solution": false,
     "task": false
    }
   },
   "source": [
    "1. Commandes de base\n",
    "\n",
    "<p style=\"background:#F3F3F3\"> <code style=\"background:#F3F3F3;\"># Code à recopier\n",
    "b = np.cos(1); print(\"b = %s\" % b)\n",
    "bb = np.sqrt(4); print(\"bb = %s\" % bb) \n",
    " </code> </p>"
   ]
  },
  {
   "cell_type": "code",
   "execution_count": null,
   "id": "97e18dab",
   "metadata": {
    "nbgrader": {
     "grade": false,
     "grade_id": "cell-3d20e3a4ae5f7f50",
     "locked": false,
     "schema_version": 3,
     "solution": true,
     "task": false
    }
   },
   "outputs": [],
   "source": [
    "# Question 1\n",
    "\n",
    "\n",
    "b = np.cos(1); print(\"b = %s\" % b)\n",
    "bb = np.sqrt(4); print(\"bb = %s\" % bb) \n"
   ]
  },
  {
   "cell_type": "markdown",
   "id": "0473e7d0",
   "metadata": {
    "nbgrader": {
     "grade": false,
     "grade_id": "cell-7f456f13b1f9b56f",
     "locked": true,
     "schema_version": 3,
     "solution": false,
     "task": false
    }
   },
   "source": [
    "2. Création de tableaux NumPy\n",
    "\n",
    "<p style=\"background:#F3F3F3\"> <code style=\"background:#F3F3F3;\"># Code à recopier 1\n",
    "u = [1, 9, -4, 0.5]\n",
    "print(2*u)\n",
    "</code> </p>\n",
    "\n",
    "<p style=\"background:#F3F3F3\"> <code style=\"background:#F3F3F3;\"># Code à recopier 2\n",
    "v = np.array([1, 9, -4, 0.5])\n",
    "print(2*v)\n",
    "print(20*\"-\")\n",
    "print(v[2])\n",
    "print(20*\"-\")\n",
    "print(v[0])\n",
    "</code> </p>\n",
    "\n",
    "<p style=\"background:#F3F3F3\"> <code style=\"background:#F3F3F3;\"># Code à recopier 3\n",
    "print(v.size)\n",
    "print(20*\"-\")\n",
    "print(np.size(v))\n",
    "print(20*\"-\")\n",
    "print(v.shape)\n",
    "# la numérotation commence à zero\n",
    "</code> </p>"
   ]
  },
  {
   "cell_type": "code",
   "execution_count": null,
   "id": "5d03670b",
   "metadata": {
    "nbgrader": {
     "grade": false,
     "grade_id": "cell-2b21537e87b7c0e8",
     "locked": false,
     "schema_version": 3,
     "solution": true,
     "task": false
    }
   },
   "outputs": [],
   "source": [
    "# Question 2 \n",
    "\n",
    "\n",
    "# Code à recopier 1\n",
    "print('Code 1\\n')\n",
    "u = [1, 9, -4, 0.5]\n",
    "print(2*u)\n",
    "\n",
    "# Code à recopier 2\n",
    "print('\\nCode 2\\n')\n",
    "v = np.array([1, 9, -4, 0.5])\n",
    "print(2*v)\n",
    "print(20*\"-\")\n",
    "print(v[2])\n",
    "print(20*\"-\")\n",
    "print(v[0])\n",
    "\n",
    "# Code à recopier 3\n",
    "print('\\nCode 3\\n')\n",
    "print(v.size)\n",
    "print(20*\"-\")\n",
    "print(np.size(v))\n",
    "print(20*\"-\")\n",
    "print(v.shape)\n",
    "# la numérotation commence à zero\n"
   ]
  },
  {
   "cell_type": "markdown",
   "id": "6c2781b1",
   "metadata": {
    "nbgrader": {
     "grade": false,
     "grade_id": "cell-485a2d3d6abe3cef",
     "locked": true,
     "schema_version": 3,
     "solution": false,
     "task": false
    }
   },
   "source": [
    "3. Intervalles et répétitions\n",
    "\n",
    "<p style=\"background:#F3F3F3\"> <code style=\"background:#F3F3F3;\"># Code à recopier 1\n",
    "print(np.linspace(0, 2 * np.pi, 10))\n",
    "print(20*\"-\")\n",
    "print(np.linspace(20, 1, 10))\n",
    "print(20*\"-\")\n",
    "x,dx=np.linspace(0,6.3,10,retstep=True)\n",
    "print(x)\n",
    "print(20*\"-\")\n",
    "print(dx)\n",
    "</code> </p>\n",
    "\n",
    "<p style=\"background:#F3F3F3\"> <code style=\"background:#F3F3F3;\"># Code à recopier 2\n",
    "x = np.arange(0, 10, 0.5)\n",
    "print(x)\n",
    "</code> </p>\n",
    "\n",
    "<p style=\"background:#F3F3F3\"> <code style=\"background:#F3F3F3;\"># Code à recopier 3\n",
    "dx = 0.5\n",
    "x = np.arange(0, 10+dx/2, dx)\n",
    "print(x)\n",
    "</code> </p>\n",
    "\n",
    "<p style=\"background:#F3F3F3\"> <code style=\"background:#F3F3F3;\"># Code à recopier 4\n",
    "y = np.arange(10, -dx/2, -dx)\n",
    "print(y)\n",
    "</code> </p>\n",
    "\n",
    "<p style=\"background:#F3F3F3\"> <code style=\"background:#F3F3F3;\"># Code à recopier 5\n",
    "print(np.repeat(3.2, 4))\n",
    "print(20*\"-\")\n",
    "x = np.array([[1,2],[3,4]])\n",
    "print(np.repeat(x, 2))\n",
    "print(20*\"-\")\n",
    "print(np.repeat(x, 3, axis=1))\n",
    "print(20*\"-\")\n",
    "print(np.repeat(x, 4, axis=0))\n",
    "</code> </p>"
   ]
  },
  {
   "cell_type": "code",
   "execution_count": null,
   "id": "72010bef",
   "metadata": {
    "nbgrader": {
     "grade": false,
     "grade_id": "cell-386729b6f77a5308",
     "locked": false,
     "schema_version": 3,
     "solution": true,
     "task": false
    }
   },
   "outputs": [],
   "source": [
    "# Question 4\n",
    "\n",
    "# Code à recopier 1\n",
    "print('Code 1\\n')\n",
    "print(np.linspace(0, 2 * np.pi, 10))\n",
    "print(20*\"-\")\n",
    "print(np.linspace(20, 1, 10))\n",
    "print(20*\"-\")\n",
    "x,dx=np.linspace(0,6.3,10,retstep=True)\n",
    "print(x)\n",
    "print(20*\"-\")\n",
    "print(dx)\n",
    "\n",
    "# Code à recopier 2\n",
    "print('\\nCode 2\\n')\n",
    "x = np.arange(0, 10, 0.5)\n",
    "print(x)\n",
    "\n",
    "# Code à recopier 3\n",
    "print('\\nCode 3\\n')\n",
    "dx = 0.5\n",
    "x = np.arange(0, 10+dx/2, dx)\n",
    "print(x)\n",
    "\n",
    "# Code à recopier 4\n",
    "print('\\nCode 4\\n')\n",
    "y = np.arange(10, -dx/2, -dx)\n",
    "print(y)\n",
    "\n",
    "# Code à recopier 5\n",
    "print('\\nCode 5\\n')\n",
    "print(np.repeat(3.2, 4))\n",
    "print(20*\"-\")\n",
    "x = np.array([[1,2],[3,4]])\n",
    "print(np.repeat(x, 2))\n",
    "print(20*\"-\")\n",
    "print(np.repeat(x, 3, axis=1))\n",
    "print(20*\"-\")\n",
    "print(np.repeat(x, 4, axis=0))\n",
    "\n"
   ]
  },
  {
   "cell_type": "markdown",
   "id": "baa22dd8",
   "metadata": {
    "nbgrader": {
     "grade": false,
     "grade_id": "cell-8b34dada9b7281a8",
     "locked": true,
     "schema_version": 3,
     "solution": false,
     "task": false
    }
   },
   "source": [
    "4. Opérations sur les vecteurs\n",
    "\n",
    "<p style=\"background:#F3F3F3\"> <code style=\"background:#F3F3F3;\"># Code à recopier\n",
    "A = np.array([1, 2, 3, 6])\n",
    "B = np.array([0, -4, 9, 4]);\n",
    "print(np.exp(A))\n",
    "print(20*\"-\")\n",
    "print(A+B)\n",
    "print(20*\"-\")\n",
    "print(A*B)\n",
    "print(20*\"-\")\n",
    "print(A/B)\n",
    "print(20*\"-\")\n",
    "print(2*A)\n",
    "print(20*\"-\")\n",
    "print(A+1)\n",
    "print(20*\"-\")\n",
    "print(A+np.array([1,2,3]))\n",
    "</code> </p>"
   ]
  },
  {
   "cell_type": "code",
   "execution_count": null,
   "id": "81d69057",
   "metadata": {
    "nbgrader": {
     "grade": false,
     "grade_id": "cell-e0dc06587f6ac6ef",
     "locked": false,
     "schema_version": 3,
     "solution": true,
     "task": false
    }
   },
   "outputs": [],
   "source": [
    "# Question 4\n",
    "# Code à recopier\n",
    "A = np.array([1, 2, 3, 6])\n",
    "B = np.array([0, -4, 9, 4]);\n",
    "print(20*\"-\")\n",
    "print(np.exp(A))\n",
    "print(20*\"-\")\n",
    "print(A+B)\n",
    "print(20*\"-\")\n",
    "print(A*B)\n",
    "print(20*\"-\")\n",
    "print(A/B) # Problème division par zéro (warning l'exécution continue)\n",
    "print(20*\"-\")\n",
    "print(2*A)\n",
    "print(20*\"-\")\n",
    "print(A+1)\n",
    "print(20*\"-\")\n",
    "print(A+np.array([1,2,3])) # Incompatibilité de dimensions (erreur)"
   ]
  },
  {
   "cell_type": "markdown",
   "id": "10af4c44",
   "metadata": {
    "nbgrader": {
     "grade": false,
     "grade_id": "cell-48dabf4eec1bf9d2",
     "locked": true,
     "schema_version": 3,
     "solution": false,
     "task": false
    }
   },
   "source": [
    "5. Sélection\n",
    "\n",
    "<p style=\"background:#F3F3F3\"> <code style=\"background:#F3F3F3;\"># Code à recopier\n",
    "print(A==2)\n",
    "print(20*\"-\")\n",
    "print(A[A>2])\n",
    "</code> </p>"
   ]
  },
  {
   "cell_type": "code",
   "execution_count": null,
   "id": "7bcc2ff4",
   "metadata": {
    "nbgrader": {
     "grade": false,
     "grade_id": "cell-51863cb6238f5e59",
     "locked": false,
     "schema_version": 3,
     "solution": true,
     "task": false
    }
   },
   "outputs": [],
   "source": [
    "# Question 5\n",
    "\n",
    "# Code à recopier\n",
    "print(20*\"-\")\n",
    "print(A==2)\n",
    "print(20*\"-\")\n",
    "print(A[A>2])"
   ]
  },
  {
   "cell_type": "markdown",
   "id": "37208854",
   "metadata": {
    "nbgrader": {
     "grade": false,
     "grade_id": "cell-0116f14fadef69e8",
     "locked": true,
     "schema_version": 3,
     "solution": false,
     "task": false
    }
   },
   "source": [
    "6. Sommes et sommes cumulées\n",
    "\n",
    "<p style=\"background:#F3F3F3\"> <code style=\"background:#F3F3F3;\"># Code à recopier\n",
    "u = np.arange(1,10,1)\n",
    "print(np.sum(u))\n",
    "print(20*\"-\")\n",
    "print(np.cumsum(u))\n",
    "</code> </p>"
   ]
  },
  {
   "cell_type": "code",
   "execution_count": null,
   "id": "ead8420e",
   "metadata": {
    "nbgrader": {
     "grade": false,
     "grade_id": "cell-79f93de3acdba433",
     "locked": false,
     "schema_version": 3,
     "solution": true,
     "task": false
    }
   },
   "outputs": [],
   "source": [
    "# Question 5\n",
    "\n",
    "# Code à recopier\n",
    "u = np.arange(1,10,1)\n",
    "print(np.sum(u))\n",
    "print(20*\"-\")\n",
    "print(np.cumsum(u))"
   ]
  },
  {
   "cell_type": "markdown",
   "id": "c95146c9",
   "metadata": {
    "nbgrader": {
     "grade": false,
     "grade_id": "cell-ee5db7ee97c51530",
     "locked": true,
     "schema_version": 3,
     "solution": false,
     "task": false
    }
   },
   "source": [
    "7. Création et opération sur les matrices     \n",
    "Repérez les éventuels problèmes:\n",
    "\n",
    "<p style=\"background:#F3F3F3\"> <code style=\"background:#F3F3F3;\"># Code à recopier\n",
    "A.shape = (2,2); print(A)\n",
    "print(20*\"-\")\n",
    "print(A.transpose())\n",
    "C = B.reshape(2,2).T\n",
    "print(C); \n",
    "print(20*\"-\")\n",
    "print(A @ C)\n",
    "print(20*\"-\")\n",
    "print(np.matmul(A,C))\n",
    "print(20*\"-\")\n",
    "print(C[1,])\n",
    "print(20*\"-\")\n",
    "print(C/A[1,])\n",
    "</code> </p>"
   ]
  },
  {
   "cell_type": "code",
   "execution_count": null,
   "id": "ffcd07ad",
   "metadata": {
    "nbgrader": {
     "grade": false,
     "grade_id": "cell-7c5477d85fe79959",
     "locked": false,
     "schema_version": 3,
     "solution": true,
     "task": false
    }
   },
   "outputs": [],
   "source": [
    "# Question 7\n",
    "\n",
    "# Code à recopier\n",
    "A.shape = (2,2); print(A)\n",
    "print(20*\"-\")\n",
    "print(A.transpose())\n",
    "C = B.reshape(2,2).T\n",
    "print(C); \n",
    "print(20*\"-\")\n",
    "print(A @ C)\n",
    "print(20*\"-\")\n",
    "print(np.matmul(A,C))\n",
    "print(20*\"-\")\n",
    "print(C[1,])\n",
    "print(20*\"-\")\n",
    "print(C/A[1,])\n"
   ]
  },
  {
   "cell_type": "markdown",
   "id": "5b349677",
   "metadata": {
    "nbgrader": {
     "grade": false,
     "grade_id": "cell-bda4c3569398df7b",
     "locked": true,
     "schema_version": 3,
     "solution": false,
     "task": false
    }
   },
   "source": [
    "## Exercice 3 : Matplotlib"
   ]
  },
  {
   "cell_type": "markdown",
   "id": "882c6c0c",
   "metadata": {
    "nbgrader": {
     "grade": false,
     "grade_id": "cell-4d2ee0923762199a",
     "locked": true,
     "schema_version": 3,
     "solution": false,
     "task": false
    }
   },
   "source": [
    "Pour tracer le graphique d’une fonction mathématique, on utilise la bibliothèque *matplotlib*, dont\n",
    "la partie pertinent *pyplot* a été importée sous le\n",
    "petit nom de *plt*."
   ]
  },
  {
   "cell_type": "code",
   "execution_count": null,
   "id": "9d40486b",
   "metadata": {
    "nbgrader": {
     "grade": false,
     "grade_id": "cell-cd4ecc4bdb2ab8ba",
     "locked": true,
     "schema_version": 3,
     "solution": false,
     "task": false
    }
   },
   "outputs": [],
   "source": [
    "import matplotlib.pyplot as plt"
   ]
  },
  {
   "cell_type": "markdown",
   "id": "e7d45d2e",
   "metadata": {},
   "source": [
    "1. Recopier et exécuter les codes suivants :\n",
    "\n",
    "<p style=\"background:#F3F3F3\"> <code style=\"background:#F3F3F3;\"># Code à recopier 1\n",
    "x = np.linspace(0, 2*np.pi, 100)\n",
    "plt.plot(x, np.sin(x))\n",
    "plt.show()\n",
    "</code> </p>\n",
    "\n",
    "<p style=\"background:#F3F3F3\"> <code style=\"background:#F3F3F3;\"># Code à recopier 2\n",
    "plt.plot(x, np.cos(x))\n",
    "plt.plot(x, np.sin(x))\n",
    "plt.show()\n",
    "</code> </p>\n",
    "\n",
    "<p style=\"background:#F3F3F3\"> <code style=\"background:#F3F3F3;\"># Code à recopier 3\n",
    "plt.plot([0, 1], [1, 0], \"b\",linewidth=2,linestyle='--',label='segment')\n",
    "plt.plot(0.6, 0.9, \"r+\",label='point')\n",
    "plt.xlabel(\"x\")\n",
    "plt.ylabel(\"y\")\n",
    "plt.title(\"joli graphe\")\n",
    "plt.legend()\n",
    "plt.show()\n",
    "</code> </p>"
   ]
  },
  {
   "cell_type": "code",
   "execution_count": null,
   "id": "61afdd36",
   "metadata": {
    "nbgrader": {
     "grade": false,
     "grade_id": "cell-8b21d51aacfefe70",
     "locked": false,
     "schema_version": 3,
     "solution": true,
     "task": false
    }
   },
   "outputs": [],
   "source": [
    "# Question 1\n",
    "\n",
    "# Code à recopier 1\n",
    "plt.figure(1)\n",
    "x = np.linspace(0, 2*np.pi, 100)\n",
    "plt.plot(x, np.sin(x))\n",
    "plt.show()\n",
    "\n",
    "plt.figure(2)\n",
    "plt.plot(x, np.cos(x))\n",
    "plt.plot(x, np.sin(x))\n",
    "plt.show()\n",
    "\n",
    "plt.figure(3)\n",
    "plt.plot([0, 1], [1, 0], \"b\",linewidth=2,linestyle='--',label='segment')\n",
    "plt.plot(0.6, 0.9, \"r+\",label='point')\n",
    "plt.xlabel(\"x\")\n",
    "plt.ylabel(\"y\")\n",
    "plt.title(\"Joli graphe !\")\n",
    "plt.legend()\n",
    "plt.show()\n",
    "\n"
   ]
  },
  {
   "cell_type": "markdown",
   "id": "26c64865",
   "metadata": {
    "nbgrader": {
     "grade": false,
     "grade_id": "cell-f9ca0259038404e2",
     "locked": true,
     "schema_version": 3,
     "solution": false,
     "task": false
    }
   },
   "source": [
    "2. Plusieurs graphes dans la même image :\n",
    "\n",
    "<p style=\"background:#F3F3F3\"> <code style=\"background:#F3F3F3;\"># Code à recopier\n",
    "fig,ax=plt.subplots(1,2)\n",
    "ax[0].plot(x, np.sin(x))\n",
    "ax[1].plot(y, y*np.sin(y))\n",
    "fig.suptitle(\"2 jolis graphes\")\n",
    "ax[0].set_title(\"sinus\")\n",
    "ax[1].set_xlabel(\"x\")\n",
    "plt.show()\n",
    "</code> </p>"
   ]
  },
  {
   "cell_type": "code",
   "execution_count": null,
   "id": "dd8264be",
   "metadata": {
    "nbgrader": {
     "grade": false,
     "grade_id": "cell-a74b1778d2636801",
     "locked": false,
     "schema_version": 3,
     "solution": true,
     "task": false
    }
   },
   "outputs": [],
   "source": [
    "# Question 2\n",
    "\n",
    "# Code à recopier\n",
    "fig,ax=plt.subplots(1,2)\n",
    "ax[0].plot(x, np.sin(x))\n",
    "ax[1].plot(y, y*np.sin(y))\n",
    "fig.suptitle(\"2 jolis graphes\")\n",
    "ax[0].set_title(\"sinus\")\n",
    "ax[1].set_xlabel(\"x\")\n",
    "plt.show()\n"
   ]
  },
  {
   "cell_type": "markdown",
   "id": "2b8fc091",
   "metadata": {
    "nbgrader": {
     "grade": false,
     "grade_id": "cell-1a52b76af7910d02",
     "locked": true,
     "schema_version": 3,
     "solution": false,
     "task": false
    }
   },
   "source": [
    "## Exercices supplémentaires"
   ]
  },
  {
   "cell_type": "markdown",
   "id": "411a83f0",
   "metadata": {
    "nbgrader": {
     "grade": false,
     "grade_id": "cell-e933e73fead64b69",
     "locked": true,
     "schema_version": 3,
     "solution": false,
     "task": false
    }
   },
   "source": [
    "### Exercice 1 :  La factorielle\n",
    "\n",
    "Ecrire une fonction qui prend un entier et retourne sa factorielle.   \n",
    "On rappelle que : $n!=1 \\times 2 \\times ...\\times (n-2) \\times(n-1)\\times n$."
   ]
  },
  {
   "cell_type": "code",
   "execution_count": null,
   "id": "0be45f84",
   "metadata": {
    "nbgrader": {
     "grade": false,
     "grade_id": "cell-18f506952b7c5981",
     "locked": false,
     "schema_version": 3,
     "solution": true,
     "task": false
    }
   },
   "outputs": [],
   "source": [
    "def factorielle(n):\n",
    "    prod=1\n",
    "    for i in range(2,n+1):\n",
    "        prod*=i\n",
    "    return prod"
   ]
  },
  {
   "cell_type": "code",
   "execution_count": null,
   "id": "81032c8b",
   "metadata": {
    "nbgrader": {
     "grade": true,
     "grade_id": "cell-3151acc2bdf5d7bf",
     "locked": true,
     "points": 1,
     "schema_version": 3,
     "solution": false,
     "task": false
    }
   },
   "outputs": [],
   "source": [
    "assert(factorielle(4)==24)"
   ]
  },
  {
   "cell_type": "markdown",
   "id": "e037f2c9",
   "metadata": {
    "nbgrader": {
     "grade": false,
     "grade_id": "cell-dcf37ba6f5211f35",
     "locked": true,
     "schema_version": 3,
     "solution": false,
     "task": false
    }
   },
   "source": [
    "### Exercice 2 :  Coefficient Binômial\n",
    "\n",
    "On rappelle la formule du coefficient binomial :\n",
    "\n",
    "$C_{n}^k=\\binom{n}{k}=\\frac{n!}{k!(n - k)!}.$\n"
   ]
  },
  {
   "cell_type": "code",
   "execution_count": null,
   "id": "6ed08396",
   "metadata": {
    "nbgrader": {
     "grade": false,
     "grade_id": "cell-bb2fb592d4da275b",
     "locked": false,
     "schema_version": 3,
     "solution": true,
     "task": false
    }
   },
   "outputs": [],
   "source": [
    "def coeff_binomial(k,n):\n",
    "    if (k<0) or (n<0):\n",
    "        raise ValueError(\"Entiers positifs pour k et n\")\n",
    "    if k>n:\n",
    "        return 0\n",
    "    coeff=factorielle(n)/(factorielle(k)*factorielle(n-k))\n",
    "    return coeff\n"
   ]
  },
  {
   "cell_type": "code",
   "execution_count": null,
   "id": "edd48fb2",
   "metadata": {
    "nbgrader": {
     "grade": true,
     "grade_id": "cell-f02cf6a829654e39",
     "locked": true,
     "points": 1,
     "schema_version": 3,
     "solution": false,
     "task": false
    }
   },
   "outputs": [],
   "source": [
    "assert(coeff_binomial(3,6)==20)\n"
   ]
  },
  {
   "cell_type": "markdown",
   "id": "d27e50bf",
   "metadata": {
    "nbgrader": {
     "grade": false,
     "grade_id": "cell-02c2304c20bd95ea",
     "locked": true,
     "schema_version": 3,
     "solution": false,
     "task": false
    }
   },
   "source": [
    "### Exercice 3 : Triangle de Pascal\n",
    "\n",
    "Le triangle de Pascal (https://fr.wikipedia.org/wiki/Triangle_de_Pascal), contient les coefficients binomiaux. On peut le lire comme un tableau triangulaire inférieur où la case à l'intersection entre la ligne $n$ et la colonne $k$ correspond au coefficient $\\binom{n-1}{k-1}$.  \n",
    "\n",
    "On se propose dans cet exercice d'écrire une fonction qui prend en entrée un entier $n$ et qui retourne le triangle de Pascal (sous forme de tableau) à $n+1$ lignes.\n",
    "\n"
   ]
  },
  {
   "cell_type": "code",
   "execution_count": null,
   "id": "c925402f",
   "metadata": {
    "nbgrader": {
     "grade": false,
     "grade_id": "cell-92721d47684f596f",
     "locked": false,
     "schema_version": 3,
     "solution": true,
     "task": false
    }
   },
   "outputs": [],
   "source": [
    "# Indice : utiliser une double boucle for\n",
    "def triangle_pascal(n):\n",
    "    tableau = np.zeros((n+1,n+1),int)\n",
    "    tableau[:,0]=1;tableau[1,1]=1\n",
    "    for i in range(2,n+1):\n",
    "        for j in range(1,i+1):\n",
    "            tableau[i,j]=tableau[i-1,j-1]+tableau[i-1,j]\n",
    "    return tableau\n",
    "    '''\n",
    "    # Autre solution possible\n",
    "    for i in range(n+1):\n",
    "        for j in range(i+1):\n",
    "            tableau[i,j]=coeff_binomial(i,j)\n",
    "    return tableau\n",
    "    '''\n",
    "\n",
    "    "
   ]
  },
  {
   "cell_type": "code",
   "execution_count": null,
   "id": "dfe55f05",
   "metadata": {
    "nbgrader": {
     "grade": true,
     "grade_id": "cell-ffdb4593163dd940",
     "locked": true,
     "points": 1,
     "schema_version": 3,
     "solution": false,
     "task": false
    }
   },
   "outputs": [],
   "source": [
    "triangle4=triangle_pascal(4)\n",
    "assert(triangle4[-1,2]==6)\n"
   ]
  },
  {
   "cell_type": "markdown",
   "id": "c9eda29b",
   "metadata": {
    "nbgrader": {
     "grade": false,
     "grade_id": "cell-3b156285805c7296",
     "locked": true,
     "schema_version": 3,
     "solution": false,
     "task": false
    }
   },
   "source": [
    "# Exercice 4 : Suite de Syracuse \n",
    "\n",
    "La suite de Syracuse est une suite récurrente d'entiers naturels définie comme suit :\n",
    "\n",
    "$$\n",
    "u_0 = N \\in \\mathbb{N},\\;\\\\\n",
    "u_n = \n",
    "\\begin{cases}\n",
    "\\frac{u_{n-1}}{2},\\; si \\; u_{n-1}\\; pair\\\\\n",
    "3u_{n-1}+1, \\; sinon.\n",
    "\\end{cases}\n",
    "$$\n",
    "\n",
    "On se propose d'écrire une fonction qui prend en entrée le nombre de termes à calculer $n$ et la valeur du premier terme $u_0$ et qui renvoit un vecteur contenant tous ces termes.  \n",
    "\n",
    "Une fois la fonction écrite, il est proposé de tracer la suite pour plusieurs valeurs (que vous pouvez varier). Que pouvez-vous dire sur cette suite ?   \n",
    "Pour plus d'information voir : https://fr.wikipedia.org/wiki/Conjecture_de_Syracuse."
   ]
  },
  {
   "cell_type": "code",
   "execution_count": null,
   "id": "e34669dd",
   "metadata": {
    "nbgrader": {
     "grade": false,
     "grade_id": "cell-fb2df4c96aaad4e3",
     "locked": false,
     "schema_version": 3,
     "solution": true,
     "task": false
    }
   },
   "outputs": [],
   "source": [
    "def syracuse(n,u_0):\n",
    "    U_syr=np.zeros(n+1,int)\n",
    "    U_syr[0]=u_0\n",
    "    for i in range(1,n+1):\n",
    "        if U_syr[i-1]%2 ==0:\n",
    "            U_syr[i] = U_syr[i-1]/2\n",
    "        else:\n",
    "            U_syr[i] = 3*U_syr[i-1]+1\n",
    "    return U_syr\n",
    "    "
   ]
  },
  {
   "cell_type": "code",
   "execution_count": null,
   "id": "dc9e6046",
   "metadata": {
    "nbgrader": {
     "grade": true,
     "grade_id": "cell-9845ece55eafafd6",
     "locked": true,
     "points": 1,
     "schema_version": 3,
     "solution": false,
     "task": false
    }
   },
   "outputs": [],
   "source": [
    "U10 = syracuse(20,11)\n",
    "assert(U10[-1]==1)\n",
    "### BEGIN HIDDEN TESTS\n",
    "U20 = syracuse(20,13)\n",
    "assert(U20[-1]==2)\n",
    "### END HIDDEN TESTS"
   ]
  },
  {
   "cell_type": "code",
   "execution_count": null,
   "id": "57c210a0",
   "metadata": {
    "nbgrader": {
     "grade": false,
     "grade_id": "cell-a8bf5f157e0545f0",
     "locked": false,
     "schema_version": 3,
     "solution": true,
     "task": false
    }
   },
   "outputs": [],
   "source": [
    "U_syr27 = syracuse(100,27)\n",
    "U_syr12 = syracuse(100,12)\n",
    "\n",
    "fig,ax=plt.subplots(1,2)\n",
    "ax[0].plot(U_syr27,'r+')\n",
    "ax[1].plot(U_syr12,'r+')\n",
    "\n",
    "ax[0].set_title('Suite de Syracuse avec $u_0$=27')\n",
    "ax[1].set_title('Suite de Syracuse avec $u_0$=12')\n",
    "ax[0].set_xlabel(\"n\")\n",
    "ax[1].set_xlabel(\"n\")\n",
    "ax[0].set_ylabel(\"$u_n$\")\n",
    "ax[1].set_ylabel(\"$u_n$\")\n",
    "\n",
    "fig.tight_layout()\n",
    "\n",
    "plt.show()\n"
   ]
  }
 ],
 "metadata": {
  "celltoolbar": "Create Assignment",
  "kernelspec": {
   "display_name": "Python 3 (ipykernel)",
   "language": "python",
   "name": "python3"
  },
  "language_info": {
   "codemirror_mode": {
    "name": "ipython",
    "version": 3
   },
   "file_extension": ".py",
   "mimetype": "text/x-python",
   "name": "python",
   "nbconvert_exporter": "python",
   "pygments_lexer": "ipython3",
   "version": "3.9.13"
  },
  "varInspector": {
   "cols": {
    "lenName": 16,
    "lenType": 16,
    "lenVar": 40
   },
   "kernels_config": {
    "python": {
     "delete_cmd_postfix": "",
     "delete_cmd_prefix": "del ",
     "library": "var_list.py",
     "varRefreshCmd": "print(var_dic_list())"
    },
    "r": {
     "delete_cmd_postfix": ") ",
     "delete_cmd_prefix": "rm(",
     "library": "var_list.r",
     "varRefreshCmd": "cat(var_dic_list()) "
    }
   },
   "types_to_exclude": [
    "module",
    "function",
    "builtin_function_or_method",
    "instance",
    "_Feature"
   ],
   "window_display": false
  }
 },
 "nbformat": 4,
 "nbformat_minor": 5
}
