{
 "cells": [
  {
   "cell_type": "markdown",
   "id": "ab91ba0d",
   "metadata": {},
   "source": [
    "# TP 2 : Statistiques avec Numpy et Pandas"
   ]
  },
  {
   "cell_type": "markdown",
   "id": "429456db",
   "metadata": {},
   "source": [
    "## Installation de packages"
   ]
  },
  {
   "cell_type": "code",
   "execution_count": null,
   "id": "421ec0ab",
   "metadata": {},
   "outputs": [],
   "source": [
    "# A faire executer une fois au début\n",
    "! pip install pydataset"
   ]
  },
  {
   "cell_type": "code",
   "execution_count": null,
   "id": "bc9f286e",
   "metadata": {
    "nbgrader": {
     "grade": false,
     "grade_id": "cell-12008cbfee9ba790",
     "locked": true,
     "schema_version": 3,
     "solution": false,
     "task": false
    }
   },
   "outputs": [],
   "source": [
    "import numpy as np\n",
    "import matplotlib.pyplot as plt\n",
    "import pandas as pd\n",
    "import scipy.stats.mstats as ms\n",
    "from pydataset import data"
   ]
  },
  {
   "cell_type": "markdown",
   "id": "6dbe3f28",
   "metadata": {
    "nbgrader": {
     "grade": false,
     "grade_id": "cell-fb85c75da19a0553",
     "locked": true,
     "schema_version": 3,
     "solution": false,
     "task": false
    }
   },
   "source": [
    "## Exercice 1 : Statistiques avec numpy (np)\n",
    "On import les données à l'aide de la commande suivante"
   ]
  },
  {
   "cell_type": "code",
   "execution_count": null,
   "id": "dde6328d",
   "metadata": {},
   "outputs": [],
   "source": [
    "data('cars',show_doc=True)\n",
    "cars=data('cars')"
   ]
  },
  {
   "cell_type": "markdown",
   "id": "d79e1ade",
   "metadata": {
    "nbgrader": {
     "grade": false,
     "grade_id": "cell-10aa489b8f5bbe67",
     "locked": true,
     "schema_version": 3,
     "solution": false,
     "task": false
    }
   },
   "source": [
    "1. Calculer la moyenne, variance empirique, variance empirique non-biaisée, médiane, écart-type des variables <code>speed</code> et <code>dist</code>."
   ]
  },
  {
   "cell_type": "code",
   "execution_count": null,
   "id": "e12ed8be",
   "metadata": {
    "nbgrader": {
     "grade": false,
     "grade_id": "cell-bfb892ef2673e920",
     "locked": false,
     "schema_version": 3,
     "solution": true,
     "task": false
    }
   },
   "outputs": [],
   "source": [
    "# Question 1\n",
    "# ddof = 0 --> Empirique \n",
    "# ddof = 1 --> non biaisé\n",
    "\n",
    "print('*** Vitesse ***',2*'\\n',\n",
    "      'Moyenne : ',np.mean(cars.speed),'\\n',\n",
    "      'Variance empirique (normalisée par 1/N) : ', np.var(cars.speed),'\\n',\n",
    "      'Variance non biaisée (normalisée par 1/(N-1)) : ',np.var(cars.speed,ddof=1),'\\n',\n",
    "      'Ecart type (non-biaisé)',np.std(cars.speed,ddof=1),'\\n',\n",
    "      'Médiane : ',np.median(cars.speed),'\\n')\n",
    "\n",
    "print('*** Distance ***',2*'\\n',\n",
    "      'Moyenne : ',np.mean(cars.dist),'\\n',\n",
    "      'Variance empirique (normalisée par 1/N) : ', np.var(cars.dist),'\\n',\n",
    "      'Variance non biaisée (normalisée par 1/(N-1)) : ',np.var(cars.dist,ddof=1),'\\n',\n",
    "      'Ecart type (non-biaisé)',np.std(cars.dist,ddof=1),'\\n',\n",
    "      'Médiane : ',np.median(cars.dist))\n"
   ]
  },
  {
   "cell_type": "markdown",
   "id": "2b7cfd81",
   "metadata": {
    "nbgrader": {
     "grade": false,
     "grade_id": "cell-ba81c791047f9b8c",
     "locked": true,
     "schema_version": 3,
     "solution": false,
     "task": false
    }
   },
   "source": [
    "2. Calculer les 3 quartiles selon la définition du cours"
   ]
  },
  {
   "cell_type": "code",
   "execution_count": null,
   "id": "2c659b47",
   "metadata": {
    "nbgrader": {
     "grade": false,
     "grade_id": "cell-d5a1e637499243dc",
     "locked": false,
     "schema_version": 3,
     "solution": true,
     "task": false
    }
   },
   "outputs": [],
   "source": [
    "# Question 2\n",
    "\n",
    "print(\"Quartiles pour la vitesse : \", \n",
    "      np.quantile(cars.dist, [0.25,0.5,0.75],interpolation=\"lower\"),'\\n')\n",
    "\n",
    "# Si version après 1.22.0: changer interpolation pour méthode (par exemple sur Colab)\n",
    "\n",
    "print(\"Quartiles pour la distance : \",\n",
    "      np.quantile(cars.speed, [0.25,0.5,0.75],interpolation=\"lower\"), '\\n')\n"
   ]
  },
  {
   "cell_type": "markdown",
   "id": "f450e974",
   "metadata": {
    "nbgrader": {
     "grade": false,
     "grade_id": "cell-685a44151fcae74b",
     "locked": true,
     "schema_version": 3,
     "solution": false,
     "task": false
    }
   },
   "source": [
    "3. Que fait la fonction <code>cars.describe()</code>?"
   ]
  },
  {
   "cell_type": "code",
   "execution_count": null,
   "id": "a62fc3a5",
   "metadata": {
    "nbgrader": {
     "grade": false,
     "grade_id": "cell-1e2693cf1e7623e9",
     "locked": false,
     "schema_version": 3,
     "solution": true,
     "task": false
    }
   },
   "outputs": [],
   "source": [
    "# Question 3\n",
    "\n",
    "cars.describe()\n",
    "\n"
   ]
  },
  {
   "cell_type": "markdown",
   "id": "65f41c05",
   "metadata": {
    "nbgrader": {
     "grade": false,
     "grade_id": "cell-74543ca09dad47c5",
     "locked": true,
     "schema_version": 3,
     "solution": false,
     "task": false
    }
   },
   "source": [
    "4. Selon le type de variables à notre disposition, quelle représentation graphique suggérez-vous ?    \n",
    "Tracer l’histogramme de la variable <code>speed</code>. Ajouter un titre, et des étiquettes aux axes $x$ et $y$."
   ]
  },
  {
   "cell_type": "code",
   "execution_count": null,
   "id": "97cd5eef",
   "metadata": {
    "nbgrader": {
     "grade": false,
     "grade_id": "cell-0e3bb704e5966662",
     "locked": false,
     "schema_version": 3,
     "solution": true,
     "task": false
    }
   },
   "outputs": [],
   "source": [
    "# Question 4\n",
    "\n",
    "fig, ax = plt.subplots();\n",
    "ax.hist(cars.speed, color=\"blue\");\n",
    "ax.set_ylabel('Effectifs');\n",
    "ax.set_xlabel('Vitesses');\n",
    "fig.suptitle(\"Histogramme de la variable speed\");\n"
   ]
  },
  {
   "cell_type": "markdown",
   "id": "1cda8aef",
   "metadata": {
    "nbgrader": {
     "grade": false,
     "grade_id": "cell-06aa720f56804edc",
     "locked": true,
     "schema_version": 3,
     "solution": false,
     "task": false
    }
   },
   "source": [
    "## Exercice 2 : Statistiques avec pandas"
   ]
  },
  {
   "cell_type": "markdown",
   "id": "8e1affaf",
   "metadata": {
    "nbgrader": {
     "grade": false,
     "grade_id": "cell-3474c500262bc848",
     "locked": true,
     "schema_version": 3,
     "solution": false,
     "task": false
    }
   },
   "source": [
    "Représentation graphique d’une variable qualitative.\n",
    "1. Charger le jeu de données <code>iris</code>."
   ]
  },
  {
   "cell_type": "code",
   "execution_count": null,
   "id": "a1c8ad8d",
   "metadata": {
    "nbgrader": {
     "grade": false,
     "grade_id": "cell-54fb4030848291f0",
     "locked": false,
     "schema_version": 3,
     "solution": true,
     "task": false
    }
   },
   "outputs": [],
   "source": [
    "# Question 1\n",
    "\n",
    "iris=data(\"iris\")\n"
   ]
  },
  {
   "cell_type": "markdown",
   "id": "c6da5bb2",
   "metadata": {
    "nbgrader": {
     "grade": false,
     "grade_id": "cell-3a478f05d36f3816",
     "locked": true,
     "schema_version": 3,
     "solution": false,
     "task": false
    }
   },
   "source": [
    "2. Tracer le diagramme circulaire pour la variable qualitative.    \n",
    "Calculer la moyenne, variance empirique, variance non-biaisée, le minimum et le maximum pour les variables quantitatives. \n",
    "Calculer la moyenne et la variance non-biaisée par type de Species. \n",
    "Que remarquez vous ? \n",
    "Quelle est l’autre façon de représenter une variable qualitative ?"
   ]
  },
  {
   "cell_type": "code",
   "execution_count": null,
   "id": "2f4d4b2a",
   "metadata": {
    "nbgrader": {
     "grade": false,
     "grade_id": "cell-3b2eaf20a6894d92",
     "locked": false,
     "schema_version": 3,
     "solution": true,
     "task": false
    }
   },
   "outputs": [],
   "source": [
    "# Question 2\n",
    "\n",
    "# Remarques :\n",
    "# numeric_only=True ignorer les nan (possiblement source d'erreur)\n",
    "print(\"* Statistiques générales pour toutes les espèces : \\n\\n\",iris.describe(), '\\n')\n",
    "\n",
    "print(\"Variance empirique :\\n\")\n",
    "print(iris.var(ddof=0,numeric_only=True),'\\n')\n",
    "\n",
    "print(\"Variance empirique non-biaisée : \\n\")\n",
    "print(iris.var(ddof=1,numeric_only=True),'\\n')\n",
    "\n",
    "print(\"* Statistiques générales pour Setosa : \\n\")\n",
    "print(iris[iris[\"Species\"]==\"setosa\"].describe(),'\\n')\n",
    "\n",
    "print(\"Variance empirique non-biaisée : \\n\")\n",
    "print(iris[iris[\"Species\"]==\"setosa\"].var(ddof=1,numeric_only=True),'\\n')"
   ]
  },
  {
   "cell_type": "code",
   "execution_count": null,
   "id": "cb7ca9e8",
   "metadata": {
    "nbgrader": {
     "grade": false,
     "grade_id": "cell-3b2eaf20a6894d92",
     "locked": false,
     "schema_version": 3,
     "solution": true,
     "task": false
    }
   },
   "outputs": [],
   "source": [
    "# Moyenne pour chaque espèce\n",
    "print('* Moyenne par espèces :','\\n')\n",
    "print('Setosa : ')\n",
    "print(iris[iris[\"Species\"]==\"setosa\"].mean(numeric_only=True),'\\n')\n",
    "print('Versicolor : ')\n",
    "print(iris[iris[\"Species\"]==\"versicolor\"].mean(numeric_only=True),'\\n')\n",
    "print('Virginica : ')\n",
    "print(iris[iris[\"Species\"]==\"virginica\"].mean(numeric_only=True),'\\n')\n",
    "# Variance pour chaque espèce\n",
    "print('* Variances par espèces :','\\n')\n",
    "print('Setosa : ')\n",
    "print(iris[iris[\"Species\"]==\"setosa\"].var(ddof=1,numeric_only=True),'\\n')\n",
    "print('Versicolor : ')\n",
    "print(iris[iris[\"Species\"]==\"versicolor\"].var(ddof=1,numeric_only=True),'\\n')\n",
    "print('Virginica : ')\n",
    "print(iris[iris[\"Species\"]==\"virginica\"].var(ddof=1,numeric_only=True),'\\n')"
   ]
  },
  {
   "cell_type": "code",
   "execution_count": null,
   "id": "48e422cb",
   "metadata": {
    "nbgrader": {
     "grade": false,
     "grade_id": "cell-3b2eaf20a6894d92",
     "locked": false,
     "schema_version": 3,
     "solution": true,
     "task": false
    }
   },
   "outputs": [],
   "source": [
    "# Diagramme circulaire\n",
    "\n",
    "#--- Solution 1\n",
    "plt.title(\"Solution 1\")\n",
    "iris[\"Species\"]=iris[\"Species\"].astype(\"category\");\n",
    "plt.pie(iris[\"Species\"].value_counts(),labels=iris[\"Species\"].cat.categories);\n",
    "plt.show()\n",
    "\n",
    "#--- Solution 2\n",
    "plt.title(\"Solution 2\")\n",
    "plt.pie(iris[\"Species\"].value_counts(),labels=iris[\"Species\"].value_counts().keys())\n",
    "plt.show()\n",
    "\n",
    "#--- Histogramme\n",
    "plt.figure(2)\n",
    "iris[\"Species\"].hist();\n"
   ]
  },
  {
   "cell_type": "markdown",
   "id": "c18eb8af",
   "metadata": {},
   "source": [
    "3. Tracer la boite à moustache de <code>Sepal.Length</code> en fonction de <code>Species</code>. Quel est le but de cette\n",
    "représentation ?"
   ]
  },
  {
   "cell_type": "code",
   "execution_count": null,
   "id": "c3c1a0e8",
   "metadata": {
    "nbgrader": {
     "grade": false,
     "grade_id": "cell-03107574bc19a18e",
     "locked": false,
     "schema_version": 3,
     "solution": true,
     "task": false
    }
   },
   "outputs": [],
   "source": [
    "# Question 3\n",
    "\n",
    "iris.boxplot(column=\"Sepal.Length\",by=\"Species\");\n",
    "iris.boxplot(column=\"Petal.Width\",by=\"Species\");\n"
   ]
  },
  {
   "cell_type": "markdown",
   "id": "edd3ae3a",
   "metadata": {
    "nbgrader": {
     "grade": false,
     "grade_id": "cell-4f5a90ab539de343",
     "locked": true,
     "schema_version": 3,
     "solution": false,
     "task": false
    }
   },
   "source": [
    "## Exercice 3 : Rappel sur les vecteurs"
   ]
  },
  {
   "cell_type": "markdown",
   "id": "ca45fab2",
   "metadata": {
    "nbgrader": {
     "grade": false,
     "grade_id": "cell-57d935b80a4a145b",
     "locked": true,
     "schema_version": 3,
     "solution": false,
     "task": false
    }
   },
   "source": [
    "Rappels sur les vecteurs de <code>numpy</code>.\n",
    "1. Créer le vecteur $x=(1,8,5,1)$ grâce à la commande code <code>np.array</code>"
   ]
  },
  {
   "cell_type": "code",
   "execution_count": null,
   "id": "41620e20",
   "metadata": {
    "nbgrader": {
     "grade": false,
     "grade_id": "cell-cbd48c1de537a700",
     "locked": false,
     "schema_version": 3,
     "solution": true,
     "task": false
    }
   },
   "outputs": [],
   "source": [
    "# Question 1\n",
    "x=np.array([1,8,5,1])\n"
   ]
  },
  {
   "cell_type": "markdown",
   "id": "910206fb",
   "metadata": {
    "nbgrader": {
     "grade": false,
     "grade_id": "cell-188546d8cacdc1e4",
     "locked": true,
     "schema_version": 3,
     "solution": false,
     "task": false
    }
   },
   "source": [
    "2. Créer le vecteur $y=(0,1,3,5,7,9)$ en utilisant <code>np.array</code>,<code>range</code> et <code>np.concatenate</code>"
   ]
  },
  {
   "cell_type": "code",
   "execution_count": null,
   "id": "d96dcf2f",
   "metadata": {
    "nbgrader": {
     "grade": false,
     "grade_id": "cell-e2c46957f0237a9c",
     "locked": false,
     "schema_version": 3,
     "solution": true,
     "task": false
    }
   },
   "outputs": [],
   "source": [
    "# Question 2\n",
    "\n",
    "y=np.concatenate(([0],1+2*np.array(range(5))))\n",
    "y=np.concatenate(([0],[i for i in range(10) if i%2==1]))\n",
    "y=np.concatenate(([0],range(1,10,2))) \n"
   ]
  },
  {
   "cell_type": "markdown",
   "id": "60cb8e3a",
   "metadata": {
    "nbgrader": {
     "grade": false,
     "grade_id": "cell-df6366d47c1ec647",
     "locked": true,
     "schema_version": 3,
     "solution": false,
     "task": false
    }
   },
   "source": [
    "3. Etudier les résultats des commandes <code>y[4]</code>, <code>y[2:4]</code>, <code>y[-2]</code>, et <code>y[y<=5]</code>"
   ]
  },
  {
   "cell_type": "code",
   "execution_count": null,
   "id": "01884be9",
   "metadata": {
    "nbgrader": {
     "grade": false,
     "grade_id": "cell-0b2adfe6ee4e7a5a",
     "locked": false,
     "schema_version": 3,
     "solution": true,
     "task": false
    }
   },
   "outputs": [],
   "source": [
    "# Question 3 \n",
    "\n",
    "print(y[4])\n",
    "print(y[2:4]) # !! y[4] n'est pas affiché !!\n",
    "print(y[-2]) # 2 ème élément en partant de la fin\n",
    "print(y[y<=5])\n"
   ]
  },
  {
   "cell_type": "markdown",
   "id": "ac595607",
   "metadata": {
    "nbgrader": {
     "grade": false,
     "grade_id": "cell-a3009bec8dbcef6e",
     "locked": true,
     "schema_version": 3,
     "solution": false,
     "task": false
    }
   },
   "source": [
    "4. Extraire les éléments en position paire de $y$. Extraire les éléments plus grands que 1 de $y$."
   ]
  },
  {
   "cell_type": "code",
   "execution_count": null,
   "id": "30dc3dae",
   "metadata": {
    "nbgrader": {
     "grade": false,
     "grade_id": "cell-f4984401283fb958",
     "locked": false,
     "schema_version": 3,
     "solution": true,
     "task": false
    }
   },
   "outputs": [],
   "source": [
    "# Question 4\n",
    "\n",
    "y1 = y[2*np.arange(3)]\n",
    "y2 = y[y>=1]\n"
   ]
  },
  {
   "cell_type": "markdown",
   "id": "17c6b83a",
   "metadata": {
    "nbgrader": {
     "grade": false,
     "grade_id": "cell-f52a772d1ecc7728",
     "locked": true,
     "schema_version": 3,
     "solution": false,
     "task": false
    }
   },
   "source": [
    "5. Conserver tous les élements de $y$, sauf le premier."
   ]
  },
  {
   "cell_type": "code",
   "execution_count": null,
   "id": "8f942b40",
   "metadata": {
    "nbgrader": {
     "grade": false,
     "grade_id": "cell-469649aff43ae70c",
     "locked": false,
     "schema_version": 3,
     "solution": true,
     "task": false
    }
   },
   "outputs": [],
   "source": [
    "# Question 5\n",
    "\n",
    "print(y[1:])\n"
   ]
  },
  {
   "cell_type": "markdown",
   "id": "46dd300d",
   "metadata": {
    "nbgrader": {
     "grade": false,
     "grade_id": "cell-cfdf47fa2177e08d",
     "locked": true,
     "schema_version": 3,
     "solution": false,
     "task": false
    }
   },
   "source": [
    "6. A l’aide de les commandes <code>np.repeat()</code> et <code>np.reshape()</code>, créer un vecteur $X$ de taille 100 obtenu\n",
    "en mettant bout à bout 25 copies de $x$. (Donc, $X$ commence ainsi $X = (1, 8, 5, 1, 1, 8, 5, 1, \\ldots)$)"
   ]
  },
  {
   "cell_type": "code",
   "execution_count": null,
   "id": "a60d5017",
   "metadata": {
    "nbgrader": {
     "grade": false,
     "grade_id": "cell-9bc6541c5d22cb1c",
     "locked": false,
     "schema_version": 3,
     "solution": true,
     "task": false
    }
   },
   "outputs": [],
   "source": [
    "# Question 6\n",
    "# Remarque : pas de problème le x est défini Question 1 !!!\n",
    "X=np.repeat(x.reshape(1,4),25,axis=0).reshape(100)\n"
   ]
  },
  {
   "cell_type": "markdown",
   "id": "587ac1a3",
   "metadata": {
    "nbgrader": {
     "grade": false,
     "grade_id": "cell-92f3bb58d7820bf6",
     "locked": true,
     "schema_version": 3,
     "solution": false,
     "task": false
    }
   },
   "source": [
    "## Exercice 4 : Représentation et Regression linéaire "
   ]
  },
  {
   "cell_type": "markdown",
   "id": "eef46c76",
   "metadata": {
    "nbgrader": {
     "grade": false,
     "grade_id": "cell-eaf8bbea76b9fa06",
     "locked": true,
     "schema_version": 3,
     "solution": false,
     "task": false
    }
   },
   "source": [
    "On considère à nouveau les vecteurs $x=(1,8,5,1)$ et $y=(0,1,3,5,7,9)$.\n",
    "1. Pourquoi la commande <code>plt.plot(x,y)</code> retourne-t-elle une erreur?"
   ]
  },
  {
   "cell_type": "code",
   "execution_count": null,
   "id": "00d499cc",
   "metadata": {
    "nbgrader": {
     "grade": false,
     "grade_id": "cell-00dd1c9067b31a60",
     "locked": false,
     "schema_version": 3,
     "solution": true,
     "task": false
    }
   },
   "outputs": [],
   "source": [
    "# Question 1\n",
    "\n",
    "x=np.array([1,8,5,1])\n",
    "y=np.array([0,1,3,5,7,9])\n",
    "plt.plot(x,y) #--> impossible car x et y ont des tailles différentes\n",
    "\n"
   ]
  },
  {
   "cell_type": "markdown",
   "id": "05c6a6b5",
   "metadata": {
    "nbgrader": {
     "grade": false,
     "grade_id": "cell-4ae592e94f218889",
     "locked": true,
     "schema_version": 3,
     "solution": false,
     "task": false
    }
   },
   "source": [
    "2. Ajouter $(3,5)$ au vecteur $x$ et représnter le nuage des points $(x_i,y_i)$."
   ]
  },
  {
   "cell_type": "code",
   "execution_count": null,
   "id": "ee5dc7bb",
   "metadata": {
    "nbgrader": {
     "grade": false,
     "grade_id": "cell-aaffc88aacb6019b",
     "locked": false,
     "schema_version": 3,
     "solution": true,
     "task": false
    }
   },
   "outputs": [],
   "source": [
    "# Question 2\n",
    "\n",
    "x=np.array([1,8,5,1])\n",
    "y=np.array([0,1,3,5,7,9])\n",
    "x=np.concatenate((x,[3,5]))\n",
    "fig,ax=plt.subplots()\n",
    "ax.plot(x,y,'.');\n"
   ]
  },
  {
   "cell_type": "markdown",
   "id": "fe0d7905",
   "metadata": {
    "nbgrader": {
     "grade": false,
     "grade_id": "cell-af14c18899df0dc2",
     "locked": true,
     "schema_version": 3,
     "solution": false,
     "task": false
    }
   },
   "source": [
    "3. Ajouter le point $(\\bar{x},\\bar{y})$ en rouge en utilisant la commande <code>plt.plot</code>."
   ]
  },
  {
   "cell_type": "code",
   "execution_count": null,
   "id": "464568e3",
   "metadata": {
    "nbgrader": {
     "grade": false,
     "grade_id": "cell-77f2867ab237c302",
     "locked": false,
     "schema_version": 3,
     "solution": true,
     "task": false
    }
   },
   "outputs": [],
   "source": [
    "# Question 3\n",
    "\n",
    "fig,ax=plt.subplots()\n",
    "ax.plot(x,y,'.')\n",
    "ax.plot(np.mean(x),np.mean(y),'r+');\n"
   ]
  },
  {
   "cell_type": "markdown",
   "id": "64af6650",
   "metadata": {
    "nbgrader": {
     "grade": false,
     "grade_id": "cell-0401c4133975a518",
     "locked": true,
     "schema_version": 3,
     "solution": false,
     "task": false
    }
   },
   "source": [
    "4. Ajouter la droite de régression en utilisant <code>plt.axline</code> et <code>ms.linregress</code>"
   ]
  },
  {
   "cell_type": "code",
   "execution_count": null,
   "id": "3b5f703f",
   "metadata": {
    "nbgrader": {
     "grade": false,
     "grade_id": "cell-90f2161322d6164e",
     "locked": false,
     "schema_version": 3,
     "solution": true,
     "task": false
    }
   },
   "outputs": [],
   "source": [
    "# Question 4\n",
    "\n",
    "a,b=ms.linregress(x,y)[:2]\n",
    "print(\"La droite de regression est y= %.5f x + %.5f\" % (a,b))\n",
    "fig,ax=plt.subplots()\n",
    "ax.plot(x,y,'.')\n",
    "ax.plot(np.mean(x),np.mean(y),'r+')\n",
    "ax.axline(xy1=(0,b),slope=a,color=\"green\")\n",
    "fig.suptitle(\"Droite de regression de y en fonction de x\");\n"
   ]
  },
  {
   "cell_type": "markdown",
   "id": "00ebd0e8",
   "metadata": {
    "nbgrader": {
     "grade": false,
     "grade_id": "cell-87ac6c4085250f6b",
     "locked": true,
     "schema_version": 3,
     "solution": false,
     "task": false
    }
   },
   "source": [
    "5. Calculer la corrélation empirique $\\text{cor}(x,y)$ pour décider si une approximation par une droite est raisonnable."
   ]
  },
  {
   "cell_type": "code",
   "execution_count": null,
   "id": "e4645c7d",
   "metadata": {
    "nbgrader": {
     "grade": false,
     "grade_id": "cell-3bc23fee336c3364",
     "locked": false,
     "schema_version": 3,
     "solution": true,
     "task": false
    }
   },
   "outputs": [],
   "source": [
    "# Question 5\n",
    "\n",
    "np.corrcoef(x,y)[0,1]\n"
   ]
  },
  {
   "cell_type": "markdown",
   "id": "ddc5388b",
   "metadata": {},
   "source": [
    "# Exercices Bilans"
   ]
  },
  {
   "cell_type": "markdown",
   "id": "23bf59c4",
   "metadata": {},
   "source": [
    "## Exercice 5 : "
   ]
  },
  {
   "cell_type": "markdown",
   "id": "e0a2ae8d",
   "metadata": {
    "nbgrader": {
     "grade": false,
     "grade_id": "cell-db26fd7637e23dd8",
     "locked": true,
     "schema_version": 3,
     "solution": false,
     "task": false
    }
   },
   "source": [
    "1. Charger le jeu de données <code>women</code>. Représenter les deux variables \"taille\" et \"poids\" par un nuage de points, avec la droite de régression du poids en fonction de la taille"
   ]
  },
  {
   "cell_type": "code",
   "execution_count": null,
   "id": "e5a6bbc0",
   "metadata": {
    "nbgrader": {
     "grade": false,
     "grade_id": "cell-d302490a68716029",
     "locked": false,
     "schema_version": 3,
     "solution": true,
     "task": false
    }
   },
   "outputs": [],
   "source": [
    "# Question 1\n",
    "\n",
    "\n",
    "women=data(\"women\")\n",
    "x=women.height\n",
    "y=women.weight\n",
    "a,b=ms.linregress(x,y)[:2]\n",
    "fig,ax=plt.subplots()\n",
    "ax.set_xlim(min(x),max(x))\n",
    "ax.set_ylim(100,180)\n",
    "ax.plot(x,y,'.')\n",
    "ax.axline(xy1=(0,b),slope=a,color=\"green\")\n",
    "fig.suptitle(\"Droite de regression du poids en fonction de la taille\");\n"
   ]
  },
  {
   "cell_type": "markdown",
   "id": "89537e89",
   "metadata": {
    "nbgrader": {
     "grade": false,
     "grade_id": "cell-75e7a0745fef6146",
     "locked": true,
     "schema_version": 3,
     "solution": false,
     "task": false
    }
   },
   "source": [
    "2. Discuter si cette approximation est raisonnable. Comment interprète-t-on un point qui se trouve nettement au-dessus/au-dessous de la droite de régression"
   ]
  },
  {
   "cell_type": "markdown",
   "id": "7da27688",
   "metadata": {
    "nbgrader": {
     "grade": false,
     "grade_id": "cell-88d1c608317e33b7",
     "locked": true,
     "schema_version": 3,
     "solution": false,
     "task": false
    }
   },
   "source": [
    "## Exercice 6"
   ]
  },
  {
   "cell_type": "markdown",
   "id": "5db3e8ce",
   "metadata": {},
   "source": [
    "### Importer les données avec Google Colab "
   ]
  },
  {
   "cell_type": "markdown",
   "id": "00402115",
   "metadata": {},
   "source": [
    "Importer le fichier \"Donnes.csv\". Pour cela placer le fichier dans le dossier de votre drive où est situé ce notebook, puis recopier et exécuter les cellules suivantes."
   ]
  },
  {
   "cell_type": "markdown",
   "id": "fb14b274",
   "metadata": {},
   "source": [
    "<code>from google.colab import drive </code>"
   ]
  },
  {
   "cell_type": "markdown",
   "id": "0b6eae06",
   "metadata": {},
   "source": [
    "<code>import os</code>"
   ]
  },
  {
   "cell_type": "markdown",
   "id": "acc144a8",
   "metadata": {},
   "source": [
    "<code>drive.mount('/content/drive')</code>"
   ]
  },
  {
   "cell_type": "code",
   "execution_count": null,
   "id": "1d1fc399",
   "metadata": {},
   "outputs": [],
   "source": [
    "# Compléter /... avec le path vers le dossier où sont situés le Notebook et le fichier .csv\n",
    "# Décommenter les trois lignes :\n",
    "# - os.getcwd() permet de voir votre path courant\n",
    "# - os.listdir() liste les fichiers et dossiers de votre path courant.\n",
    "# Utiliser ses lignes en cas d'erreur pour voir si le path est bon.\n",
    "\n",
    "### 3 LIGNES A DECOMMENTER  ###\n",
    "#os.chdir(\"drive/My Drive/Colab Notebooks/...\")\n",
    "#print(os.getcwd())\n",
    "#os.listdir()"
   ]
  },
  {
   "cell_type": "markdown",
   "id": "a1296125",
   "metadata": {},
   "source": [
    "### Importer les données avec Jupyter Notebook"
   ]
  },
  {
   "cell_type": "markdown",
   "id": "c93bb6d5",
   "metadata": {},
   "source": [
    "Placer le fichier \"Donnees.csv\"  dans le même dossier que le ipynb. Importer ce fichier avec la function <code>pd.read_csv(\"fichier.csv\",sep=\"\\t\") </code>."
   ]
  },
  {
   "cell_type": "markdown",
   "id": "583b8669",
   "metadata": {},
   "source": [
    "### Exercice"
   ]
  },
  {
   "cell_type": "markdown",
   "id": "f8bbf85e",
   "metadata": {
    "nbgrader": {
     "grade": false,
     "grade_id": "cell-c0a51dbc517548a7",
     "locked": true,
     "schema_version": 3,
     "solution": false,
     "task": false
    }
   },
   "source": [
    "Ces données correspondent à l’âge, au poids, à la taille, à la consommation hebdomadaire d’alcool (en nombre de verres bus), au sexe, au ronflement et au tabagisme, d’un échantillon de 100 personnes. \n",
    "1. Commencer par identifier les variables qualitatives nominales, ordinales et quantitative discrètes, continues. Typer les données qualitatives correctement en Python (on pourra utiliser les commandes <code>astype</code>) et renommer les niveaux avec la variable <code>cat.categories</code>.\n"
   ]
  },
  {
   "cell_type": "code",
   "execution_count": null,
   "id": "b03a597c",
   "metadata": {
    "nbgrader": {
     "grade": false,
     "grade_id": "cell-774febc087f5fab7",
     "locked": false,
     "schema_version": 3,
     "solution": true,
     "task": false
    }
   },
   "outputs": [],
   "source": [
    "# Question 1\n",
    "Donnees= pd.read_csv(\"Donnees.csv\",sep=\"\\t\") \n",
    "\n",
    "# Création des séries pour chaque variable\n",
    "for nom in Donnees.keys():\n",
    "    globals()[nom] = Donnees[nom]\n",
    "\n",
    "#Qualitatives Nominales\n",
    "\n",
    "# Version 1\n",
    "Donnees[\"sexe\"]=Donnees[\"sexe\"].astype('category')\n",
    "Donnees[\"sexe\"].cat.categories=[\"Femme\",\"Homme\"]\n",
    "\n",
    "# Version 2\n",
    "sexe=sexe.astype('category')\n",
    "sexe.cat.categories=[\"Femme\",\"Homme\"]\n",
    "\n",
    "# Qualitatives Ordinales\n",
    "\n",
    "# Version 1\n",
    "Donnees[\"ronfle\"]=Donnees[\"ronfle\"].astype('category')\n",
    "Donnees[\"ronfle\"].cat.categories=[\"Non-ronfleur\",\"Ronfleur\"]\n",
    "Donnees[\"tabac\"]=Donnees[\"tabac\"].astype('category')\n",
    "Donnees[\"tabac\"].cat.categories=[\"Non-fumeur\",\"Fumeur\"]\n",
    "\n",
    "# Version 2\n",
    "ronfle=ronfle.astype('category')\n",
    "ronfle.cat.categories=[\"Non-ronfleur\",\"Ronfleur\"]\n",
    "tabac=tabac.astype('category')\n",
    "tabac.cat.categories=[\"Non-fumeur\",\"Fumeur\"]\n",
    "\n",
    "# Quantitatives Continues\n",
    "\n",
    "# Version 1\n",
    "Donnees[\"taille\"]=Donnees[\"taille\"].astype('float64')\n",
    "Donnees[\"poids\"]=Donnees[\"poids\"].astype('float64')\n",
    "Donnees[\"age\"]=Donnees[\"age\"].astype('float64')\n",
    "\n",
    "# Version 2\n",
    "taille=taille.astype('float64')\n",
    "poids=poids.astype('float64')\n",
    "age=age.astype('float64')\n",
    "\n",
    "#Quantitatives discrètes\n",
    "\n",
    "# Version 1\n",
    "Donnees[\"alcool\"]=Donnees[\"alcool\"].astype('int64')\n",
    "# Version 2\n",
    "alcool=alcool.astype('int64')\n"
   ]
  },
  {
   "cell_type": "markdown",
   "id": "4e85026a",
   "metadata": {
    "nbgrader": {
     "grade": false,
     "grade_id": "cell-b356e03004d47f06",
     "locked": true,
     "schema_version": 3,
     "solution": false,
     "task": false
    }
   },
   "source": [
    "2. Calculer la corrélation entre poids et taille.   \n",
    "Quelles sont les variables continues les plus corrélées entre elles ?\n"
   ]
  },
  {
   "cell_type": "code",
   "execution_count": null,
   "id": "1c4d6bac",
   "metadata": {
    "nbgrader": {
     "grade": false,
     "grade_id": "cell-04087f9754ff84aa",
     "locked": false,
     "schema_version": 3,
     "solution": true,
     "task": false
    }
   },
   "outputs": [],
   "source": [
    "import seaborn as sns \n",
    "df=pd.DataFrame({\"age\":Donnees['age'],\n",
    "                  \"poids\":Donnees['poids'],\n",
    "                  \"taille\":Donnees['taille']})\n",
    "\n",
    "print('Premier print :\\n',df.cov(),'\\n'); \n",
    "\n",
    "print('Deuxième print :\\n',df.corr(),'\\n')\n",
    "\n",
    "sns.pairplot(df);\n",
    "# Cela trace sur la diagonale l'histogramme de chaque variable, \n",
    "# et en dehors, les nuages de points entre les variables 2 par 2.\n",
    "\n",
    "# df.cov() donne la covariance entre les variables 2 à 2 \n",
    "#(les termes diagonaux étant les variances de chaque variable).\n",
    "\n",
    "# df.cor() donne le coefficient de corrélation entre les variables 2 à 2.\n",
    "# On trouve 0.926974 comme valeur max pour la corrélation de la taille et du poids.\n",
    "\n",
    "# Ce sont aussi visiblement les plus alignés sur les nuages de points\n",
    "\n"
   ]
  },
  {
   "cell_type": "markdown",
   "id": "11d88940",
   "metadata": {
    "nbgrader": {
     "grade": false,
     "grade_id": "cell-df2065b8bf25a1e6",
     "locked": true,
     "schema_version": 3,
     "solution": false,
     "task": false
    }
   },
   "source": [
    "3. Tracer un nuage de points du **poids** en fonction de la **taille.**              \n",
    "Calculer la droite de régression de ces deux variables et l’ajouter en rouge au nuage de points.    \n",
    "Discuter si cette approximation est raisonnable. Avez-vous un commentaire sur cet échantillon de données ?"
   ]
  },
  {
   "cell_type": "code",
   "execution_count": null,
   "id": "7e34722b",
   "metadata": {
    "nbgrader": {
     "grade": false,
     "grade_id": "cell-9c384356e1e1e066",
     "locked": false,
     "schema_version": 3,
     "solution": true,
     "task": false
    }
   },
   "outputs": [],
   "source": [
    "# Question 3\n",
    "\n",
    "alpha,beta=ms.linregress(taille,poids)[:2]\n",
    "fig,ax=plt.subplots()\n",
    "ax.set_xlim(min(taille),max(taille))\n",
    "ax.set_ylim(min(poids),max(poids))\n",
    "ax.plot(taille,poids,'.')\n",
    "ax.axline(xy1=(0,beta),slope=alpha,color=\"red\")\n",
    "fig.suptitle(\"Droite de régression du poids en fonction de la taille\");\n",
    "ax.set_xlabel('Taille');ax.set_ylabel('Poids');\n"
   ]
  },
  {
   "cell_type": "markdown",
   "id": "42498aa7",
   "metadata": {
    "nbgrader": {
     "grade": false,
     "grade_id": "cell-fc1e5f6f9e7125e2",
     "locked": true,
     "schema_version": 3,
     "solution": false,
     "task": false
    }
   },
   "source": [
    "4. Tracer sur un même graphique les diagrammes à moustaches de **age**, **poids** et **taille**."
   ]
  },
  {
   "cell_type": "code",
   "execution_count": null,
   "id": "574fc9ee",
   "metadata": {
    "nbgrader": {
     "grade": false,
     "grade_id": "cell-aad8f18875ff5ac1",
     "locked": false,
     "schema_version": 3,
     "solution": true,
     "task": false
    }
   },
   "outputs": [],
   "source": [
    "# Question 4\n",
    "\n",
    "df.boxplot();\n"
   ]
  },
  {
   "cell_type": "markdown",
   "id": "89bacf00",
   "metadata": {
    "nbgrader": {
     "grade": false,
     "grade_id": "cell-8c80345d1f90fc83",
     "locked": true,
     "schema_version": 3,
     "solution": false,
     "task": false
    }
   },
   "source": [
    "5. Calculer la table de contingence des fréquences de **ronfle** et **tabac.**      \n",
    "Quel est le mode du couple **(tabac,ronfle)** ?"
   ]
  },
  {
   "cell_type": "code",
   "execution_count": null,
   "id": "44c787b7",
   "metadata": {
    "nbgrader": {
     "grade": false,
     "grade_id": "cell-57cbb9b8b872f6cd",
     "locked": false,
     "schema_version": 3,
     "solution": true,
     "task": false
    }
   },
   "outputs": [],
   "source": [
    "# Question 5\n",
    "\n",
    "pd.crosstab(ronfle,tabac,normalize=True)\n"
   ]
  },
  {
   "cell_type": "markdown",
   "id": "2ea39f13",
   "metadata": {
    "nbgrader": {
     "grade": false,
     "grade_id": "cell-c09314b4a7d22540",
     "locked": true,
     "schema_version": 3,
     "solution": false,
     "task": false
    }
   },
   "source": [
    "6. Tracer les fonctions de répartition empirique de **alcool** et **poids.**            \n",
    "Le diagramme en escalier vous paraît-il pertinent pour les deux?    \n",
    "Indication : <code>from statsmodels.distributions .empirical_distribution import ECDF </code>"
   ]
  },
  {
   "cell_type": "code",
   "execution_count": null,
   "id": "f870a432",
   "metadata": {
    "nbgrader": {
     "grade": false,
     "grade_id": "cell-974aa4b1e4a50ba0",
     "locked": false,
     "schema_version": 3,
     "solution": true,
     "task": false
    }
   },
   "outputs": [],
   "source": [
    "# Question 6 \n",
    "\n",
    "fig,ax=plt.subplots(nrows=2,ncols=2)\n",
    "\n",
    "ax[0,0].hist(alcool,cumulative=True,histtype=\"step\")\n",
    "ax[0,0].set_xlabel('Consommation Alcool')\n",
    "ax[0,0].set_ylabel('Effectif')\n",
    "\n",
    "\n",
    "ax[0,1].hist(poids,cumulative=True,histtype='step')\n",
    "ax[0,1].set_xlabel('Poids')\n",
    "ax[0,1].set_ylabel('Effectifs');\n",
    "\n",
    "# Alternative\n",
    "from statsmodels.distributions.empirical_distribution import ECDF\n",
    "\n",
    "ecdfA=ECDF(alcool)\n",
    "ax[1,0].step(ecdfA.x,ecdfA.y)\n",
    "ax[1,0].set_xlabel('Consommation Alcool')\n",
    "ax[1,0].set_ylabel('Densité')\n",
    "\n",
    "ecdfP=ECDF(poids)\n",
    "ax[1,1].step(ecdfP.x,ecdfP.y)\n",
    "ax[1,1].set_xlabel('Poids')\n",
    "ax[1,1].set_ylabel('Densité')\n",
    "\n",
    "fig.tight_layout();\n",
    "\n",
    "# Le poids étant une variable continue un histogramme en escalier ne semble pas approprié.\n",
    "# La fonction continue approximée par ECDF semble plus pertinente.\n"
   ]
  }
 ],
 "metadata": {
  "celltoolbar": "Create Assignment",
  "kernelspec": {
   "display_name": "Python 3 (ipykernel)",
   "language": "python",
   "name": "python3"
  },
  "language_info": {
   "codemirror_mode": {
    "name": "ipython",
    "version": 3
   },
   "file_extension": ".py",
   "mimetype": "text/x-python",
   "name": "python",
   "nbconvert_exporter": "python",
   "pygments_lexer": "ipython3",
   "version": "3.9.13"
  },
  "varInspector": {
   "cols": {
    "lenName": 16,
    "lenType": 16,
    "lenVar": 40
   },
   "kernels_config": {
    "python": {
     "delete_cmd_postfix": "",
     "delete_cmd_prefix": "del ",
     "library": "var_list.py",
     "varRefreshCmd": "print(var_dic_list())"
    },
    "r": {
     "delete_cmd_postfix": ") ",
     "delete_cmd_prefix": "rm(",
     "library": "var_list.r",
     "varRefreshCmd": "cat(var_dic_list()) "
    }
   },
   "types_to_exclude": [
    "module",
    "function",
    "builtin_function_or_method",
    "instance",
    "_Feature"
   ],
   "window_display": false
  }
 },
 "nbformat": 4,
 "nbformat_minor": 5
}
