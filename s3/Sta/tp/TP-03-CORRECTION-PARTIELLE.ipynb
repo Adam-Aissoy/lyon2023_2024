{
 "cells": [
  {
   "cell_type": "markdown",
   "id": "2c4acd66",
   "metadata": {},
   "source": [
    "# TP 3 : Probabilité, Variables Aléatoires en python"
   ]
  },
  {
   "cell_type": "markdown",
   "id": "f3320f37",
   "metadata": {
    "nbgrader": {
     "grade": false,
     "grade_id": "cell-7acf93dcf2e1d935",
     "locked": true,
     "schema_version": 3,
     "solution": false,
     "task": false
    }
   },
   "source": [
    "L’objectif de ce TP est d’utiliser les fonctions en Python, puis de simuler des variables aléatoires. Dans tout le TP, on pensera à regarder dans l’aide pour comprendre ce que font les fonctions introduites.   \n",
    "**Rappel :** <code> help(function)</code>\n"
   ]
  },
  {
   "cell_type": "code",
   "execution_count": null,
   "id": "be8c8bb0",
   "metadata": {},
   "outputs": [],
   "source": [
    "import pandas as pd\n",
    "import numpy as np\n",
    "import matplotlib.pyplot as plt\n",
    "import scipy.stats as stats"
   ]
  },
  {
   "cell_type": "markdown",
   "id": "b5f8c23b",
   "metadata": {
    "nbgrader": {
     "grade": false,
     "grade_id": "cell-c57fed0daec86728",
     "locked": true,
     "schema_version": 3,
     "solution": false,
     "task": false
    }
   },
   "source": [
    "## Exercice 1: Fonctions et temps de calcul"
   ]
  },
  {
   "cell_type": "markdown",
   "id": "893ff2c0",
   "metadata": {
    "nbgrader": {
     "grade": false,
     "grade_id": "cell-1a0435e8aa668d52",
     "locked": true,
     "schema_version": 3,
     "solution": false,
     "task": false
    }
   },
   "source": [
    "1. Executer les commandes suivantes, et expliquer ce qu’elles font."
   ]
  },
  {
   "cell_type": "code",
   "execution_count": null,
   "id": "158bb467",
   "metadata": {},
   "outputs": [],
   "source": [
    "# Question 1\n",
    "def r(x,y):\n",
    "    z = np.sqrt(x**2+y**2)\n",
    "    return z\n",
    "r(3,4)"
   ]
  },
  {
   "cell_type": "markdown",
   "id": "2a0cefe8",
   "metadata": {
    "nbgrader": {
     "grade": false,
     "grade_id": "cell-e1b2949e64563b36",
     "locked": true,
     "schema_version": 3,
     "solution": false,
     "task": false
    }
   },
   "source": [
    "2. Écrire une fonction $g$ qui à $N \\in \\mathbb{N}$,  $p \\in [0, 1]$ et $k \\in [0, N ]$ associe la probabilité qu’une variable aléatoire de loi Binomiale $\\mathcal{B}(N,p)$ de paramètres $N$ et $p$ soit égale à $k$.  \n",
    "**Indice :** *utiliser la fonction* <code> math.factorial </code> *de numpy.*   \n",
    "\n",
    "\n",
    "Comparer avec la fonction <code> binom.pmf</code> *(voir l'aide)*."
   ]
  },
  {
   "cell_type": "code",
   "execution_count": null,
   "id": "e1f02382",
   "metadata": {
    "nbgrader": {
     "grade": false,
     "grade_id": "cell-85ac7075b7427cdd",
     "locked": false,
     "schema_version": 3,
     "solution": true,
     "task": false
    }
   },
   "outputs": [],
   "source": [
    "# Question 2\n",
    "\n",
    "def g(N,p,k):\n",
    "    cc = np.math.factorial(N)/(np.math.factorial(k)*np.math.factorial(N-k))\n",
    "    z  = cc *(p**k)*((1-p)**(N-k))\n",
    "    return z\n",
    "\n",
    "print(g(20,0.5,10))\n",
    "# Comparaison (attention à l'ordre des paramètres 10 -> k, n=20-> N, p est le même)\n",
    "print(stats.binom.pmf(10,n=20,p=0.5))\n",
    "\n",
    "# Tracer du diagramme en bâton de la loi binomiale B(20,0.5)\n",
    "x=range(21)\n",
    "plt.bar(x,height=[g(20,0.5,k) for k in x],width=0.1)\n",
    "plt.plot(x,stats.binom.pmf(x,n=20,p=0.5),'.',color=\"red\");\n"
   ]
  },
  {
   "cell_type": "markdown",
   "id": "2cccc221",
   "metadata": {
    "nbgrader": {
     "grade": false,
     "grade_id": "cell-b47af9c8b73ddeed",
     "locked": true,
     "schema_version": 3,
     "solution": false,
     "task": false
    }
   },
   "source": [
    "3. Exécuter les commandes suivantes, et expliquer ce qu’elles font."
   ]
  },
  {
   "cell_type": "code",
   "execution_count": null,
   "id": "42efe9b5",
   "metadata": {
    "nbgrader": {
     "grade": false,
     "grade_id": "cell-664013fadafa3a4b",
     "locked": false,
     "schema_version": 3,
     "solution": true,
     "task": false
    }
   },
   "outputs": [],
   "source": [
    "# Question 3\n",
    "\n",
    "from datetime import datetime \n",
    "N = 10**4;\n",
    "t0 = datetime.now();\n",
    "s=0\n",
    "for i in range(1,N):\n",
    "    if (i%2==0):\n",
    "        s = s+i**2\n",
    "t1 = datetime.now()\n",
    "t  = np.arange(1,N)\n",
    "s2 = np.sum(t[t%2==0]**2)\n",
    "t2 = datetime.now()\n",
    "\n",
    "print(\"Valeurs obtenues :\\ns = \",s,\n",
    "      \"temps : \",t1-t0,\n",
    "      \"\\ns2 = \",s2,\n",
    "      \"temps : \",t2-t1 ,\"\\n\" )"
   ]
  },
  {
   "cell_type": "markdown",
   "id": "1f824091",
   "metadata": {
    "nbgrader": {
     "grade": false,
     "grade_id": "cell-a7832330862566a2",
     "locked": true,
     "schema_version": 3,
     "solution": false,
     "task": false
    }
   },
   "source": [
    "4. Calculer la somme des inverses des carrés des 100000 premiers entiers impairs de deux façons.   \n",
    "Au vue des temps de calcul, quelle sera la façon à privilégier à votre avis ?"
   ]
  },
  {
   "cell_type": "code",
   "execution_count": null,
   "id": "b7dc0a6a",
   "metadata": {
    "nbgrader": {
     "grade": false,
     "grade_id": "cell-c0b73e9108c8de0d",
     "locked": false,
     "schema_version": 3,
     "solution": true,
     "task": false
    }
   },
   "outputs": [],
   "source": [
    "# Question 4\n",
    "\n",
    "N = 2*10**5#2k+1,k dans 0:99 ou  2k-1, k dans 1:100\n",
    "t0 = datetime.now()\n",
    "s = 0\n",
    "for i in range(1,N):\n",
    "    if (i%2==1):\n",
    "        s = s+1/i**2\n",
    "t1 = datetime.now()\n",
    "t  = np.arange(100000)\n",
    "s2 = np.sum(1/(2*t+1)**2)\n",
    "t2 = datetime.now()\n",
    "\n",
    "print(\"Valeurs obtenues :\\ns = \",s,\" temps : \",t1-t0,\n",
    "      \"\\ns2 = \",s2,\"temps : \",t2-t1,\"\\n\" )\n",
    "\n",
    "# La deuxième méthode est entre 50 à 100 fois plus rapide (en fonction de l'ordinateur). \n",
    "# Il vaut mieux éviter les boucles en python.\n"
   ]
  },
  {
   "cell_type": "markdown",
   "id": "a94c2d20",
   "metadata": {
    "nbgrader": {
     "grade": false,
     "grade_id": "cell-8dafad569cf44561",
     "locked": true,
     "schema_version": 3,
     "solution": false,
     "task": false
    }
   },
   "source": [
    "5. Que fait la fonction suivante ?\n",
    "<p style=\"background:#F3F3F3;\" >\n",
    "<code style=\"background:#F3F3F3;\">def f(N,p):\n",
    "        s = 0\n",
    "        for i in range(N):\n",
    "        if (stats.uniform.rvs(0,1,1) < p):\n",
    "            s = s+1\n",
    "        return(s) </code> </p>"
   ]
  },
  {
   "cell_type": "code",
   "execution_count": null,
   "id": "d46c5034",
   "metadata": {},
   "outputs": [],
   "source": [
    "def f(N,p):\n",
    "    s = 0\n",
    "    for i in range(N):\n",
    "        if (stats.uniform.rvs(0,1,1) < p):\n",
    "            s = s+1\n",
    "    return(s) \n",
    "# Cette fonction simule une loi binomiale\n",
    "#avec N répétition d'une expérience avec une probabilité de succès de p."
   ]
  },
  {
   "cell_type": "markdown",
   "id": "c4690f88",
   "metadata": {
    "nbgrader": {
     "grade": false,
     "grade_id": "cell-b5b0b2001964c4aa",
     "locked": true,
     "schema_version": 3,
     "solution": false,
     "task": false
    }
   },
   "source": [
    "6. Trouver la fonction en Python qui fait la même chose en ligne."
   ]
  },
  {
   "cell_type": "code",
   "execution_count": null,
   "id": "7eb77ca6",
   "metadata": {
    "nbgrader": {
     "grade": false,
     "grade_id": "cell-47e22e738938eb50",
     "locked": false,
     "schema_version": 3,
     "solution": true,
     "task": false
    }
   },
   "outputs": [],
   "source": [
    "# Question 6\n",
    "\n",
    "N = 10**4\n",
    "print(sum(stats.bernoulli.rvs(size=N,p=0.2)))\n",
    "print(sum(stats.binom.rvs(size=N,n=1,p=0.2)))#B(n,p) size=1 donne Bernoulli\n",
    "print(stats.binom.rvs(n=N,size=1,p=0.2)[0])#façon similaire en loi sans somme\n"
   ]
  },
  {
   "cell_type": "markdown",
   "id": "7096c946",
   "metadata": {
    "nbgrader": {
     "grade": false,
     "grade_id": "cell-a1ec2537c2101270",
     "locked": true,
     "schema_version": 3,
     "solution": false,
     "task": false
    }
   },
   "source": [
    "7. Que dire du temps de calcul ?"
   ]
  },
  {
   "cell_type": "code",
   "execution_count": null,
   "id": "4dcee298",
   "metadata": {
    "nbgrader": {
     "grade": false,
     "grade_id": "cell-41d28fa9ff1d3e94",
     "locked": false,
     "schema_version": 3,
     "solution": true,
     "task": false
    }
   },
   "outputs": [],
   "source": [
    "# Question 7\n",
    "\n",
    "N = 10**4\n",
    "t0 = datetime.now()\n",
    "s=f(N,0.2)\n",
    "t1 = datetime.now()\n",
    "s2 = sum(stats.bernoulli.rvs(size=N,p=0.2))\n",
    "t2 = datetime.now()\n",
    "print(\"Valeurs obtenues :\\n s = \",s,\" temps : \",t1-t0,\n",
    "      \"\\n s2 = \",s2,\"temps : \",t2-t1,\"\\n\" )\n"
   ]
  },
  {
   "cell_type": "markdown",
   "id": "9ffbf7ee",
   "metadata": {
    "nbgrader": {
     "grade": false,
     "grade_id": "cell-1c539b1c86c753ed",
     "locked": true,
     "schema_version": 3,
     "solution": false,
     "task": false
    }
   },
   "source": [
    "# Lois usuelles discrètes\n",
    "## Exercice 2 : Diagrammes en bâtons"
   ]
  },
  {
   "cell_type": "markdown",
   "id": "856d6caa",
   "metadata": {
    "nbgrader": {
     "grade": false,
     "grade_id": "cell-9147851fb927fe1d",
     "locked": true,
     "schema_version": 3,
     "solution": false,
     "task": false
    }
   },
   "source": [
    "Pour tracer le diagramme en bâtons de la loi binomiale théorique $\\mathcal{B}(10,0.25)$, on peut utiliser la fonction <code>pmf</code> (*probability mass function*) ainsi :"
   ]
  },
  {
   "cell_type": "code",
   "execution_count": null,
   "id": "ee5b4cfa",
   "metadata": {
    "nbgrader": {
     "grade": false,
     "grade_id": "cell-0e889937313570b7",
     "locked": true,
     "schema_version": 3,
     "solution": false,
     "task": false
    }
   },
   "outputs": [],
   "source": [
    "# Exécuter cette cellule pour la suite du TP \n",
    "from scipy.stats import bernoulli, binom, geom, poisson;\n",
    "import scipy.stats as st\n",
    "\n",
    "n, p = 10, 0.25;\n",
    "ProbasB=binom.pmf(range(n+1),n,p) #probabilites de la distribution binomiale\n",
    "plt.bar(range(n+1),ProbasB,width=0.05)\n",
    "plt.show();\n"
   ]
  },
  {
   "cell_type": "markdown",
   "id": "9ef29b4c",
   "metadata": {},
   "source": [
    "1. \n",
    "\n",
    "a) Tracer de même un diagramme en bâtons des lois $\\mathcal{B}(10, 0.5)$, $\\mathcal{B}(100, 0.25)$, $\\mathcal{P}(2)$,$\\mathcal{P}(10)$, $\\mathcal{G}(0.75)$, $\\mathcal{G}(0.25)$ et de la loi uniforme sur $\\mathcal{U}(\\{1, 2, 3, 4, 5, 6\\})$. *On utilisera avec profit la page d’aide de SciPy.*   \n",
    "b)  Comparer à des diagrammes en bâtons de simulations de $\\mathcal{B}(10,0.5)$ et $\\mathcal{P}(10)$, obtenues par <code>binom.rvs</code> ou <code>poisson.rvs</code>."
   ]
  },
  {
   "cell_type": "code",
   "execution_count": null,
   "id": "86aee0e1",
   "metadata": {
    "nbgrader": {
     "grade": false,
     "grade_id": "cell-d4c0603e0182a5cf",
     "locked": false,
     "schema_version": 3,
     "solution": true,
     "task": false
    }
   },
   "outputs": [],
   "source": [
    "# Question 1.a)\n",
    "\n",
    "### BEGIN SOLUTION\n",
    "# 1.a)\n",
    "# Binomiale\n",
    "plt.figure(1)\n",
    "n, p = 10, 0.5\n",
    "plt.bar(range(n+1),binom.pmf(range(n+1),n,p),width=0.05)\n",
    "plt.title(\"Diagramme en bâton de la loi B(10,0.5)\")\n",
    "\n",
    "plt.figure(2)\n",
    "n, p = 100, 0.25\n",
    "plt.bar(range(51),binom.pmf(range(51),n,p),width=0.2)\n",
    "plt.title(\"Diagramme en bâton de la loi B(100,0.25)\")\n",
    "\n",
    "# Poisson\n",
    "plt.figure(3)\n",
    "n=10\n",
    "plt.bar(range(n+1),poisson.pmf(range(n+1),2),width=0.05)\n",
    "plt.title(\"Diagramme en bâton de la loi P(2)\")\n",
    "\n",
    "plt.figure(4)\n",
    "n=20\n",
    "plt.bar(range(n+1),poisson.pmf(range(n+1),10),width=0.2)\n",
    "plt.title(\"Diagramme en bâton de la loi P(10)\")\n",
    "\n",
    "\n",
    "# Géométrique\n",
    "plt.figure(5)\n",
    "n=5\n",
    "plt.ylim((0,1))\n",
    "plt.bar(range(n),geom.pmf(range(n),0.75),width=0.05)\n",
    "plt.title(\"Diagramme en bâton de la loi G(0.75)\")\n",
    "\n",
    "plt.figure(6)\n",
    "n=20\n",
    "plt.bar(range(n),geom.pmf(range(n),0.25),width=0.1)\n",
    "plt.title(\"Diagramme en bâton de la loi G(0.25)\")\n",
    "\n",
    "# Uniforme\n",
    "plt.figure(7)\n",
    "n=6\n",
    "plt.bar(range(1,n+1),np.repeat(1/6,6),width=0.05)\n",
    "plt.title(\"Diagramme en bâton de la loi U({1,2,3,4,5,6})\");\n",
    "\n"
   ]
  },
  {
   "cell_type": "code",
   "execution_count": null,
   "id": "e1d26ed7",
   "metadata": {
    "nbgrader": {
     "grade": true,
     "grade_id": "cell-b49e13f6b35ef2e7",
     "locked": false,
     "points": 0,
     "schema_version": 3,
     "solution": true,
     "task": false
    }
   },
   "outputs": [],
   "source": [
    "# Question 1.b)\n",
    "\n",
    "plt.figure(1)\n",
    "n,p = 10, 0.5\n",
    "b   = binom.rvs(n,p,size=5000)\n",
    "tab = pd.crosstab(b,columns=\"freq\",normalize=True).values\n",
    "x=range(int(min(tab)),int(min(tab))+len(tab))\n",
    "plt.bar(x,np.reshape(tab,len(tab)),width=0.05)\n",
    "plt.plot(x,binom.pmf(x,n,p),'r+')\n",
    "plt.title(\"Diagramme en bâton d'une simulation de la loi $\\mathcal{B}(10,0.5)$\");\n",
    "\n",
    "#Autre solution\n",
    "plt.figure(2)\n",
    "n, p = 10, 0.5\n",
    "b=binom.rvs(n,p,size=5000)\n",
    "tab=pd.DataFrame(b).value_counts(normalize=True,sort=False)\n",
    "x=range(0,len(tab))\n",
    "plt.bar(x,tab,width=0.05)\n",
    "plt.plot(x,binom.pmf(x,n,p),'r+')\n",
    "plt.title(\"Diagramme en bâton d'une simulation de la loi $\\mathcal{B}(10,0.5)$\");\n",
    "\n",
    "plt.figure(3)\n",
    "mu= 10\n",
    "p=poisson.rvs(mu,size=100000)\n",
    "tab=pd.crosstab(p,columns=\"freq\",normalize=True).values\n",
    "x=range(int(min(tab)),int(min(tab))+len(tab))\n",
    "plt.bar(x,np.reshape(tab,len(tab)),width=0.1)\n",
    "plt.plot(x,poisson.pmf(x,mu),'r+')\n",
    "plt.title(\"Diagramme en bâton d'une simulation de la loi $\\mathcal{P}(10)$\");\n",
    "\n"
   ]
  },
  {
   "cell_type": "markdown",
   "id": "4d2ce424",
   "metadata": {
    "nbgrader": {
     "grade": false,
     "grade_id": "cell-848ad53f94dab39d",
     "locked": true,
     "schema_version": 3,
     "solution": false,
     "task": false
    }
   },
   "source": [
    "2. Nous voulons illustrer un théorème de convergence de la loi binomiale vers la loi de Poisson (vue au TD 5). Pour cela, représenter sur un même graphique les diagrammes en bâton des lois $\\mathcal{B}(50,0.2)$, $\\mathcal{B}(250,0.04)$, $\\mathcal{B}(500,0.02)$ et $\\mathcal{P}(10)$."
   ]
  },
  {
   "cell_type": "code",
   "execution_count": null,
   "id": "be8096cb",
   "metadata": {
    "nbgrader": {
     "grade": true,
     "grade_id": "cell-08de5d37d52380fa",
     "locked": false,
     "points": 0,
     "schema_version": 3,
     "solution": true,
     "task": false
    }
   },
   "outputs": [],
   "source": [
    "# Question 2\n",
    "\n",
    "n=25\n",
    "plt.figure(1)\n",
    "plt.bar(np.arange(n+1)+.3,binom.pmf(np.arange(n+1),50,0.2),width=0.2,color=\"green\")\n",
    "plt.bar(np.arange(n+1)+.15,binom.pmf(np.arange(n+1),250,0.04),width=0.1,color=\"blue\")\n",
    "plt.bar(range(n+1),binom.pmf(range(n+1),500,0.02),width=0.1,color=\"red\")\n",
    "plt.plot(range(n+1),poisson.pmf(range(n+1),10),'o',color=\"black\")\n",
    "plt.title(\"Convergence vers la loi de Poisson P(10)\");\n"
   ]
  },
  {
   "cell_type": "markdown",
   "id": "5958e163",
   "metadata": {},
   "source": [
    "## Exercice 3 Fonctions de répartition"
   ]
  },
  {
   "cell_type": "markdown",
   "id": "56915e7a",
   "metadata": {
    "nbgrader": {
     "grade": false,
     "grade_id": "cell-8529aff649b1b1cc",
     "locked": true,
     "schema_version": 3,
     "solution": false,
     "task": false
    }
   },
   "source": [
    "1.  Tracer la fonction de répartition de la loi $\\mathcal{B}(10, 0.25)$ (on pourra remplacer la fonction <code>pmf</code> par <code> cdf </code> (cumulative distribution function) et utiliser <code>step</code> au lieu de <code>bar</code>.)"
   ]
  },
  {
   "cell_type": "code",
   "execution_count": null,
   "id": "ec8cb308",
   "metadata": {
    "nbgrader": {
     "grade": false,
     "grade_id": "cell-f4141042bdbace1e",
     "locked": false,
     "schema_version": 3,
     "solution": true,
     "task": false
    }
   },
   "outputs": [],
   "source": [
    "# Question 1\n",
    "\n",
    "n, p = 10, 0.25\n",
    "plt.step('COMPLETER')\n",
    "plt.title(\"Fonction de répartition de la loi B(10,0.25)\");\n"
   ]
  },
  {
   "cell_type": "markdown",
   "id": "36fbb307",
   "metadata": {},
   "source": [
    "2. Tracer de même la fonction de répartition de la loi binomiale $\\mathcal{B}(100,0.5)$ et de la loi de Poisson $\\mathcal{P}(3)$. Que valent $\\mathbb{P}(X \\leq 3)$ et $\\mathbb{P}(X >30)$ si $X$ suit la loi $\\mathcal{B}(50,0.2)$ ?"
   ]
  },
  {
   "cell_type": "code",
   "execution_count": null,
   "id": "c4083391",
   "metadata": {
    "nbgrader": {
     "grade": false,
     "grade_id": "cell-9cd3d6fca1bb3669",
     "locked": false,
     "schema_version": 3,
     "solution": true,
     "task": false
    }
   },
   "outputs": [],
   "source": [
    "# Loi binomiale\n",
    "\n",
    "n, p = 100, 0.5\n",
    "plt.step('COMPLETER')\n",
    "plt.title(\"Fonction cumulative de la loi B(100,0.5)\");\n"
   ]
  },
  {
   "cell_type": "code",
   "execution_count": null,
   "id": "c071d7cc",
   "metadata": {
    "nbgrader": {
     "grade": false,
     "grade_id": "cell-acaa09455c1d6f93",
     "locked": false,
     "schema_version": 3,
     "solution": true,
     "task": false
    }
   },
   "outputs": [],
   "source": [
    "# Loi de Poisson\n",
    "\n",
    "n=15\n",
    "plt.step('COMPLETER')\n",
    "plt.title(\"Fonction cumulative de la loi P(3)\");\n"
   ]
  },
  {
   "cell_type": "code",
   "execution_count": null,
   "id": "01ce3f55",
   "metadata": {
    "nbgrader": {
     "grade": false,
     "grade_id": "cell-99792f936bc54ad7",
     "locked": false,
     "schema_version": 3,
     "solution": true,
     "task": false
    }
   },
   "outputs": [],
   "source": [
    "# P(X<=3) et P(X>3)\n"
   ]
  },
  {
   "cell_type": "markdown",
   "id": "f5a36b3c",
   "metadata": {
    "nbgrader": {
     "grade": false,
     "grade_id": "cell-de103d72eff6a47d",
     "locked": true,
     "schema_version": 3,
     "solution": false,
     "task": false
    }
   },
   "source": [
    "# Lois continues\n",
    "## Exercice 4 : Simulation par rejet"
   ]
  },
  {
   "cell_type": "markdown",
   "id": "e928e724",
   "metadata": {
    "nbgrader": {
     "grade": false,
     "grade_id": "cell-c14a1966c04163fc",
     "locked": true,
     "schema_version": 3,
     "solution": false,
     "task": false
    }
   },
   "source": [
    "1. Executer les commandes suivantes, et expliquer ce qu'elles font.\n",
    "<p style=\"background:#F3F3F3;\" >\n",
    "<code style=\"background:#F3F3F3;\">u = st.uniform.rvs(0,1,size=1000)\n",
    "        u[1:10];m = np.mean(u)\n",
    "        print(\"Moyenne empirique : \",m) </code> </p>"
   ]
  },
  {
   "cell_type": "code",
   "execution_count": null,
   "id": "77bb3806",
   "metadata": {},
   "outputs": [],
   "source": [
    "#Question 1"
   ]
  },
  {
   "cell_type": "markdown",
   "id": "0456aab8",
   "metadata": {
    "nbgrader": {
     "grade": false,
     "grade_id": "cell-8aeeed93c8b0b0ca",
     "locked": true,
     "schema_version": 3,
     "solution": false,
     "task": false
    }
   },
   "source": [
    "2. Simulez dans un vecteur $U$ de taille $N$ un grand entier, $N$ réalisations de la loi uniforme sur $[-3,3]$. Construisez un vecteur $V$ dont l'éléments $V_i$ est le $i$-ième terme positif de $U$."
   ]
  },
  {
   "cell_type": "code",
   "execution_count": null,
   "id": "6ad3ae05",
   "metadata": {
    "nbgrader": {
     "grade": false,
     "grade_id": "cell-db71d1ffc2c05ba1",
     "locked": false,
     "schema_version": 3,
     "solution": true,
     "task": false
    }
   },
   "outputs": [],
   "source": [
    "# Question 2\n",
    "\n"
   ]
  },
  {
   "cell_type": "markdown",
   "id": "ae374494",
   "metadata": {
    "nbgrader": {
     "grade": false,
     "grade_id": "cell-87848eab48bb1df3",
     "locked": true,
     "schema_version": 3,
     "solution": false,
     "task": false
    }
   },
   "source": [
    "3. En comparant l'histogramme associé à $V$ avec la densité d'une loi uniforme bien choisie, faites une hypothèse sur la loi dont $V$ est un échantillon. Quel $N$ vous a permis de conclure ?"
   ]
  },
  {
   "cell_type": "code",
   "execution_count": null,
   "id": "1251d256",
   "metadata": {
    "nbgrader": {
     "grade": false,
     "grade_id": "cell-40abf90a0aa8b855",
     "locked": false,
     "schema_version": 3,
     "solution": true,
     "task": false
    }
   },
   "outputs": [],
   "source": [
    "# Question 3\n",
    "\n"
   ]
  },
  {
   "cell_type": "markdown",
   "id": "f01022e6",
   "metadata": {
    "nbgrader": {
     "grade": false,
     "grade_id": "cell-7b4f1b5dd01446b6",
     "locked": true,
     "schema_version": 3,
     "solution": false,
     "task": false
    }
   },
   "source": [
    "## Exercice 5 : Méthode de Box-Muller"
   ]
  },
  {
   "cell_type": "markdown",
   "id": "7dc2f686",
   "metadata": {
    "nbgrader": {
     "grade": false,
     "grade_id": "cell-e903352214601547",
     "locked": true,
     "schema_version": 3,
     "solution": false,
     "task": false
    }
   },
   "source": [
    "1. On donne les commandes suivantes:"
   ]
  },
  {
   "cell_type": "code",
   "execution_count": null,
   "id": "be7422a2",
   "metadata": {
    "nbgrader": {
     "grade": false,
     "grade_id": "cell-26fcee8e6e4b3414",
     "locked": true,
     "schema_version": 3,
     "solution": false,
     "task": false
    }
   },
   "outputs": [],
   "source": [
    "U=st.uniform.rvs(size=10000,loc=-1,scale=2)\n",
    "V =st.uniform.rvs(size=10000,loc=-1,scale=2)\n",
    "S=U**2+V**2; Cas= (S<1)\n",
    "U0= U[Cas]; V0 = V[Cas];"
   ]
  },
  {
   "cell_type": "markdown",
   "id": "06d3d98a",
   "metadata": {
    "nbgrader": {
     "grade": false,
     "grade_id": "cell-d3b95423dc0d7d76",
     "locked": true,
     "schema_version": 3,
     "solution": false,
     "task": false
    }
   },
   "source": [
    "Tracez un nuage de points avec les points de l'échantillon $(U,V)$. Trouvez sur quel ensemble de $\\mathbb{R}^2$ l'échantillon du couple $(U,V)$ est uniformément distribué ? (Vous pouvez si nécessaire simuler d'autres échantillons de\n",
    "tailles différentes et vous pouvez utiliser l'option graphique <code>marker=','</code>, <code>linestyle=''</code> pour améliorer la lisibilité.)"
   ]
  },
  {
   "cell_type": "code",
   "execution_count": null,
   "id": "1c44a815",
   "metadata": {
    "nbgrader": {
     "grade": false,
     "grade_id": "cell-e59aaf2d9659e9f9",
     "locked": false,
     "schema_version": 3,
     "solution": true,
     "task": false
    }
   },
   "outputs": [],
   "source": [
    "# Question 1\n"
   ]
  },
  {
   "cell_type": "markdown",
   "id": "16ad83d0",
   "metadata": {
    "nbgrader": {
     "grade": false,
     "grade_id": "cell-fdbd59794cef485c",
     "locked": true,
     "schema_version": 3,
     "solution": false,
     "task": false
    }
   },
   "source": [
    "2. Tracez un nuage de points avec les points de l'échantillon $(U0,V0)$. Trouvez sur quel ensemble de $\\mathbb{R}^2$ l'échantillon du couple $(U0,V0)$ est uniformément distribué ?"
   ]
  },
  {
   "cell_type": "code",
   "execution_count": null,
   "id": "9f436d7e",
   "metadata": {
    "nbgrader": {
     "grade": false,
     "grade_id": "cell-436199c439948bfe",
     "locked": false,
     "schema_version": 3,
     "solution": true,
     "task": false
    }
   },
   "outputs": [],
   "source": [
    "# Question 2\n"
   ]
  },
  {
   "cell_type": "markdown",
   "id": "fc57b538",
   "metadata": {
    "nbgrader": {
     "grade": false,
     "grade_id": "cell-83d2c7717f79622b",
     "locked": true,
     "schema_version": 3,
     "solution": false,
     "task": false
    }
   },
   "source": [
    "3. Expliquez ce que font les commandes de la question 1. Comment s'exprime la longueur du vecteur $U_0$ en fonction de $(U,V)$ ?"
   ]
  },
  {
   "cell_type": "code",
   "execution_count": null,
   "id": "a34d035c",
   "metadata": {
    "nbgrader": {
     "grade": false,
     "grade_id": "cell-8293fba0d7aa3ced",
     "locked": false,
     "schema_version": 3,
     "solution": true,
     "task": false
    }
   },
   "outputs": [],
   "source": [
    "# Question 3\n"
   ]
  },
  {
   "cell_type": "markdown",
   "id": "900e2a29",
   "metadata": {
    "nbgrader": {
     "grade": false,
     "grade_id": "cell-07b647fa0a79d2cb",
     "locked": true,
     "schema_version": 3,
     "solution": false,
     "task": false
    }
   },
   "source": [
    "4. Soit $(U_0,V_0)$ un couple de deux variables aléatoires uniformément distribuées sur l'ensemble obtenu à la question précédente. On considère $R = \\sqrt{U_0^2 + V_0^2}$. En raisonnant comme dans l'exercice précédent avec les histogrammes, émettez une hypothèse sur la densité $f_R(x)$ de la loi de $R$. (On pourra tracer en rouge la courbe de $f_R$ sur l'histogramme)."
   ]
  },
  {
   "cell_type": "code",
   "execution_count": null,
   "id": "4e3b3444",
   "metadata": {
    "nbgrader": {
     "grade": false,
     "grade_id": "cell-cbc9c599671b7c2c",
     "locked": false,
     "schema_version": 3,
     "solution": true,
     "task": false
    }
   },
   "outputs": [],
   "source": [
    "# Question 4\n",
    "\n"
   ]
  },
  {
   "cell_type": "markdown",
   "id": "48b2c28b",
   "metadata": {
    "nbgrader": {
     "grade": false,
     "grade_id": "cell-05dca48f3b7d938d",
     "locked": true,
     "schema_version": 3,
     "solution": false,
     "task": false
    }
   },
   "source": [
    "5. Soit $X = \\sqrt{-\\ln(R)} \\frac{U_0}{R}$. On veut vérifier que $X$ est un échantillon d'une loi gaussienne $\\mathcal{N}(m,\\sigma^2)$. Expliquez comment trouver $m$ et $\\sigma^2$. En comparant un histogramme de $X$ et une densité bien choisie, vérifiez graphiquement que l'hypothèse sur la loi de $X$ est réaliste. "
   ]
  },
  {
   "cell_type": "code",
   "execution_count": null,
   "id": "b083f73e",
   "metadata": {
    "nbgrader": {
     "grade": false,
     "grade_id": "cell-99e603a2b393ce71",
     "locked": false,
     "schema_version": 3,
     "solution": true,
     "task": false
    }
   },
   "outputs": [],
   "source": [
    "# Question 5\n",
    "\n"
   ]
  },
  {
   "cell_type": "code",
   "execution_count": null,
   "id": "0964ba0d",
   "metadata": {},
   "outputs": [],
   "source": []
  }
 ],
 "metadata": {
  "celltoolbar": "Create Assignment",
  "kernelspec": {
   "display_name": "Python 3 (ipykernel)",
   "language": "python",
   "name": "python3"
  },
  "language_info": {
   "codemirror_mode": {
    "name": "ipython",
    "version": 3
   },
   "file_extension": ".py",
   "mimetype": "text/x-python",
   "name": "python",
   "nbconvert_exporter": "python",
   "pygments_lexer": "ipython3",
   "version": "3.9.13"
  },
  "varInspector": {
   "cols": {
    "lenName": 16,
    "lenType": 16,
    "lenVar": 40
   },
   "kernels_config": {
    "python": {
     "delete_cmd_postfix": "",
     "delete_cmd_prefix": "del ",
     "library": "var_list.py",
     "varRefreshCmd": "print(var_dic_list())"
    },
    "r": {
     "delete_cmd_postfix": ") ",
     "delete_cmd_prefix": "rm(",
     "library": "var_list.r",
     "varRefreshCmd": "cat(var_dic_list()) "
    }
   },
   "types_to_exclude": [
    "module",
    "function",
    "builtin_function_or_method",
    "instance",
    "_Feature"
   ],
   "window_display": false
  }
 },
 "nbformat": 4,
 "nbformat_minor": 5
}
