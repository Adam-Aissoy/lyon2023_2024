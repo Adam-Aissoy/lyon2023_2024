{
 "cells": [
  {
   "cell_type": "code",
   "execution_count": null,
   "id": "cce10156",
   "metadata": {},
   "outputs": [],
   "source": [
    "# A faire executer une fois au début\n",
    "! pip install pydataset"
   ]
  },
  {
   "cell_type": "code",
   "execution_count": null,
   "id": "d67b0570",
   "metadata": {
    "nbgrader": {
     "grade": false,
     "grade_id": "cell-04aebf8ce0b997f0",
     "locked": true,
     "schema_version": 3,
     "solution": false,
     "task": false
    }
   },
   "outputs": [],
   "source": [
    "import pandas as pd\n",
    "import numpy as np\n",
    "import matplotlib.pyplot as plt\n",
    "import scipy.stats as st\n",
    "from pydataset import data"
   ]
  },
  {
   "cell_type": "markdown",
   "id": "8115339e",
   "metadata": {
    "nbgrader": {
     "grade": false,
     "grade_id": "cell-1876190497554697",
     "locked": true,
     "schema_version": 3,
     "solution": false,
     "task": false
    }
   },
   "source": [
    "# 1. La loi des grands nombres\n",
    "\n",
    "## Exercice 4.1\n",
    "\n",
    "1. En utilisant <code>st.binom.rvs</code>, simuler un échantillon $(X_1,X_2,\\ldots,X_n)$ de variables indépendantes de même loi de Bernoulli $\\mathcal{B}(1,0.5)$ pour $N$ grand (par exemple $N=2000$)."
   ]
  },
  {
   "cell_type": "code",
   "execution_count": null,
   "id": "be195956",
   "metadata": {
    "nbgrader": {
     "grade": false,
     "grade_id": "cell-b113710092cebd01",
     "locked": false,
     "schema_version": 3,
     "solution": true,
     "task": false
    }
   },
   "outputs": [],
   "source": [
    "# Question 1\n",
    "\n",
    "N=2000\n",
    "X="
   ]
  },
  {
   "cell_type": "markdown",
   "id": "a4bfc86b",
   "metadata": {
    "nbgrader": {
     "grade": false,
     "grade_id": "cell-3cd33b65eac3da12",
     "locked": true,
     "schema_version": 3,
     "solution": false,
     "task": false
    }
   },
   "source": [
    "2. Illuster la loi des grands nombres en traçant $\\bar{X_n} = \\frac{X_1+\\ldots,X_n}{n}$ en fonction de $n$ (compris entre $1$ et $N$). On tracera aussi la limite attendue sur le même graphique. \n",
    "\n",
    "On pourra pour cela utiliser la fonction <code>np.cumsum</code> pour construire\n",
    "$$ Y_n = X_1+X_2+\\ldots+X_n $$"
   ]
  },
  {
   "cell_type": "code",
   "execution_count": null,
   "id": "5600efce",
   "metadata": {
    "nbgrader": {
     "grade": false,
     "grade_id": "cell-e2a2fda9c0dcd8fe",
     "locked": false,
     "schema_version": 3,
     "solution": true,
     "task": false
    }
   },
   "outputs": [],
   "source": [
    "# Question 2\n",
    "\n",
    "Ybar = \n",
    "Xbar ="
   ]
  },
  {
   "cell_type": "markdown",
   "id": "3980eab5",
   "metadata": {
    "nbgrader": {
     "grade": false,
     "grade_id": "cell-a955ca1300e0b851",
     "locked": true,
     "schema_version": 3,
     "solution": false,
     "task": false
    }
   },
   "source": [
    "3. Procéder de même avec un échantillon de loi normale $\\mathcal{N}(1,4)$ de moyenne 1 et de variance 4.\n"
   ]
  },
  {
   "cell_type": "code",
   "execution_count": null,
   "id": "3194772f",
   "metadata": {
    "nbgrader": {
     "grade": false,
     "grade_id": "cell-10eb43f44bb24f49",
     "locked": false,
     "schema_version": 3,
     "solution": true,
     "task": false
    }
   },
   "outputs": [],
   "source": [
    "# Question 3\n",
    "\n",
    "N=2000\n",
    "X=\n",
    "Xbar=\n"
   ]
  },
  {
   "cell_type": "markdown",
   "id": "8e73c844",
   "metadata": {
    "nbgrader": {
     "grade": false,
     "grade_id": "cell-90167990b1a0349d",
     "locked": true,
     "schema_version": 3,
     "solution": false,
     "task": false
    }
   },
   "source": [
    "4. Recommencer avec un échantilon de variables de cauchy $C(0,1)$. Que remarquez-vous ?   \n",
    "Indication: On produira l'échantillon par la commande\n",
    "<p style=\"background:#F3F3F3;\" >\n",
    "<code style=\"background:#F3F3F3;\"> N = 10000; Z = st.cauchy.rvs(size=N,loc=0,scale=1). </code> </p>"
   ]
  },
  {
   "cell_type": "code",
   "execution_count": null,
   "id": "8c3a1708",
   "metadata": {
    "nbgrader": {
     "grade": false,
     "grade_id": "cell-c119e1cb0618f1e4",
     "locked": false,
     "schema_version": 3,
     "solution": true,
     "task": false
    }
   },
   "outputs": [],
   "source": [
    "# Question 4\n",
    "\n"
   ]
  },
  {
   "cell_type": "markdown",
   "id": "38058892",
   "metadata": {
    "nbgrader": {
     "grade": false,
     "grade_id": "cell-860cc96581958b9f",
     "locked": true,
     "schema_version": 3,
     "solution": false,
     "task": false
    }
   },
   "source": [
    "# 2. Théorème centrale limite\n",
    "\n",
    "## Exercice 4.2 \n",
    "\n",
    "1. Soit $S_N$ de loi binomiale $\\mathcal{B}(N,p)$ avec $p=0.5$ et $N=1000$.   \n",
    "On définit $\\bar{X_N} = \\frac{S_N}{N}$ et la v.a centrée réduite associée :\n",
    "$$ Z_N = \\sqrt{N} \\frac{\\bar{X}_N-p}{\\sqrt{p(1-p)}}$$\n",
    "\n",
    "On donne la fonction <code>varTCL</code>, que fait-elle ?   \n",
    "Utiliser cette fonction pour simuler un échantillon de $M = 5000$ variables de même loi que $Z_N$.\n",
    "\n"
   ]
  },
  {
   "cell_type": "code",
   "execution_count": null,
   "id": "58d3cd4c",
   "metadata": {
    "nbgrader": {
     "grade": false,
     "grade_id": "cell-dda5e0ad3892f578",
     "locked": false,
     "schema_version": 3,
     "solution": true,
     "task": false
    }
   },
   "outputs": [],
   "source": [
    "# Question 1\n",
    "\n",
    "def varTCL(S):\n",
    "    return((S/N-p)/np.sqrt(p*(1-p)/N))\n",
    "\n",
    "N=#...\n",
    "M=#...\n",
    "p=#...\n",
    "S=st.binom.rvs(N,p,size=M)\n",
    "Z=\n",
    "\n",
    "\n"
   ]
  },
  {
   "cell_type": "markdown",
   "id": "e1cd1011",
   "metadata": {
    "nbgrader": {
     "grade": false,
     "grade_id": "cell-828f2bac3f3c3f32",
     "locked": true,
     "schema_version": 3,
     "solution": false,
     "task": false
    }
   },
   "source": [
    "2. Illustrer le Théorème centrale limite en traçant l'histogramme des $M$ réalisations et en le comaprant à la densité de la loi $\\mathcal{N}(0,1)$.   \n",
    "Utiliser <code> st.norm.pdf </code>."
   ]
  },
  {
   "cell_type": "code",
   "execution_count": null,
   "id": "57e6b876",
   "metadata": {},
   "outputs": [],
   "source": [
    "# Question 2\n",
    "\n",
    "plt.figure()\n",
    "plt.hist(Z,bins=20,density=True)\n",
    "\n",
    "# Loi normale centrée réduite : desnité sur [-3,3]\n",
    "x=np.linspace(start=-3,stop=3,num=600)\n",
    "plt.plot(x,\"...\",color=\"red\");\n"
   ]
  },
  {
   "cell_type": "markdown",
   "id": "2e94a4d2",
   "metadata": {},
   "source": [
    "3. On propose ici de compléter le code suivant afin de faire varier $M$ et observer la convergence des $Z_N$ vers une loi normale centrée réduite."
   ]
  },
  {
   "cell_type": "code",
   "execution_count": null,
   "id": "dcffc375",
   "metadata": {
    "nbgrader": {
     "grade": false,
     "grade_id": "cell-8c83f75ef2053cd6",
     "locked": true,
     "schema_version": 3,
     "solution": false,
     "task": false
    }
   },
   "outputs": [],
   "source": [
    "from ipywidgets import interact;\n",
    "import ipywidgets as widgets;\n",
    "\n",
    "def Simulation_Z(M,N=10000,p=0.5):\n",
    "    S=\"...\"\n",
    "    def varTCL(s):\n",
    "        return((s/N-p)/np.sqrt(p*(1-p)/N))\n",
    "    Z=[\"...\" for s in S]\n",
    "    return(Z)\n",
    "\n",
    "def plot(M):\n",
    "    plt.figure(figsize=(10,6));\n",
    "    Z = Simulation_Z(M);\n",
    "    plt.hist(Z,bins=25,density=True,alpha=0.4,color=\"black\");\n",
    "    \n",
    "    x=np.linspace(start=-3,stop=3,num=600);\n",
    "    plt.plot(x,\"...\",color=\"red\",linestyle='--',linewidth=2);\n",
    "    plt.xlim([-3,3]);\n",
    "    plt.ylim([0,0.5]);\n",
    "\n",
    "\n",
    "interact(plot, M = widgets.IntSlider(value=50, min=50, max=2000, step=50));"
   ]
  },
  {
   "cell_type": "markdown",
   "id": "b9291ab7",
   "metadata": {
    "nbgrader": {
     "grade": false,
     "grade_id": "cell-864309772500aac0",
     "locked": true,
     "schema_version": 3,
     "solution": false,
     "task": false
    }
   },
   "source": [
    "# 3. Intervalles de confiance\n",
    "## Exercice 4.3\n",
    "Jean souhaite connaître la taille moyenne des garçons de sa promo. Cependant il y a des milliers d'élèves dans sa promi et il ne peut pas tous les interroger un à un. A la sortie de l'amphi de Statistiques, il a pu récolter la taille de plusieurs de ses camarades (en cm):\n",
    "$$ 180,170,186,184,171,184,167,180,177.$$\n",
    "\n",
    "1. Quelles hypothèses doit-on admettre pour calculer un intervalle de confiance de la taille moyenne ?"
   ]
  },
  {
   "cell_type": "markdown",
   "id": "ebdff1af",
   "metadata": {
    "nbgrader": {
     "grade": false,
     "grade_id": "cell-b42154704faf71bf",
     "locked": true,
     "schema_version": 3,
     "solution": false,
     "task": false
    }
   },
   "source": [
    "2. On sait que la variance $\\sigma^2$ est égale à 5. Calculer un intervalle de confiance (bilatéral) de niveau $95\\%$ de la taille moyenne."
   ]
  },
  {
   "cell_type": "code",
   "execution_count": null,
   "id": "2ac77720",
   "metadata": {
    "nbgrader": {
     "grade": false,
     "grade_id": "cell-9405c21b06b88401",
     "locked": false,
     "schema_version": 3,
     "solution": true,
     "task": false
    }
   },
   "outputs": [],
   "source": [
    "# Question 2\n",
    "\n",
    "taille=[180, 170, 186, 184, 182, 171, 184, 167, 180, 177]\n",
    "n = \"...\"\n",
    "moyenne = \"...\"\n",
    "sigma = \"...\"\n",
    "delta_95 = \"...\"\n",
    "IC_95 = (moyenne - delta_95, moyenne + delta_95)\n",
    "print(\"IC au niveau 0.95 :[%.4f,%.4f]\" % IC_95)"
   ]
  },
  {
   "cell_type": "markdown",
   "id": "004d9d09",
   "metadata": {
    "nbgrader": {
     "grade": false,
     "grade_id": "cell-0b17dcee4953e821",
     "locked": true,
     "schema_version": 3,
     "solution": false,
     "task": false
    }
   },
   "source": [
    "3. Jean a réussi à récolter 10 nouvelles tailles:\n",
    "$$ 173,167,170,174,178,178,175,166,172,170.$$\n",
    "Comment évolue l'intervalle de confiance (bilatéral) de niveau $95\\%$"
   ]
  },
  {
   "cell_type": "code",
   "execution_count": null,
   "id": "35313c5b",
   "metadata": {
    "nbgrader": {
     "grade": false,
     "grade_id": "cell-c63efe5b9c628df1",
     "locked": false,
     "schema_version": 3,
     "solution": true,
     "task": false
    }
   },
   "outputs": [],
   "source": [
    "# Question 3\n",
    "\n",
    "taille = np.concatenate((taille,[173, 167, 170, 174, 178, 178, 175, 166, 172, 170]))\n",
    "n = \"...\"\n",
    "moyenne = \"...\"\n",
    "sigma = \"...\"\n",
    "delta_95 = \"...\"\n",
    "IC_95 = (moyenne - delta_95, moyenne + delta_95)\n",
    "print(\"IC au niveau 0.95 :[%.2f,%.2f]\" % IC_95)\n"
   ]
  },
  {
   "cell_type": "markdown",
   "id": "de89434e",
   "metadata": {
    "nbgrader": {
     "grade": false,
     "grade_id": "cell-2c9262dc31017bf2",
     "locked": true,
     "schema_version": 3,
     "solution": false,
     "task": false
    }
   },
   "source": [
    "## Exercice 4.4\n",
    "Suite aux travaux menés par Jean, Amina souhaite faire la même chose pour les filles de sa promo. Cependant elle ne connaît pas la\n",
    "variance de la taille des filles. Voici les tailles collectées par Amina :\n",
    "$$ 166,170,161,167,168,169,169,166,163,161,162,171,169,156,168.$$\n",
    "\n",
    "1. En utilisant la fonction <code>st.t.interval</code>, (aide en ligne, on pourra utiliser <code>st.sem</code> pour l'échelle), donner un intervalle de confiance (bilatéral) de niveau $95\\%$ de la taille moyenne des filles."
   ]
  },
  {
   "cell_type": "code",
   "execution_count": null,
   "id": "c10bb8fb",
   "metadata": {
    "nbgrader": {
     "grade": false,
     "grade_id": "cell-140816f913facfba",
     "locked": false,
     "schema_version": 3,
     "solution": true,
     "task": false
    }
   },
   "outputs": [],
   "source": [
    "# Question 1\n",
    "\n",
    "taille=[ 166, 170, 161, 167, 168, 169, 169,166, 163, 161, 162, 171, 169, 156, 168]\n"
   ]
  },
  {
   "cell_type": "markdown",
   "id": "3dae64e2",
   "metadata": {
    "nbgrader": {
     "grade": false,
     "grade_id": "cell-ffe570c9fef8e28a",
     "locked": true,
     "schema_version": 3,
     "solution": false,
     "task": false
    }
   },
   "source": [
    "2. Ecrire une fonction prenant en argument un échantillon et un niveau de confiance et retournant l'intervalle de confiance associé pour la moyenne."
   ]
  },
  {
   "cell_type": "code",
   "execution_count": null,
   "id": "10654f8b",
   "metadata": {
    "nbgrader": {
     "grade": false,
     "grade_id": "cell-118a39f1c2421c89",
     "locked": false,
     "schema_version": 3,
     "solution": true,
     "task": false
    }
   },
   "outputs": [],
   "source": [
    "# Question 2 \n",
    "def StudentInterval(x,alpha=0.05):\n",
    "\n",
    "    m = \"moyenne à compléter\"\n",
    "    s = \"écart type non-biasé à compléter\"\n",
    "    l = \"Taille échantillon à compléter\"\n",
    "    delta = (st.t.ppf(1-alpha/2,df=l-1)*s) / np.sqrt(l)\n",
    "    return (m-delta,m+delta)\n"
   ]
  },
  {
   "cell_type": "code",
   "execution_count": null,
   "id": "e0ee2d7a",
   "metadata": {
    "nbgrader": {
     "grade": true,
     "grade_id": "cell-9c029774974fe744",
     "locked": true,
     "points": 1,
     "schema_version": 3,
     "solution": false,
     "task": false
    }
   },
   "outputs": [],
   "source": [
    "assert(st.t.interval(0.95,df=len(taille)-1,loc=np.mean(taille),scale=st.sem(taille)) == StudentInterval(taille))"
   ]
  },
  {
   "cell_type": "code",
   "execution_count": null,
   "id": "1fce5a28",
   "metadata": {
    "nbgrader": {
     "grade": false,
     "grade_id": "cell-fa5887f3e5482559",
     "locked": true,
     "schema_version": 3,
     "solution": false,
     "task": false
    }
   },
   "outputs": [],
   "source": [
    "StudentInterval(taille,alpha=0.1)"
   ]
  },
  {
   "cell_type": "markdown",
   "id": "377ca6c6",
   "metadata": {
    "nbgrader": {
     "grade": false,
     "grade_id": "cell-4a5bb915c9f25036",
     "locked": true,
     "schema_version": 3,
     "solution": false,
     "task": false
    }
   },
   "source": [
    "# 4. Tests d’hypothèses et prédiction à partir d’une Régression linéaire\n",
    "\n",
    "On rappelle que dans un test d’hypothèse, on cherche à tester une hypothèse nulle $H_0$ contre une alternative $H_1$. Certaines fonctions de <code>scipy.stat</code> permettent de calculer la grandeur quantitative utilisée pour ce test, nommé $p$-valeur (cf. CM). On rappelle les lignes directrices suivantes pour conclure le test à partir de la $p$-valeur:\n",
    "- $p \\leq 0.01$: très forte présomption contre $H_0$\n",
    "- $0.01 < p \\leq 0.05$: forte présomption contre $H_0$ (donc rejet de $H_0)$\n",
    "- $0.05 <p < \\leq 0.1$: faible présomption contre $H_0$ (mais pas de rejet de $H_0$)\n",
    "- $p>0.1$: pas de présomption contre $H_0$"
   ]
  },
  {
   "cell_type": "markdown",
   "id": "3e9496b5",
   "metadata": {
    "nbgrader": {
     "grade": false,
     "grade_id": "cell-330649eb4781328c",
     "locked": true,
     "schema_version": 3,
     "solution": false,
     "task": false
    }
   },
   "source": [
    "## Exercice 4.5 \n",
    "On reprend le jeu de données du TP2 (exercice 6)"
   ]
  },
  {
   "cell_type": "markdown",
   "id": "5db3e8ce",
   "metadata": {},
   "source": [
    "### Importer les données avec Google Colab "
   ]
  },
  {
   "cell_type": "markdown",
   "id": "00402115",
   "metadata": {},
   "source": [
    "Importer le fichier \"Donnes.csv\". Pour cela placer le fichier dans le dossier de votre drive où est situé ce notebook, puis recopier et exécuter les cellules suivantes."
   ]
  },
  {
   "cell_type": "markdown",
   "id": "fb14b274",
   "metadata": {},
   "source": [
    "<code>from google.colab import drive </code>"
   ]
  },
  {
   "cell_type": "markdown",
   "id": "5315710e",
   "metadata": {},
   "source": [
    "<code>import os</code>"
   ]
  },
  {
   "cell_type": "markdown",
   "id": "acc144a8",
   "metadata": {},
   "source": [
    "<code>drive.mount('/content/drive')</code>"
   ]
  },
  {
   "cell_type": "code",
   "execution_count": null,
   "id": "1d1fc399",
   "metadata": {},
   "outputs": [],
   "source": [
    "# Compléter /... avec le path vers le dossier où sont situés le Notebook et le fichier .csv\n",
    "# Décommenter les trois lignes :\n",
    "# - os.getcwd() permet de voir votre path courant\n",
    "# - os.listdir() liste les fichiers et dossiers de votre path courant.\n",
    "# Utiliser ses lignes en cas d'erreur pour voir si le path est bon.\n",
    "\n",
    "### 3 LIGNES A DECOMMENTER  ###\n",
    "#os.chdir(\"drive/My Drive/Colab Notebooks/...\")\n",
    "#print(os.getcwd())\n",
    "#os.listdir()"
   ]
  },
  {
   "cell_type": "markdown",
   "id": "a1296125",
   "metadata": {},
   "source": [
    "### Importer les données avec Jupyter Notebook"
   ]
  },
  {
   "cell_type": "markdown",
   "id": "c93bb6d5",
   "metadata": {},
   "source": [
    "Placer le fichier \"Donnees.csv\"  dans le même dossier que le ipynb. Importer ce fichier avec la function <code>pd.read_csv(\"fichier.csv\",sep=\"\\t\") </code>."
   ]
  },
  {
   "cell_type": "markdown",
   "id": "01433063",
   "metadata": {},
   "source": [
    "### Exercice "
   ]
  },
  {
   "cell_type": "markdown",
   "id": "5bc7a8f7",
   "metadata": {},
   "source": [
    "Les données correspondent à l’âge, au poids, à la taille, à la consommation hebdomadaire d’alcool (en nombre de verres bus), au sexe, au ronflement et au tabagisme, d’un échantillon de 100 personnes.\n",
    "\n",
    "1. Créer deux variables <code>th</code> et <code>tf</code> regroupant les tailles des hommes et des femmes dans cet échantillon. Quelles hypothèses doit on faire pour effectuer un test de Student sur les moyennes $\\mu_h$ de <code>th</code> et $\\mu_f$ de <code>tf</code>"
   ]
  },
  {
   "cell_type": "code",
   "execution_count": null,
   "id": "b8f4ccd2",
   "metadata": {},
   "outputs": [],
   "source": [
    "# Question 1\n",
    "\n",
    "Donnees= pd.read_csv(\"Donnees.csv\",sep=\"\\t\") \n",
    "\n",
    "# Création des séries pour chaque variable\n",
    "for nom in Donnees.keys():\n",
    "    globals()[nom] = Donnees[nom]\n",
    "\n",
    "th = \n",
    "tf =\n"
   ]
  },
  {
   "cell_type": "markdown",
   "id": "0bea4004",
   "metadata": {
    "nbgrader": {
     "grade": false,
     "grade_id": "cell-ecde8ee89d373bfe",
     "locked": true,
     "schema_version": 3,
     "solution": false,
     "task": false
    }
   },
   "source": [
    "2. En utilisant la fonction <code>st.ttest_1samp</code>, testez si la moyenne de l’échantillon de la taille des hommes diffère significativement de la moyenne française, autrement dit, effectuez le test de l’hypothèse nulle $H_0 : \\mu_h = 176,6$ contre l’hypothèse alternative : $H_1: \\mu_h \\neq 176,6$."
   ]
  },
  {
   "cell_type": "code",
   "execution_count": null,
   "id": "1c065834",
   "metadata": {},
   "outputs": [],
   "source": [
    "# Question 2\n",
    "\n",
    "print(st.ttest_1samp(th, popmean = \"COMPLETER\"))"
   ]
  },
  {
   "cell_type": "markdown",
   "id": "deddd2c0",
   "metadata": {
    "nbgrader": {
     "grade": false,
     "grade_id": "cell-0df0b6427e420c2a",
     "locked": true,
     "schema_version": 3,
     "solution": false,
     "task": false
    }
   },
   "source": [
    "3. Tester de même si la moyenne de la taille des femmes de l’échantillon dépasse significativement la moyenne française 163,9 cm. Dépasse-t-elle significativement 176,6 ?"
   ]
  },
  {
   "cell_type": "code",
   "execution_count": null,
   "id": "212e34a8",
   "metadata": {},
   "outputs": [],
   "source": [
    "# Question 3\n",
    "\n",
    "print(st.ttest_1samp(tf, popmean = \"COMPLETER\", alternative = \"COMPLETER\"))\n",
    "\n",
    "print(st.ttest_1samp(th, popmean = \"COMPLETER\", alternative = \"COMPLETER\"))"
   ]
  },
  {
   "cell_type": "markdown",
   "id": "602c510b",
   "metadata": {
    "nbgrader": {
     "grade": false,
     "grade_id": "cell-a3d6450317c05616",
     "locked": true,
     "schema_version": 3,
     "solution": false,
     "task": false
    }
   },
   "source": [
    "4. Calculer la table de contingence entre les variables <code>tabac</code> et <code> ronfle</code> (rappel : utiliser <code> pd.crosstab </code>).   \n",
    "En lui appliquant la <code>st.chi2_contingency</code>, tester si tabagisme et ronflement sont indépendants (test d’indépendance du $\\chi^2$)."
   ]
  },
  {
   "cell_type": "code",
   "execution_count": null,
   "id": "78433cbb",
   "metadata": {},
   "outputs": [],
   "source": [
    "# Question 4\n",
    "\n",
    "table = \"COMPLETER\"\n",
    "print(table,'\\n')\n",
    "print(st.chi2_contingency(table))"
   ]
  },
  {
   "cell_type": "markdown",
   "id": "6c249e85",
   "metadata": {
    "nbgrader": {
     "grade": false,
     "grade_id": "cell-fcc7ff579a1ba174",
     "locked": true,
     "schema_version": 3,
     "solution": false,
     "task": false
    }
   },
   "source": [
    "5. Réaliser de même un test d’indépendance entre consommation d’alcool et sexe.\n",
    "\n",
    "**Indication:** pour respecter la condition sur l'effectif des populations, on commencera par créer une variable ordinale pour la consommation d'alcool avec 3 valeurs «Aucun verre»,\n",
    "«Entre 1 à 4 verres» et «Plus de 5 verres»."
   ]
  },
  {
   "cell_type": "code",
   "execution_count": null,
   "id": "368e20f2",
   "metadata": {},
   "outputs": [],
   "source": [
    "# Question 5\n",
    "\n",
    "table = \"COMPLETER\"\n",
    "print(table,'\\n')\n",
    "print(st.chi2_contingency(table))\n",
    "# Quel est le problème\n"
   ]
  },
  {
   "cell_type": "code",
   "execution_count": null,
   "id": "464b2c33",
   "metadata": {},
   "outputs": [],
   "source": [
    "# Question 5 avec indice \n",
    "\n",
    "def RegroupeAlcool(x):\n",
    "    if \"COMPLETER\": return(\"COMPLETER\")\n",
    "    elif \"COMPLETER\": return(\"COMPLETER\")\n",
    "    else: return(\"COMPLETER\")\n",
    "\n",
    "Alcool=alcool.apply(RegroupeAlcool)\n",
    "Alcool=Alcool.astype('category')"
   ]
  },
  {
   "cell_type": "markdown",
   "id": "8d372cff",
   "metadata": {
    "nbgrader": {
     "grade": false,
     "grade_id": "cell-911e2158fe3b38bd",
     "locked": true,
     "schema_version": 3,
     "solution": false,
     "task": false
    }
   },
   "source": [
    "## Exercice 4.6 \n",
    "On reprend un jeu de données du TP1, qu’on charge en exécutant les commandes suivantes:"
   ]
  },
  {
   "cell_type": "code",
   "execution_count": null,
   "id": "e4cc88c0",
   "metadata": {
    "nbgrader": {
     "grade": false,
     "grade_id": "cell-11d5075bf04fa678",
     "locked": true,
     "schema_version": 3,
     "solution": false,
     "task": false
    }
   },
   "outputs": [],
   "source": [
    "from pydataset import data\n",
    "iris=data(\"iris\");\n",
    "y=iris[\"Petal.Length\"]\n",
    "x=iris[\"Sepal.Length\"]\n",
    "l=len(x)"
   ]
  },
  {
   "cell_type": "markdown",
   "id": "2f344088",
   "metadata": {
    "nbgrader": {
     "grade": false,
     "grade_id": "cell-99ae556ac9113efb",
     "locked": true,
     "schema_version": 3,
     "solution": false,
     "task": false
    }
   },
   "source": [
    "1. En supposant que $x$ et $y$ sont des échantillons normaux, tester (avec <code>st.pearsonr</code>) si ils sont significativement corrélés."
   ]
  },
  {
   "cell_type": "code",
   "execution_count": null,
   "id": "d6429f7b",
   "metadata": {
    "nbgrader": {
     "grade": false,
     "grade_id": "cell-cbec7202d2c8e9c4",
     "locked": false,
     "schema_version": 3,
     "solution": true,
     "task": false
    }
   },
   "outputs": [],
   "source": [
    "# Question 1\n",
    "\n"
   ]
  },
  {
   "cell_type": "markdown",
   "id": "dc88ecf7",
   "metadata": {
    "nbgrader": {
     "grade": false,
     "grade_id": "cell-a1be475b1bc75474",
     "locked": true,
     "schema_version": 3,
     "solution": false,
     "task": false
    }
   },
   "source": [
    "2. On cherche à étudier la régression linéaire de la longueur des Pétales en fonction de la longueur des Sépales. Quelles informations tirez vous des commandes suivantes ?\n",
    "<p style=\"background:#F3F3F3;\" >\n",
    "<code style=\"background:#F3F3F3;\">import statsmodels.api as sm\n",
    "X=np.column_stack((x,np.ones(l)))\n",
    "res=sm.OLS(y,X).fit()\n",
    "print(res.summary())</code> </p>"
   ]
  },
  {
   "cell_type": "code",
   "execution_count": null,
   "id": "99a0c528",
   "metadata": {},
   "outputs": [],
   "source": [
    "# Question 2\n"
   ]
  },
  {
   "cell_type": "markdown",
   "id": "fbf1bd29",
   "metadata": {
    "nbgrader": {
     "grade": false,
     "grade_id": "cell-9cd6f37cafbd4332",
     "locked": true,
     "schema_version": 3,
     "solution": false,
     "task": false
    }
   },
   "source": [
    "3. Pour obtenir un intervalle de prédiction au niveau $95\\%$, on utilise la commande:\n",
    "    <p style=\"background:#F3F3F3;\" >\n",
    "<code style=\"background:#F3F3F3;\">prediction=res.get_prediction().summary_frame(alpha=0.05)</code> </p>\n",
    "Tracer sur un même dessin un nuage de points de la variable $y$ en fonction de la variable $x$, la droite de régression en bleue et en rouge les deux droites bornant inférieurement (<code>prediction[\"obs_ci_lower\"]</code>) et supérieurement( <code>prediction[\"obs_ci_upper\"]</code>) les intervalles de prédiction au niveau de confiance $95\\%$."
   ]
  },
  {
   "cell_type": "code",
   "execution_count": null,
   "id": "fb92677f",
   "metadata": {
    "nbgrader": {
     "grade": false,
     "grade_id": "cell-a8ed39e449b33606",
     "locked": false,
     "schema_version": 3,
     "solution": true,
     "task": false
    }
   },
   "outputs": [],
   "source": [
    "# Question 3\n"
   ]
  },
  {
   "cell_type": "markdown",
   "id": "2b8f22eb",
   "metadata": {
    "nbgrader": {
     "grade": false,
     "grade_id": "cell-a6305f72969e88fd",
     "locked": true,
     "schema_version": 3,
     "solution": false,
     "task": false
    }
   },
   "source": [
    "4. Dans quel intervalle prédisez-vous que se trouvera la longueur des Pétales si la longueur des Sépales est $x = 7.2$ ? (avec un niveau de confiance $95\\%$)  \n",
    "Réutiliser <code> res.get_prediction(\"COMPLETER\").summary_frame(alpha=0.05) </code> pour effectuer une prédiction."
   ]
  },
  {
   "cell_type": "code",
   "execution_count": null,
   "id": "b4df1b53",
   "metadata": {
    "nbgrader": {
     "grade": false,
     "grade_id": "cell-a399914d65122b47",
     "locked": false,
     "schema_version": 3,
     "solution": true,
     "task": false
    }
   },
   "outputs": [],
   "source": [
    "# Question 4\n"
   ]
  }
 ],
 "metadata": {
  "celltoolbar": "Create Assignment",
  "kernelspec": {
   "display_name": "Python 3 (ipykernel)",
   "language": "python",
   "name": "python3"
  },
  "language_info": {
   "codemirror_mode": {
    "name": "ipython",
    "version": 3
   },
   "file_extension": ".py",
   "mimetype": "text/x-python",
   "name": "python",
   "nbconvert_exporter": "python",
   "pygments_lexer": "ipython3",
   "version": "3.9.13"
  },
  "varInspector": {
   "cols": {
    "lenName": 16,
    "lenType": 16,
    "lenVar": 40
   },
   "kernels_config": {
    "python": {
     "delete_cmd_postfix": "",
     "delete_cmd_prefix": "del ",
     "library": "var_list.py",
     "varRefreshCmd": "print(var_dic_list())"
    },
    "r": {
     "delete_cmd_postfix": ") ",
     "delete_cmd_prefix": "rm(",
     "library": "var_list.r",
     "varRefreshCmd": "cat(var_dic_list()) "
    }
   },
   "types_to_exclude": [
    "module",
    "function",
    "builtin_function_or_method",
    "instance",
    "_Feature"
   ],
   "window_display": false
  }
 },
 "nbformat": 4,
 "nbformat_minor": 5
}
