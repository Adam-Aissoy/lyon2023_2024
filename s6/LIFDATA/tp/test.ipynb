{
 "cells": [
  {
   "cell_type": "code",
   "execution_count": 3,
   "metadata": {},
   "outputs": [
    {
     "name": "stdout",
     "output_type": "stream",
     "text": [
      "Somme de 3 et 4 :  47\n"
     ]
    }
   ],
   "source": [
    "def somme (a,b):\n",
    "    return a+b\n",
    "print (\"Somme de 3 et 4 : \",somme(3,44))"
   ]
  },
  {
   "cell_type": "markdown",
   "metadata": {},
   "source": [
    "on peut appliquer différentes fonctions\n",
    "$$mean:=m=\\frac{1}{n}\\sum_{i=1}^nx_i,\\;variance:=var=\\frac{1}{n-1}\\sum_{i=1}^n\\left(x_i-m\\right)^2,\\;ecart\\_type:=std=\\sqrt{var}$$\n",
    "$$min:=\\min_{i=1}^nx_i,\\;max:=\\max_{i=1}^nx_i$$\n",
    "$$median:=\\begin{cases}\n",
    "x_{\\left(\\frac{n+1}{2}\\right)} & \\text{si }n\\text{ est impair}\\\\\n",
    "\\frac{x_{\\left(\\frac{n}{2}\\right)}+x_{\\left(\\frac{n}{2}+1\\right)}}{2} & \\text{si }n\\text{ est pair}\n",
    "\\end{cases}$$\n"
   ]
  },
  {
   "cell_type": "code",
   "execution_count": null,
   "metadata": {},
   "outputs": [],
   "source": []
  }
 ],
 "metadata": {
  "kernelspec": {
   "display_name": "Python 3",
   "language": "python",
   "name": "python3"
  },
  "language_info": {
   "codemirror_mode": {
    "name": "ipython",
    "version": 3
   },
   "file_extension": ".py",
   "mimetype": "text/x-python",
   "name": "python",
   "nbconvert_exporter": "python",
   "pygments_lexer": "ipython3",
   "version": "3.9.13"
  }
 },
 "nbformat": 4,
 "nbformat_minor": 2
}
